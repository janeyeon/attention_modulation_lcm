{
 "cells": [
  {
   "cell_type": "markdown",
   "id": "bd28b572-9f18-4ecb-9d00-f20329a95b7d",
   "metadata": {},
   "source": [
    "# Dense diffusion code"
   ]
  },
  {
   "cell_type": "code",
   "execution_count": 1,
   "id": "07061767-b794-4d05-a4a9-566e6bf2aec2",
   "metadata": {
    "tags": []
   },
   "outputs": [],
   "source": [
    "import os\n",
    "import random\n",
    "import pickle\n",
    "import argparse\n",
    "import pdb\n",
    "import datetime\n",
    "import hashlib\n",
    "from collections import defaultdict\n",
    "\n",
    "import numpy as np\n",
    "from PIL import Image\n",
    "from tqdm.auto import tqdm\n",
    "\n",
    "import torch\n",
    "import torch.nn.functional as F\n",
    "from torchvision import transforms\n",
    "import diffusers\n",
    "from diffusers.pipelines.stable_diffusion import StableDiffusionPipeline\n",
    "from diffusers.pipelines import DiffusionPipeline\n",
    "from diffusers import DDIMScheduler, LCMScheduler\n",
    "import transformers\n",
    "from transformers import CLIPTextModel, CLIPTokenizer"
   ]
  },
  {
   "cell_type": "code",
   "execution_count": 2,
   "id": "6dcc3e50-1776-4e35-9d81-c5ca46787654",
   "metadata": {
    "tags": []
   },
   "outputs": [],
   "source": [
    "command = \"--model LCM --batch_size 1 -s 10 --reg_part 0.3 --idx 5 \".split()"
   ]
  },
  {
   "cell_type": "code",
   "execution_count": 3,
   "id": "0f4711c9-4e30-47cc-b518-4a2bf5d608f2",
   "metadata": {
    "tags": []
   },
   "outputs": [],
   "source": [
    "parser = argparse.ArgumentParser()\n",
    "parser.add_argument('--model', type=str, default='LCM', choices=['LCM', 'SD'])\n",
    "parser.add_argument('--batch_size', type=int, default=1)\n",
    "parser.add_argument('--idx', type=int, default=[1], nargs=\"*\",\n",
    "                    help='dense diffusion dataset image mask & caption index')\n",
    "parser.add_argument('-s', '--num_inference_steps', type=int, default=50)\n",
    "parser.add_argument('--reg_part', type=float, default=.3)\n",
    "parser.add_argument('--sreg', type=float, default=.3)\n",
    "parser.add_argument('--creg', type=float, default=1)\n",
    "parser.add_argument('--pow_time', type=float, default=5)\n",
    "parser.add_argument('-w', '--wo_modulation', action=argparse.BooleanOptionalAction, default=False,\n",
    "                    help='when True, run inference without dense diffusion attention manipulation')\n",
    "parser.add_argument('--save_attn', action=argparse.BooleanOptionalAction, default=False)\n",
    "parser.add_argument('--seed', type=int, default=1)\n",
    "parser.add_argument('--debug', type=str)\n",
    "args = parser.parse_args(command)"
   ]
  },
  {
   "cell_type": "code",
   "execution_count": 4,
   "id": "37ff0e79-9383-4571-b9ef-329ff9975950",
   "metadata": {
    "tags": []
   },
   "outputs": [
    {
     "data": {
      "text/plain": [
       "Namespace(model='LCM', batch_size=1, idx=[5], num_inference_steps=10, reg_part=0.3, sreg=0.3, creg=1, pow_time=5, wo_modulation=False, save_attn=False, seed=1, debug=None)"
      ]
     },
     "execution_count": 4,
     "metadata": {},
     "output_type": "execute_result"
    }
   ],
   "source": [
    "args"
   ]
  },
  {
   "cell_type": "code",
   "execution_count": 5,
   "id": "77f09024-d479-4a43-91a8-c29cc08e420e",
   "metadata": {
    "tags": []
   },
   "outputs": [
    {
     "data": {
      "application/vnd.jupyter.widget-view+json": {
       "model_id": "43b43e8e8c7e4a27b301c6c06649cb9c",
       "version_major": 2,
       "version_minor": 0
      },
      "text/plain": [
       "Loading pipeline components...:   0%|          | 0/7 [00:00<?, ?it/s]"
      ]
     },
     "metadata": {},
     "output_type": "display_data"
    },
    {
     "name": "stderr",
     "output_type": "stream",
     "text": [
      "Some weights of StableDiffusionSafetyChecker were not initialized from the model checkpoint at /home01/x2519a05/.cache/huggingface/hub/models--SimianLuo--LCM_Dreamshaper_v7/snapshots/4721097975058205c4edcdece2cc574b7dd7bc04/safety_checker and are newly initialized: ['vision_model.vision_model.embeddings.position_ids']\n",
      "You should probably TRAIN this model on a down-stream task to be able to use it for predictions and inference.\n"
     ]
    },
    {
     "name": "stdout",
     "output_type": "stream",
     "text": [
      "=== Experiment Settings ===\n",
      "- Model: LCM / N inference steps: 10 / Batch size: 1\n",
      "- Regulation part: 0.3 / Self attention regulation: 0.3 / Cross attention regulation: 1 / Time regulation: 5\n",
      "Chosen timesteps: tensor([999, 899, 799, 699, 599, 499, 399, 299, 199,  99], device='cuda:0')\n"
     ]
    }
   ],
   "source": [
    "## Set hyperparameters\n",
    "device= \"cuda\"\n",
    "num_inference_steps = args.num_inference_steps \n",
    "reg_part = args.reg_part if not args.wo_modulation else 0\n",
    "sreg = args.sreg\n",
    "creg = args.creg\n",
    "\n",
    "\n",
    "## Load Model\n",
    "if args.model == 'LCM':\n",
    "    pipe = DiffusionPipeline.from_pretrained(\"SimianLuo/LCM_Dreamshaper_v7\")\n",
    "    pipe.to(device=device, dtype=torch.float16)\n",
    "    num_inference_steps = num_inference_steps\n",
    "    lcm_origin_steps = 50\n",
    "    pipe.scheduler = LCMScheduler.from_config(pipe.scheduler.config)\n",
    "    pipe.scheduler.set_timesteps(num_inference_steps=num_inference_steps,\n",
    "                                 original_inference_steps=lcm_origin_steps,\n",
    "                                 device=device)\n",
    "else:\n",
    "    pipe = diffusers.StableDiffusionPipeline.from_pretrained(\n",
    "        \"runwayml/stable-diffusion-v1-5\",\n",
    "        safety_checker=None,\n",
    "        variant=\"fp16\",\n",
    "        cache_dir='./models/diffusers/'\n",
    "    ).to(device)\n",
    "    pipe.scheduler = DDIMScheduler.from_config(pipe.scheduler.config)\n",
    "    pipe.scheduler.set_timesteps(num_inference_steps)\n",
    "\n",
    "\n",
    "## Set attn modulation variables\n",
    "num_attn_layers = 32\n",
    "timesteps = pipe.scheduler.timesteps\n",
    "sp_sz = pipe.unet.sample_size\n",
    "bsz = args.batch_size\n",
    "\n",
    "mod_counts = []\n",
    "\n",
    "print(\"=== Experiment Settings ===\")\n",
    "print(\"- Model:\", args.model, \"/ N inference steps:\", num_inference_steps, \"/ Batch size:\", bsz)\n",
    "print(\"- Regulation part:\", reg_part, \"/ Self attention regulation:\", sreg, \"/ Cross attention regulation:\", creg, \"/ Time regulation:\", args.pow_time)\n",
    "print(\"Chosen timesteps:\", timesteps)\n",
    "\n",
    "\n",
    "## attention modulation function\n",
    "def mod_forward(self, hidden_states, encoder_hidden_states=None, attention_mask=None, temb=None):\n",
    "    global COUNT, treg, sret, creg, sreg_maps, creg_maps, reg_sizes, text_cond, step_store, attn_stores\n",
    "    STEP = COUNT // 32\n",
    "    if COUNT % 32 == 0 and STEP > 0:\n",
    "        attn_stores.append(step_store)\n",
    "        step_store = {\"down_cross\": [], \"mid_cross\": [], \"up_cross\": [],\n",
    "                      \"down_self\": [],  \"mid_self\": [],  \"up_self\": []}\n",
    "\n",
    "    residual = hidden_states \n",
    "\n",
    "    if self.spatial_norm is not None:\n",
    "        hidden_states = self.spatial_norm(hidden_states, temb)\n",
    "\n",
    "    input_ndim = hidden_states.ndim\n",
    "\n",
    "    if input_ndim == 4:\n",
    "        batch_size, channel, height, width = hidden_states.shape\n",
    "        hidden_states = hidden_states.view(batch_size, channel, height * width).transpose(1, 2)\n",
    "\n",
    "    batch_size, sequence_length, _ = (hidden_states.shape if encoder_hidden_states is None else encoder_hidden_states.shape)\n",
    "    attention_mask = self.prepare_attention_mask(attention_mask, sequence_length, batch_size)\n",
    "\n",
    "    if self.group_norm is not None:\n",
    "        hidden_states = self.group_norm(hidden_states.transpose(1, 2)).transpose(1, 2)\n",
    "\n",
    "    query = self.to_q(hidden_states)\n",
    "\n",
    "    sa_ = True if encoder_hidden_states is None else False\n",
    "    encoder_hidden_states = text_cond if encoder_hidden_states is not None else hidden_states\n",
    "    if self.norm_cross:\n",
    "        encoder_hidden_states = self.norm_encoder_hidden_states(encoder_hidden_states)\n",
    "\n",
    "    key = self.to_k(encoder_hidden_states)\n",
    "    value = self.to_v(encoder_hidden_states)\n",
    "\n",
    "    query = self.head_to_batch_dim(query)\n",
    "    key = self.head_to_batch_dim(key)\n",
    "    value = self.head_to_batch_dim(value)\n",
    "\n",
    "    if sa_ == False and args.model == 'LCM':\n",
    "        key =  key[key.size(0)//2:,  ...]\n",
    "        value = value[value.size(0)//2:,  ...]\n",
    "\n",
    "    # modulate attention with dense diffusion\n",
    "    if (COUNT/num_attn_layers < num_inference_steps*reg_part):\n",
    "        mod_counts.append(COUNT)\n",
    "        dtype = query.dtype\n",
    "        if self.upcast_attention:\n",
    "            query = query.float()\n",
    "            key = key.float()\n",
    "\n",
    "        sim = torch.baddbmm(torch.empty(query.shape[0], query.shape[1], key.shape[1], \n",
    "                                        dtype=query.dtype, device=query.device),\n",
    "                            query, key.transpose(-1, -2), beta=0, alpha=self.scale)\n",
    "        treg = torch.pow(timesteps[COUNT//num_attn_layers]/1000, args.pow_time)\n",
    "        reg_map = sreg_maps if sa_ else creg_maps\n",
    "        w_reg = sreg if sa_ else creg\n",
    "\n",
    "        # manipulate attention\n",
    "        batch_idx = int(sim.size(0)/2) if args.model != 'LCM' else 0 # why do we have to apply below operations for latter half of sim???\n",
    "        min_value = sim[batch_idx:].min(-1)[0].unsqueeze(-1)\n",
    "        max_value = sim[batch_idx:].max(-1)[0].unsqueeze(-1)  \n",
    "        mask = reg_map[sim.size(1)].repeat(self.heads,1,1)\n",
    "        size_reg = reg_sizes[sim.size(1)].repeat(self.heads,1,1)\n",
    "\n",
    "        sim[batch_idx:] += (mask>0)*size_reg*w_reg*treg*(max_value-sim[batch_idx:])\n",
    "        sim[batch_idx:] -= ~(mask>0)*size_reg*w_reg*treg*(sim[batch_idx:]-min_value)\n",
    "\n",
    "        attention_probs = sim.softmax(dim=-1)\n",
    "        attention_probs = attention_probs.to(dtype)\n",
    "    else: # get original attention\n",
    "        attention_probs = self.get_attention_scores(query, key, attention_mask)\n",
    "\n",
    "    COUNT += 1\n",
    "    if args.save_attn and (attention_probs.shape[1] <= 32 ** 2): # save attention in each place(up, down, mid) when attention shape is small\n",
    "        step_store[f\"{self.place_in_unet.lower()}_{'self' if sa_ else 'cross'}\"].append(attention_probs)\n",
    "\n",
    "    #################################################        \n",
    "    hidden_states = torch.bmm(attention_probs, value)\n",
    "    hidden_states = self.batch_to_head_dim(hidden_states)\n",
    "\n",
    "    # linear proj\n",
    "    hidden_states = self.to_out[0](hidden_states)\n",
    "    # dropout\n",
    "    hidden_states = self.to_out[1](hidden_states)\n",
    "\n",
    "    if input_ndim == 4:\n",
    "        hidden_states = hidden_states.transpose(-1, -2).reshape(batch_size, channel, height, width)\n",
    "\n",
    "    if self.residual_connection:\n",
    "        hidden_states = hidden_states + residual\n",
    "\n",
    "    hidden_states = hidden_states / self.rescale_output_factor\n",
    "\n",
    "    return hidden_states\n",
    "\n",
    "\n",
    "## change call function of attn layers in Unet \n",
    "for _module in pipe.unet.modules():\n",
    "    n = _module.__class__.__name__\n",
    "    if 'CrossAttn' in n:\n",
    "        for place in ['Up', 'Down', 'Mid']:\n",
    "            if place in n:\n",
    "                curr_place = place\n",
    "\n",
    "    if n == \"Attention\":\n",
    "        _module.__class__.__call__ = mod_forward\n",
    "        _module.place_in_unet = curr_place\n",
    "\n",
    "\n",
    "## Load naver-ai/DenseDiffusion dataset\n",
    "with open('./dataset/valset.pkl', 'rb') as f:\n",
    "    dataset = pickle.load(f)\n",
    "layout_img_root = './dataset/valset_layout/'\n",
    "\n",
    "\n",
    "## Main function which generates modulated image\n",
    "def generate_index_img(idx):\n",
    "    global COUNT, treg, sret, creg, sreg_maps, creg_maps, reg_sizes, text_cond, step_store, attn_stores\n",
    "\n",
    "    layout_img_path = layout_img_root+str(idx)+'.png'\n",
    "    prompts = [dataset[idx]['textual_condition']] + dataset[idx]['segment_descriptions']\n",
    "    prompts_idx[idx] = prompts[0]\n",
    "    ## prepare text condition embeddings\n",
    "    ############\n",
    "    text_input = pipe.tokenizer(prompts, padding=\"max_length\", return_length=True, return_overflowing_tokens=False, \n",
    "                                max_length=pipe.tokenizer.model_max_length, truncation=True, return_tensors=\"pt\")\n",
    "    cond_embeddings = pipe.text_encoder(text_input.input_ids.to(device))[0]\n",
    "\n",
    "    uncond_input = pipe.tokenizer([\"\"]*bsz, padding=\"max_length\", max_length=pipe.tokenizer.model_max_length,\n",
    "                                  truncation=True, return_tensors=\"pt\")\n",
    "    uncond_embeddings = pipe.text_encoder(uncond_input.input_ids.to(device))[0]\n",
    "\n",
    "    for i in range(1,len(prompts)):\n",
    "        wlen = text_input['length'][i] - 2\n",
    "        widx = text_input['input_ids'][i][1:1+wlen]\n",
    "        for j in range(77):\n",
    "            if (text_input['input_ids'][0][j:j+wlen] == widx).sum() == wlen:\n",
    "                break\n",
    "\n",
    "    ## set layout image masks\n",
    "    ############\n",
    "    layout_img_ = np.asarray(Image.open(layout_img_path).resize([sp_sz*8,sp_sz*8]))[:,:,:3]\n",
    "    unique, counts = np.unique(np.reshape(layout_img_,(-1,3)), axis=0, return_counts=True)\n",
    "    sorted_idx = np.argsort(-counts)\n",
    "\n",
    "    layouts_ = []\n",
    "\n",
    "    for i in range(len(prompts)-1):\n",
    "        if (unique[sorted_idx[i]] == [0, 0, 0]).all() or (unique[sorted_idx[i]] == [255, 255, 255]).all():\n",
    "            layouts_ = [((layout_img_ == unique[sorted_idx[i]]).sum(-1)==3).astype(np.uint8)] + layouts_\n",
    "        else:\n",
    "            layouts_.append(((layout_img_ == unique[sorted_idx[i]]).sum(-1)==3).astype(np.uint8))\n",
    "\n",
    "    layouts = [torch.FloatTensor(l).unsqueeze(0).unsqueeze(0).cuda() for l in layouts_]\n",
    "    layouts = F.interpolate(torch.cat(layouts),(sp_sz,sp_sz),mode='nearest')\n",
    "\n",
    "    ############\n",
    "    print('\\n'.join(prompts))\n",
    "    Image.fromarray(np.concatenate([255*_.squeeze().cpu().numpy() for _ in layouts], 1).astype(np.uint8))\n",
    "\n",
    "    ###########################\n",
    "    ###### prep for sreg ###### \n",
    "    ###########################\n",
    "    sreg_maps = {}\n",
    "    reg_sizes = {}\n",
    "    for r in range(4):\n",
    "        res = int(sp_sz/np.power(2,r))\n",
    "        layouts_s = F.interpolate(layouts,(res, res),mode='nearest')\n",
    "        layouts_s = (layouts_s.view(layouts_s.size(0),1,-1)*layouts_s.view(layouts_s.size(0),-1,1)).sum(0).unsqueeze(0).repeat(bsz,1,1)\n",
    "        reg_sizes[np.power(res, 2)] = 1-1.*layouts_s.sum(-1, keepdim=True)/(np.power(res, 2))\n",
    "        sreg_maps[np.power(res, 2)] = layouts_s\n",
    "\n",
    "\n",
    "    ###########################\n",
    "    ###### prep for creg ######\n",
    "    ###########################\n",
    "    pww_maps = torch.zeros(1, 77, sp_sz, sp_sz).to(device)\n",
    "    for i in range(1,len(prompts)):\n",
    "        wlen = text_input['length'][i] - 2\n",
    "        widx = text_input['input_ids'][i][1:1+wlen]\n",
    "        for j in range(77):\n",
    "            if (text_input['input_ids'][0][j:j+wlen] == widx).sum() == wlen:\n",
    "                pww_maps[:,j:j+wlen,:,:] = layouts[i-1:i]\n",
    "                cond_embeddings[0][j:j+wlen] = cond_embeddings[i][1:1+wlen]\n",
    "                print(prompts[i], i, '-th segment is handled.')\n",
    "                break\n",
    "\n",
    "    creg_maps = {}\n",
    "    for r in range(4):\n",
    "        res = int(sp_sz/np.power(2,r))\n",
    "        layout_c = F.interpolate(pww_maps,(res,res),mode='nearest').view(1,77,-1).permute(0,2,1).repeat(bsz,1,1)\n",
    "        creg_maps[np.power(res, 2)] = layout_c\n",
    "\n",
    "\n",
    "    ###########################    \n",
    "    #### prep for text_emb ####\n",
    "    ###########################\n",
    "    text_cond = torch.cat([uncond_embeddings, cond_embeddings[:1].repeat(bsz,1,1)])\n",
    "\n",
    "    ## generate images\n",
    "    COUNT = 0\n",
    "    attn_stores = []\n",
    "    step_store = {\"down_cross\": [], \"mid_cross\": [], \"up_cross\": [],\n",
    "                  \"down_self\": [],  \"mid_self\": [],  \"up_self\": []}\n",
    "\n",
    "    with torch.no_grad():\n",
    "        latents = torch.randn(bsz,4,sp_sz,sp_sz, generator=torch.Generator().manual_seed(args.seed)).to(device) \n",
    "        if args.model == 'LCM':\n",
    "            with torch.autocast('cuda'):\n",
    "                image = pipe(prompts[:1]*bsz, latents=latents,\n",
    "                             num_inference_steps=num_inference_steps,\n",
    "                             lcm_origin_steps=lcm_origin_steps,\n",
    "                             guidance_scale=8.0).images\n",
    "        else:\n",
    "            image = pipe(prompts[:1]*bsz, latents=latents).images\n",
    "\n",
    "    imgs = [ Image.fromarray(np.asarray(image[i])) for i in range(len(image)) ]\n",
    "    if imgs[0].size[0] > 512:\n",
    "        imgs = [ x.resize((512,512)) for x in imgs ]\n",
    "    \n",
    "    \n",
    "    imgs_idx[idx].append(imgs)\n",
    "    attentions_idx[idx].append(attn_stores)\n",
    "    if args.debug:\n",
    "        return \n",
    "        \n",
    "    img = Image.fromarray(np.concatenate([layout_img_.astype(np.uint8)]+[np.asarray(image[i]) for i in range(len(image))], 1))"
   ]
  },
  {
   "cell_type": "code",
   "execution_count": null,
   "id": "0bf4a4e1-43d3-4ef6-9509-deda26ef76bc",
   "metadata": {},
   "outputs": [],
   "source": [
    "imgs_idx = dict()\n",
    "attentions_idx = defaultdict(list)\n",
    "prompts_idx = defaultdict(list)\n",
    "for i in args.idx:\n",
    "    print(f\"=== Generate image for index {i} ===\")\n",
    "    generate_index_img(i)"
   ]
  },
  {
   "cell_type": "code",
   "execution_count": 18,
   "id": "9de4a5e7-9c03-4300-b9fb-35dda4cea79a",
   "metadata": {
    "tags": []
   },
   "outputs": [],
   "source": [
    "import numpy as np\n",
    "import torch\n",
    "from PIL import Image, ImageDraw, ImageFont\n",
    "import cv2\n",
    "from typing import Optional, Union, Tuple, List, Callable, Dict\n",
    "from IPython.display import display\n",
    "from tqdm.notebook import tqdm\n",
    "import diffusers\n",
    "import matplotlib.pyplot as plt\n",
    "import inspect\n",
    "\n",
    "def text_under_image(image: np.ndarray, text: str, text_color: Tuple[int, int, int] = (0, 0, 0)):\n",
    "    h, w, c = image.shape\n",
    "    offset = int(h * .2)\n",
    "    img = np.ones((h + offset, w, c), dtype=np.uint8) * 255\n",
    "    font = cv2.FONT_HERSHEY_SIMPLEX\n",
    "    img[:h] = image\n",
    "    textsize = cv2.getTextSize(text, font, 1, 2)[0]\n",
    "    text_x, text_y = (w - textsize[0]) // 2, h + offset - textsize[1] // 2\n",
    "    cv2.putText(img, text, (text_x, text_y ), font, 1, text_color, 2)\n",
    "    return img\n",
    "\n",
    "\n",
    "def view_images(images, num_rows=1, offset_ratio=0.02):\n",
    "    if type(images) is list:\n",
    "        num_empty = len(images) % num_rows\n",
    "    elif images.ndim == 4:\n",
    "        num_empty = images.shape[0] % num_rows\n",
    "    else:\n",
    "        images = [images]\n",
    "        num_empty = 0\n",
    "\n",
    "    empty_images = np.ones(images[0].shape, dtype=np.uint8) * 255\n",
    "    images = [image.astype(np.uint8) for image in images] + [empty_images] * num_empty\n",
    "    num_items = len(images)\n",
    "\n",
    "    h, w, c = images[0].shape\n",
    "    offset = int(h * offset_ratio)\n",
    "    num_cols = num_items // num_rows\n",
    "    image_ = np.ones((h * num_rows + offset * (num_rows - 1),\n",
    "                      w * num_cols + offset * (num_cols - 1), 3), dtype=np.uint8) * 255\n",
    "    for i in range(num_rows):\n",
    "        for j in range(num_cols):\n",
    "            image_[i * (h + offset): i * (h + offset) + h:, j * (w + offset): j * (w + offset) + w] = images[\n",
    "                i * num_cols + j]\n",
    "\n",
    "    pil_img = Image.fromarray(image_)\n",
    "    # display(pil_img)\n",
    "    return pil_img"
   ]
  },
  {
   "cell_type": "code",
   "execution_count": 70,
   "id": "5d059335-a121-4449-9eda-921d5879ee75",
   "metadata": {
    "tags": []
   },
   "outputs": [],
   "source": [
    "def aggregate_attention(attention_store, prompts, res:int, from_where: List[str], is_cross: bool, select: int):\n",
    "    out = []\n",
    "    num_pixels = res ** 2\n",
    "    for location in from_where:\n",
    "        for item in attention_store[f\"{location}_{'cross' if is_cross else 'self'}\"]:\n",
    "            if item.shape[1] == num_pixels:\n",
    "                cross_maps = item.reshape(1, -1, res, res, item.shape[-1])[0]\n",
    "                out.append(cross_maps) \n",
    "    out = torch.cat(out, dim=0)\n",
    "    out = out.sum(0) / out.shape[0]\n",
    "    \n",
    "    return out.cpu()"
   ]
  },
  {
   "cell_type": "code",
   "execution_count": 92,
   "id": "b51f5809-df96-407e-9c02-fdb6121c41d6",
   "metadata": {
    "tags": []
   },
   "outputs": [],
   "source": [
    "def is_common_words(text):\n",
    "    cws = ['a', 'an', 'the', 'in', 'for', 'of', '.', ',',\n",
    "          '<|startoftext|>', '<|endoftext|>']\n",
    "    return (text in cws)\n",
    "\n",
    "def show_cross_attention(attention_store, prompts, res:int, from_where: List[str], select: int = 0, num_rows=1):\n",
    "    tokens = pipe.tokenizer.encode(prompts)\n",
    "    decoder = pipe.tokenizer.decode\n",
    "    attention_maps = aggregate_attention(attention_store, prompts, res, from_where, True, select)\n",
    "    images = []\n",
    "    for i in range(len(tokens)):\n",
    "        text = decoder(int(tokens[i]))\n",
    "        if is_common_words(text):\n",
    "            continue\n",
    "        image = attention_maps[:, :, i]\n",
    "        image = 255 * image / image.max()\n",
    "        image = image.unsqueeze(-1).expand(*image.shape, 3)\n",
    "        image = image.numpy().astype(np.uint8)\n",
    "        image = np.array(Image.fromarray(image).resize((256, 256)))\n",
    "        image = text_under_image(image, decoder(int(tokens[i])))\n",
    "        images.append(image)\n",
    "        \n",
    "    return view_images(np.stack(images, axis=0), num_rows)"
   ]
  },
  {
   "cell_type": "code",
   "execution_count": 93,
   "id": "2cd1a0f3-a2ff-4881-b36a-cfda65cc52bb",
   "metadata": {
    "tags": []
   },
   "outputs": [],
   "source": [
    "def show_self_attention_comp(attention_store, prompts, res:int, from_where: List[str], select: int = 0, num_rows=1, max_com=10):\n",
    "    attention_maps = aggregate_attention(attention_store, prompts, res, from_where, False, select)\n",
    "    attention_maps = attention_maps.numpy().reshape((res ** 2, res ** 2)).astype(float)\n",
    "    u, s, vh = np.linalg.svd(attention_maps - np.mean(attention_maps, axis=1, keepdims=True))\n",
    "    images = []\n",
    "    for i in range(max_com):\n",
    "        image = vh[i].reshape(res, res)\n",
    "        image = image - image.min()\n",
    "        image = 255 * image / image.max()\n",
    "        image = np.repeat(np.expand_dims(image, axis=2), 3, axis=2).astype(np.uint8)\n",
    "        image = Image.fromarray(image).resize((256, 256))\n",
    "        image = np.array(image)\n",
    "        images.append(image)\n",
    "\n",
    "    return view_images(np.concatenate(images, axis=1), 1)"
   ]
  },
  {
   "cell_type": "code",
   "execution_count": 94,
   "id": "1e3fe6d0-17f4-4ec1-9d41-fcec1ebe1eb4",
   "metadata": {
    "tags": []
   },
   "outputs": [],
   "source": [
    "def get_attention_timesteps(attention_store_timestep, prompts, res, from_where, select, num_rows):\n",
    "    cross_attns = []\n",
    "    self_attns = []\n",
    "    for attention_store in attention_store_timestep:\n",
    "        cross_attns.append(show_cross_attention(attention_store, prompts, res, from_where, select, num_rows))\n",
    "        self_attns.append(show_self_attention_comp(attention_store, prompts, res, from_where, select, num_rows))     \n",
    "    \n",
    "    return cross_attns, self_attns"
   ]
  },
  {
   "cell_type": "markdown",
   "id": "1915f77d-033e-40be-a0de-f8176c5a2a5e",
   "metadata": {},
   "source": [
    "# Evaluate metrics\n",
    "\n",
    "- https://huggingface.co/docs/diffusers/conceptual/evaluation\n",
    "\n",
    "To calculate CLIP scores, we need to make prompts.  \n",
    "Dense diffusion validtaion dataset have 20 image & prompts.  \n",
    "Is it enought amount to report performance?  "
   ]
  },
  {
   "cell_type": "code",
   "execution_count": 6,
   "id": "ad86bb7b-6a2d-4a52-a37c-2456fb3ff6e6",
   "metadata": {
    "collapsed": true,
    "jupyter": {
     "outputs_hidden": true
    },
    "tags": []
   },
   "outputs": [
    {
     "name": "stdout",
     "output_type": "stream",
     "text": [
      "=== Seed: 1 ===\n",
      "=== Generate image for index 0 ===\n",
      "There is a cute monkey on a thick branch who is holding a pink rose. It is on the top of a huge tree, and the sky is so wide and blue.\n",
      "the sky is so wide and blue\n",
      "a huge tree\n",
      "a thick branch\n",
      "a cute monkey\n",
      "a pink rose\n",
      "the sky is so wide and blue 1 -th segment is handled.\n",
      "a huge tree 2 -th segment is handled.\n",
      "a thick branch 3 -th segment is handled.\n",
      "a cute monkey 4 -th segment is handled.\n",
      "a pink rose 5 -th segment is handled.\n"
     ]
    },
    {
     "data": {
      "application/vnd.jupyter.widget-view+json": {
       "model_id": "8821b626b54646fa9bdb98c0c35fcefe",
       "version_major": 2,
       "version_minor": 0
      },
      "text/plain": [
       "  0%|          | 0/10 [00:00<?, ?it/s]"
      ]
     },
     "metadata": {},
     "output_type": "display_data"
    },
    {
     "name": "stdout",
     "output_type": "stream",
     "text": [
      "=== Generate image for index 1 ===\n",
      "A painting of a dog riding a flying bicycle, over a big city with a yellowish full moon in the night sky.\n",
      "the night sky\n",
      "a big city\n",
      "a dog riding a flying bicycle\n",
      "a yellowish full moon\n",
      "the night sky 1 -th segment is handled.\n",
      "a big city 2 -th segment is handled.\n",
      "a dog riding a flying bicycle 3 -th segment is handled.\n",
      "a yellowish full moon 4 -th segment is handled.\n"
     ]
    },
    {
     "data": {
      "application/vnd.jupyter.widget-view+json": {
       "model_id": "7eb44c8a27c643959d090cbe0b603389",
       "version_major": 2,
       "version_minor": 0
      },
      "text/plain": [
       "  0%|          | 0/10 [00:00<?, ?it/s]"
      ]
     },
     "metadata": {},
     "output_type": "display_data"
    },
    {
     "name": "stdout",
     "output_type": "stream",
     "text": [
      "=== Generate image for index 2 ===\n",
      "a blue koala is reading a book next to a pile of colorful books in the jungle.\n",
      "in the jungle\n",
      "a pile of colorful books\n",
      "a blue koala\n",
      "in the jungle 1 -th segment is handled.\n",
      "a pile of colorful books 2 -th segment is handled.\n",
      "a blue koala 3 -th segment is handled.\n"
     ]
    },
    {
     "data": {
      "application/vnd.jupyter.widget-view+json": {
       "model_id": "63d75613dc00423d9a5b46063201a7b8",
       "version_major": 2,
       "version_minor": 0
      },
      "text/plain": [
       "  0%|          | 0/10 [00:00<?, ?it/s]"
      ]
     },
     "metadata": {},
     "output_type": "display_data"
    },
    {
     "name": "stdout",
     "output_type": "stream",
     "text": [
      "=== Generate image for index 3 ===\n",
      "there are a robot made of gold and a robot made of silver are standing on an exotic planet with a red butterfly flying around them.\n",
      "on an exotic planet\n",
      "a robot made of gold\n",
      "a robot made of silver\n",
      "a red butterfly\n",
      "on an exotic planet 1 -th segment is handled.\n",
      "a robot made of gold 2 -th segment is handled.\n",
      "a robot made of silver 3 -th segment is handled.\n",
      "a red butterfly 4 -th segment is handled.\n"
     ]
    },
    {
     "data": {
      "application/vnd.jupyter.widget-view+json": {
       "model_id": "7953347554f7494e8c1bef9a595be6a3",
       "version_major": 2,
       "version_minor": 0
      },
      "text/plain": [
       "  0%|          | 0/10 [00:00<?, ?it/s]"
      ]
     },
     "metadata": {},
     "output_type": "display_data"
    },
    {
     "name": "stdout",
     "output_type": "stream",
     "text": [
      "=== Generate image for index 4 ===\n",
      "a painting of a rabbit drinking a cup of coffee next to a fireplace in the rustic wooden house.\n",
      "the rustic wooden house\n",
      "a rabbit drinking a cup of coffee\n",
      "a fireplace\n",
      "the rustic wooden house 1 -th segment is handled.\n",
      "a rabbit drinking a cup of coffee 2 -th segment is handled.\n",
      "a fireplace 3 -th segment is handled.\n"
     ]
    },
    {
     "data": {
      "application/vnd.jupyter.widget-view+json": {
       "model_id": "3ba998e291d146a2b6970169997c652c",
       "version_major": 2,
       "version_minor": 0
      },
      "text/plain": [
       "  0%|          | 0/10 [00:00<?, ?it/s]"
      ]
     },
     "metadata": {},
     "output_type": "display_data"
    },
    {
     "name": "stdout",
     "output_type": "stream",
     "text": [
      "=== Generate image for index 5 ===\n",
      "A painting of a couple holding a yellow umbrella in a street on a rainy night. The woman is wearing a white dress and the man is wearing a blue suit.\n",
      "a street on a rainy night\n",
      "the man is wearing a blue suit\n",
      "a yellow umbrella\n",
      "the woman is wearing a white dress\n",
      "a street on a rainy night 1 -th segment is handled.\n",
      "the man is wearing a blue suit 2 -th segment is handled.\n",
      "a yellow umbrella 3 -th segment is handled.\n",
      "the woman is wearing a white dress 4 -th segment is handled.\n"
     ]
    },
    {
     "data": {
      "application/vnd.jupyter.widget-view+json": {
       "model_id": "4e75e75f3e844d0b8382ef592fc82eb6",
       "version_major": 2,
       "version_minor": 0
      },
      "text/plain": [
       "  0%|          | 0/10 [00:00<?, ?it/s]"
      ]
     },
     "metadata": {},
     "output_type": "display_data"
    },
    {
     "name": "stdout",
     "output_type": "stream",
     "text": [
      "=== Generate image for index 6 ===\n",
      "A picture of a squirrel holding a sign with an apple painting at the desert.\n",
      "at the desert\n",
      "a squirrel\n",
      "a sign with an apple painting\n",
      "at the desert 1 -th segment is handled.\n",
      "a squirrel 2 -th segment is handled.\n",
      "a sign with an apple painting 3 -th segment is handled.\n"
     ]
    },
    {
     "data": {
      "application/vnd.jupyter.widget-view+json": {
       "model_id": "d4d29a1655cb44199495c88208af4d03",
       "version_major": 2,
       "version_minor": 0
      },
      "text/plain": [
       "  0%|          | 0/10 [00:00<?, ?it/s]"
      ]
     },
     "metadata": {},
     "output_type": "display_data"
    },
    {
     "name": "stdout",
     "output_type": "stream",
     "text": [
      "=== Generate image for index 7 ===\n",
      "A lion is reading a book at the beach.\n",
      "the beach\n",
      "a lion\n",
      "a book\n",
      "the beach 1 -th segment is handled.\n",
      "a lion 2 -th segment is handled.\n",
      "a book 3 -th segment is handled.\n"
     ]
    },
    {
     "data": {
      "application/vnd.jupyter.widget-view+json": {
       "model_id": "f8592b5982744e8c9a022dde3a1a2ba7",
       "version_major": 2,
       "version_minor": 0
      },
      "text/plain": [
       "  0%|          | 0/10 [00:00<?, ?it/s]"
      ]
     },
     "metadata": {},
     "output_type": "display_data"
    },
    {
     "name": "stdout",
     "output_type": "stream",
     "text": [
      "=== Generate image for index 8 ===\n",
      "a black elephant near a lake.\n",
      "\n",
      "a black elephant\n",
      " 1 -th segment is handled.\n",
      "a black elephant 2 -th segment is handled.\n"
     ]
    },
    {
     "data": {
      "application/vnd.jupyter.widget-view+json": {
       "model_id": "76e001b67e434672b981e9a23b3b2034",
       "version_major": 2,
       "version_minor": 0
      },
      "text/plain": [
       "  0%|          | 0/10 [00:00<?, ?it/s]"
      ]
     },
     "metadata": {},
     "output_type": "display_data"
    },
    {
     "name": "stdout",
     "output_type": "stream",
     "text": [
      "=== Generate image for index 9 ===\n",
      "a mouse wearing boxing gloves is hitting a black punching bag on a snowy day.\n",
      "on a snowy day\n",
      "a mouse\n",
      "a black punching bag\n",
      "boxing gloves\n",
      "on a snowy day 1 -th segment is handled.\n",
      "a mouse 2 -th segment is handled.\n",
      "a black punching bag 3 -th segment is handled.\n",
      "boxing gloves 4 -th segment is handled.\n"
     ]
    },
    {
     "data": {
      "application/vnd.jupyter.widget-view+json": {
       "model_id": "e946c09adfc54b7fbef0e3bf9d8de319",
       "version_major": 2,
       "version_minor": 0
      },
      "text/plain": [
       "  0%|          | 0/10 [00:00<?, ?it/s]"
      ]
     },
     "metadata": {},
     "output_type": "display_data"
    },
    {
     "name": "stdout",
     "output_type": "stream",
     "text": [
      "=== Generate image for index 10 ===\n",
      "a painting of a red car in front of a snowy mountain.\n",
      "\n",
      "a snowy mountain\n",
      "a red car\n",
      " 1 -th segment is handled.\n",
      "a snowy mountain 2 -th segment is handled.\n",
      "a red car 3 -th segment is handled.\n"
     ]
    },
    {
     "data": {
      "application/vnd.jupyter.widget-view+json": {
       "model_id": "c540d61b3f634c028ee9262405b3167b",
       "version_major": 2,
       "version_minor": 0
      },
      "text/plain": [
       "  0%|          | 0/10 [00:00<?, ?it/s]"
      ]
     },
     "metadata": {},
     "output_type": "display_data"
    },
    {
     "name": "stdout",
     "output_type": "stream",
     "text": [
      "=== Generate image for index 11 ===\n",
      "a mirror, a white sink and a vase with red flowers in a bathroom with an artificial light.\n",
      "\n",
      "a mirror\n",
      "a white sink\n",
      "a vase with red flowers\n",
      " 1 -th segment is handled.\n",
      "a mirror 2 -th segment is handled.\n",
      "a white sink 3 -th segment is handled.\n",
      "a vase with red flowers 4 -th segment is handled.\n"
     ]
    },
    {
     "data": {
      "application/vnd.jupyter.widget-view+json": {
       "model_id": "fa49812682eb462fb3fb9b56ab52f6a3",
       "version_major": 2,
       "version_minor": 0
      },
      "text/plain": [
       "  0%|          | 0/10 [00:00<?, ?it/s]"
      ]
     },
     "metadata": {},
     "output_type": "display_data"
    },
    {
     "name": "stdout",
     "output_type": "stream",
     "text": [
      "=== Generate image for index 12 ===\n",
      "A grizzly bear is looking at a huge avocado near a river.\n",
      "near a river\n",
      "a grizzly bear\n",
      "a huge avocado\n",
      "near a river 1 -th segment is handled.\n",
      "a grizzly bear 2 -th segment is handled.\n",
      "a huge avocado 3 -th segment is handled.\n"
     ]
    },
    {
     "data": {
      "application/vnd.jupyter.widget-view+json": {
       "model_id": "4095ebdc1df948ca9f4a1ca9767a8b2d",
       "version_major": 2,
       "version_minor": 0
      },
      "text/plain": [
       "  0%|          | 0/10 [00:00<?, ?it/s]"
      ]
     },
     "metadata": {},
     "output_type": "display_data"
    },
    {
     "name": "stdout",
     "output_type": "stream",
     "text": [
      "=== Generate image for index 13 ===\n",
      "A picture of a German Shepherd dog and a Husky dog on a sunny day after the snow.\n",
      "a sunny day after the snow\n",
      "a German Shepherd dog\n",
      "a Husky dog\n",
      "a sunny day after the snow 1 -th segment is handled.\n",
      "a German Shepherd dog 2 -th segment is handled.\n",
      "a Husky dog 3 -th segment is handled.\n"
     ]
    },
    {
     "data": {
      "application/vnd.jupyter.widget-view+json": {
       "model_id": "65f8b4fa82bb4e0d9c19e56cea76aa61",
       "version_major": 2,
       "version_minor": 0
      },
      "text/plain": [
       "  0%|          | 0/10 [00:00<?, ?it/s]"
      ]
     },
     "metadata": {},
     "output_type": "display_data"
    },
    {
     "name": "stdout",
     "output_type": "stream",
     "text": [
      "=== Generate image for index 14 ===\n",
      "A red Ferrari car driving on a gravel road in a forest with rainbow beams in the distance.\n",
      "forest\n",
      "a gravel road\n",
      "rainbow beams\n",
      "a red Ferrari car\n",
      "forest 1 -th segment is handled.\n",
      "a gravel road 2 -th segment is handled.\n",
      "rainbow beams 3 -th segment is handled.\n",
      "a red Ferrari car 4 -th segment is handled.\n"
     ]
    },
    {
     "data": {
      "application/vnd.jupyter.widget-view+json": {
       "model_id": "be579b4bda1849d683e77d520a1be12d",
       "version_major": 2,
       "version_minor": 0
      },
      "text/plain": [
       "  0%|          | 0/10 [00:00<?, ?it/s]"
      ]
     },
     "metadata": {},
     "output_type": "display_data"
    },
    {
     "name": "stdout",
     "output_type": "stream",
     "text": [
      "=== Generate image for index 15 ===\n",
      "A painting of a black horse under a red full moon, in the style of The Starry Night.\n",
      "in the style of The Starry Night\n",
      "a black horse\n",
      "a red full moon\n",
      "in the style of The Starry Night 1 -th segment is handled.\n",
      "a black horse 2 -th segment is handled.\n",
      "a red full moon 3 -th segment is handled.\n"
     ]
    },
    {
     "data": {
      "application/vnd.jupyter.widget-view+json": {
       "model_id": "0514b49c26374fbea6b3d3ad3e80f153",
       "version_major": 2,
       "version_minor": 0
      },
      "text/plain": [
       "  0%|          | 0/10 [00:00<?, ?it/s]"
      ]
     },
     "metadata": {},
     "output_type": "display_data"
    },
    {
     "name": "stdout",
     "output_type": "stream",
     "text": [
      "=== Generate image for index 16 ===\n",
      "There is a blue bowl on a wooden table, and a picture on the wall in a room with sunlight.\n",
      "a room with sunlight\n",
      "a wooden table\n",
      "a picture on the wall\n",
      "a blue bowl\n",
      "a room with sunlight 1 -th segment is handled.\n",
      "a wooden table 2 -th segment is handled.\n",
      "a picture on the wall 3 -th segment is handled.\n",
      "a blue bowl 4 -th segment is handled.\n"
     ]
    },
    {
     "data": {
      "application/vnd.jupyter.widget-view+json": {
       "model_id": "3c529f1e92a24578bc28a1fd14ae2933",
       "version_major": 2,
       "version_minor": 0
      },
      "text/plain": [
       "  0%|          | 0/10 [00:00<?, ?it/s]"
      ]
     },
     "metadata": {},
     "output_type": "display_data"
    },
    {
     "name": "stdout",
     "output_type": "stream",
     "text": [
      "=== Generate image for index 17 ===\n",
      "a picture of a horse, and an astronaut, on the moon.\n",
      "on the moon\n",
      "an astronaut\n",
      "a horse\n",
      "on the moon 1 -th segment is handled.\n",
      "an astronaut 2 -th segment is handled.\n",
      "a horse 3 -th segment is handled.\n"
     ]
    },
    {
     "data": {
      "application/vnd.jupyter.widget-view+json": {
       "model_id": "7a6f6c70f9d541b0ba0ea8bec46b5e62",
       "version_major": 2,
       "version_minor": 0
      },
      "text/plain": [
       "  0%|          | 0/10 [00:00<?, ?it/s]"
      ]
     },
     "metadata": {},
     "output_type": "display_data"
    },
    {
     "name": "stdout",
     "output_type": "stream",
     "text": [
      "=== Generate image for index 18 ===\n",
      "a black cat with a red sweater and a blue jeans in the forest.\n",
      "in the forest\n",
      "a black cat with a red sweater and a blue jeans\n",
      "in the forest 1 -th segment is handled.\n",
      "a black cat with a red sweater and a blue jeans 2 -th segment is handled.\n"
     ]
    },
    {
     "data": {
      "application/vnd.jupyter.widget-view+json": {
       "model_id": "e784e1f9707344bc9a2b1e941abc6e8e",
       "version_major": 2,
       "version_minor": 0
      },
      "text/plain": [
       "  0%|          | 0/10 [00:00<?, ?it/s]"
      ]
     },
     "metadata": {},
     "output_type": "display_data"
    },
    {
     "name": "stdout",
     "output_type": "stream",
     "text": [
      "=== Generate image for index 19 ===\n",
      "A picture of a juggling bear at the beach.\n",
      "the beach\n",
      "a juggling bear\n",
      "the beach 1 -th segment is handled.\n",
      "a juggling bear 2 -th segment is handled.\n"
     ]
    },
    {
     "data": {
      "application/vnd.jupyter.widget-view+json": {
       "model_id": "880246c9a1fc401bbd91119872697791",
       "version_major": 2,
       "version_minor": 0
      },
      "text/plain": [
       "  0%|          | 0/10 [00:00<?, ?it/s]"
      ]
     },
     "metadata": {},
     "output_type": "display_data"
    },
    {
     "name": "stdout",
     "output_type": "stream",
     "text": [
      "=== Seed: 2 ===\n",
      "=== Generate image for index 0 ===\n",
      "There is a cute monkey on a thick branch who is holding a pink rose. It is on the top of a huge tree, and the sky is so wide and blue.\n",
      "the sky is so wide and blue\n",
      "a huge tree\n",
      "a thick branch\n",
      "a cute monkey\n",
      "a pink rose\n",
      "the sky is so wide and blue 1 -th segment is handled.\n",
      "a huge tree 2 -th segment is handled.\n",
      "a thick branch 3 -th segment is handled.\n",
      "a cute monkey 4 -th segment is handled.\n",
      "a pink rose 5 -th segment is handled.\n"
     ]
    },
    {
     "data": {
      "application/vnd.jupyter.widget-view+json": {
       "model_id": "750a6f78b7f74617b43a3aa37db139f9",
       "version_major": 2,
       "version_minor": 0
      },
      "text/plain": [
       "  0%|          | 0/10 [00:00<?, ?it/s]"
      ]
     },
     "metadata": {},
     "output_type": "display_data"
    },
    {
     "name": "stdout",
     "output_type": "stream",
     "text": [
      "=== Generate image for index 1 ===\n",
      "A painting of a dog riding a flying bicycle, over a big city with a yellowish full moon in the night sky.\n",
      "the night sky\n",
      "a big city\n",
      "a dog riding a flying bicycle\n",
      "a yellowish full moon\n",
      "the night sky 1 -th segment is handled.\n",
      "a big city 2 -th segment is handled.\n",
      "a dog riding a flying bicycle 3 -th segment is handled.\n",
      "a yellowish full moon 4 -th segment is handled.\n"
     ]
    },
    {
     "data": {
      "application/vnd.jupyter.widget-view+json": {
       "model_id": "b6f27d6585264792b9dc46bb46bb6655",
       "version_major": 2,
       "version_minor": 0
      },
      "text/plain": [
       "  0%|          | 0/10 [00:00<?, ?it/s]"
      ]
     },
     "metadata": {},
     "output_type": "display_data"
    },
    {
     "name": "stdout",
     "output_type": "stream",
     "text": [
      "=== Generate image for index 2 ===\n",
      "a blue koala is reading a book next to a pile of colorful books in the jungle.\n",
      "in the jungle\n",
      "a pile of colorful books\n",
      "a blue koala\n",
      "in the jungle 1 -th segment is handled.\n",
      "a pile of colorful books 2 -th segment is handled.\n",
      "a blue koala 3 -th segment is handled.\n"
     ]
    },
    {
     "data": {
      "application/vnd.jupyter.widget-view+json": {
       "model_id": "f005c598114141c6ba8884aebeae9b13",
       "version_major": 2,
       "version_minor": 0
      },
      "text/plain": [
       "  0%|          | 0/10 [00:00<?, ?it/s]"
      ]
     },
     "metadata": {},
     "output_type": "display_data"
    },
    {
     "name": "stdout",
     "output_type": "stream",
     "text": [
      "=== Generate image for index 3 ===\n",
      "there are a robot made of gold and a robot made of silver are standing on an exotic planet with a red butterfly flying around them.\n",
      "on an exotic planet\n",
      "a robot made of gold\n",
      "a robot made of silver\n",
      "a red butterfly\n",
      "on an exotic planet 1 -th segment is handled.\n",
      "a robot made of gold 2 -th segment is handled.\n",
      "a robot made of silver 3 -th segment is handled.\n",
      "a red butterfly 4 -th segment is handled.\n"
     ]
    },
    {
     "data": {
      "application/vnd.jupyter.widget-view+json": {
       "model_id": "1e447bed0b6d48bfa6e4a1184b93d218",
       "version_major": 2,
       "version_minor": 0
      },
      "text/plain": [
       "  0%|          | 0/10 [00:00<?, ?it/s]"
      ]
     },
     "metadata": {},
     "output_type": "display_data"
    },
    {
     "name": "stdout",
     "output_type": "stream",
     "text": [
      "=== Generate image for index 4 ===\n",
      "a painting of a rabbit drinking a cup of coffee next to a fireplace in the rustic wooden house.\n",
      "the rustic wooden house\n",
      "a rabbit drinking a cup of coffee\n",
      "a fireplace\n",
      "the rustic wooden house 1 -th segment is handled.\n",
      "a rabbit drinking a cup of coffee 2 -th segment is handled.\n",
      "a fireplace 3 -th segment is handled.\n"
     ]
    },
    {
     "data": {
      "application/vnd.jupyter.widget-view+json": {
       "model_id": "cd10869272b843029565b2441f2b39d9",
       "version_major": 2,
       "version_minor": 0
      },
      "text/plain": [
       "  0%|          | 0/10 [00:00<?, ?it/s]"
      ]
     },
     "metadata": {},
     "output_type": "display_data"
    },
    {
     "name": "stdout",
     "output_type": "stream",
     "text": [
      "=== Generate image for index 5 ===\n",
      "A painting of a couple holding a yellow umbrella in a street on a rainy night. The woman is wearing a white dress and the man is wearing a blue suit.\n",
      "a street on a rainy night\n",
      "the man is wearing a blue suit\n",
      "a yellow umbrella\n",
      "the woman is wearing a white dress\n",
      "a street on a rainy night 1 -th segment is handled.\n",
      "the man is wearing a blue suit 2 -th segment is handled.\n",
      "a yellow umbrella 3 -th segment is handled.\n",
      "the woman is wearing a white dress 4 -th segment is handled.\n"
     ]
    },
    {
     "data": {
      "application/vnd.jupyter.widget-view+json": {
       "model_id": "79b415b9c549415a98a7c93706236aaf",
       "version_major": 2,
       "version_minor": 0
      },
      "text/plain": [
       "  0%|          | 0/10 [00:00<?, ?it/s]"
      ]
     },
     "metadata": {},
     "output_type": "display_data"
    },
    {
     "name": "stdout",
     "output_type": "stream",
     "text": [
      "=== Generate image for index 6 ===\n",
      "A picture of a squirrel holding a sign with an apple painting at the desert.\n",
      "at the desert\n",
      "a squirrel\n",
      "a sign with an apple painting\n",
      "at the desert 1 -th segment is handled.\n",
      "a squirrel 2 -th segment is handled.\n",
      "a sign with an apple painting 3 -th segment is handled.\n"
     ]
    },
    {
     "data": {
      "application/vnd.jupyter.widget-view+json": {
       "model_id": "6ac215f0552e4543985003d1de5363e8",
       "version_major": 2,
       "version_minor": 0
      },
      "text/plain": [
       "  0%|          | 0/10 [00:00<?, ?it/s]"
      ]
     },
     "metadata": {},
     "output_type": "display_data"
    },
    {
     "name": "stdout",
     "output_type": "stream",
     "text": [
      "=== Generate image for index 7 ===\n",
      "A lion is reading a book at the beach.\n",
      "the beach\n",
      "a lion\n",
      "a book\n",
      "the beach 1 -th segment is handled.\n",
      "a lion 2 -th segment is handled.\n",
      "a book 3 -th segment is handled.\n"
     ]
    },
    {
     "data": {
      "application/vnd.jupyter.widget-view+json": {
       "model_id": "be8190fd983048968380e5fc41fc9d52",
       "version_major": 2,
       "version_minor": 0
      },
      "text/plain": [
       "  0%|          | 0/10 [00:00<?, ?it/s]"
      ]
     },
     "metadata": {},
     "output_type": "display_data"
    },
    {
     "name": "stderr",
     "output_type": "stream",
     "text": [
      "Potential NSFW content was detected in one or more images. A black image will be returned instead. Try again with a different prompt and/or seed.\n"
     ]
    },
    {
     "name": "stdout",
     "output_type": "stream",
     "text": [
      "=== Generate image for index 8 ===\n",
      "a black elephant near a lake.\n",
      "\n",
      "a black elephant\n",
      " 1 -th segment is handled.\n",
      "a black elephant 2 -th segment is handled.\n"
     ]
    },
    {
     "data": {
      "application/vnd.jupyter.widget-view+json": {
       "model_id": "ce2694cdd8664efcac0eeea58c85a930",
       "version_major": 2,
       "version_minor": 0
      },
      "text/plain": [
       "  0%|          | 0/10 [00:00<?, ?it/s]"
      ]
     },
     "metadata": {},
     "output_type": "display_data"
    },
    {
     "name": "stdout",
     "output_type": "stream",
     "text": [
      "=== Generate image for index 9 ===\n",
      "a mouse wearing boxing gloves is hitting a black punching bag on a snowy day.\n",
      "on a snowy day\n",
      "a mouse\n",
      "a black punching bag\n",
      "boxing gloves\n",
      "on a snowy day 1 -th segment is handled.\n",
      "a mouse 2 -th segment is handled.\n",
      "a black punching bag 3 -th segment is handled.\n",
      "boxing gloves 4 -th segment is handled.\n"
     ]
    },
    {
     "data": {
      "application/vnd.jupyter.widget-view+json": {
       "model_id": "30c05d38a10c4465a66f757784338ba2",
       "version_major": 2,
       "version_minor": 0
      },
      "text/plain": [
       "  0%|          | 0/10 [00:00<?, ?it/s]"
      ]
     },
     "metadata": {},
     "output_type": "display_data"
    },
    {
     "name": "stdout",
     "output_type": "stream",
     "text": [
      "=== Generate image for index 10 ===\n",
      "a painting of a red car in front of a snowy mountain.\n",
      "\n",
      "a snowy mountain\n",
      "a red car\n",
      " 1 -th segment is handled.\n",
      "a snowy mountain 2 -th segment is handled.\n",
      "a red car 3 -th segment is handled.\n"
     ]
    },
    {
     "data": {
      "application/vnd.jupyter.widget-view+json": {
       "model_id": "ac218f8fe8654c24bb848b29e77c582a",
       "version_major": 2,
       "version_minor": 0
      },
      "text/plain": [
       "  0%|          | 0/10 [00:00<?, ?it/s]"
      ]
     },
     "metadata": {},
     "output_type": "display_data"
    },
    {
     "name": "stdout",
     "output_type": "stream",
     "text": [
      "=== Generate image for index 11 ===\n",
      "a mirror, a white sink and a vase with red flowers in a bathroom with an artificial light.\n",
      "\n",
      "a mirror\n",
      "a white sink\n",
      "a vase with red flowers\n",
      " 1 -th segment is handled.\n",
      "a mirror 2 -th segment is handled.\n",
      "a white sink 3 -th segment is handled.\n",
      "a vase with red flowers 4 -th segment is handled.\n"
     ]
    },
    {
     "data": {
      "application/vnd.jupyter.widget-view+json": {
       "model_id": "58b21a36058e44a3887a64ee6017a694",
       "version_major": 2,
       "version_minor": 0
      },
      "text/plain": [
       "  0%|          | 0/10 [00:00<?, ?it/s]"
      ]
     },
     "metadata": {},
     "output_type": "display_data"
    },
    {
     "name": "stdout",
     "output_type": "stream",
     "text": [
      "=== Generate image for index 12 ===\n",
      "A grizzly bear is looking at a huge avocado near a river.\n",
      "near a river\n",
      "a grizzly bear\n",
      "a huge avocado\n",
      "near a river 1 -th segment is handled.\n",
      "a grizzly bear 2 -th segment is handled.\n",
      "a huge avocado 3 -th segment is handled.\n"
     ]
    },
    {
     "data": {
      "application/vnd.jupyter.widget-view+json": {
       "model_id": "a879ecd30b6245ab84a87b0c59b840cd",
       "version_major": 2,
       "version_minor": 0
      },
      "text/plain": [
       "  0%|          | 0/10 [00:00<?, ?it/s]"
      ]
     },
     "metadata": {},
     "output_type": "display_data"
    },
    {
     "name": "stdout",
     "output_type": "stream",
     "text": [
      "=== Generate image for index 13 ===\n",
      "A picture of a German Shepherd dog and a Husky dog on a sunny day after the snow.\n",
      "a sunny day after the snow\n",
      "a German Shepherd dog\n",
      "a Husky dog\n",
      "a sunny day after the snow 1 -th segment is handled.\n",
      "a German Shepherd dog 2 -th segment is handled.\n",
      "a Husky dog 3 -th segment is handled.\n"
     ]
    },
    {
     "data": {
      "application/vnd.jupyter.widget-view+json": {
       "model_id": "692668460111484fa77a5adc4ea6ed81",
       "version_major": 2,
       "version_minor": 0
      },
      "text/plain": [
       "  0%|          | 0/10 [00:00<?, ?it/s]"
      ]
     },
     "metadata": {},
     "output_type": "display_data"
    },
    {
     "name": "stdout",
     "output_type": "stream",
     "text": [
      "=== Generate image for index 14 ===\n",
      "A red Ferrari car driving on a gravel road in a forest with rainbow beams in the distance.\n",
      "forest\n",
      "a gravel road\n",
      "rainbow beams\n",
      "a red Ferrari car\n",
      "forest 1 -th segment is handled.\n",
      "a gravel road 2 -th segment is handled.\n",
      "rainbow beams 3 -th segment is handled.\n",
      "a red Ferrari car 4 -th segment is handled.\n"
     ]
    },
    {
     "data": {
      "application/vnd.jupyter.widget-view+json": {
       "model_id": "874d47256c6b450690baaeb9584f31f2",
       "version_major": 2,
       "version_minor": 0
      },
      "text/plain": [
       "  0%|          | 0/10 [00:00<?, ?it/s]"
      ]
     },
     "metadata": {},
     "output_type": "display_data"
    },
    {
     "name": "stdout",
     "output_type": "stream",
     "text": [
      "=== Generate image for index 15 ===\n",
      "A painting of a black horse under a red full moon, in the style of The Starry Night.\n",
      "in the style of The Starry Night\n",
      "a black horse\n",
      "a red full moon\n",
      "in the style of The Starry Night 1 -th segment is handled.\n",
      "a black horse 2 -th segment is handled.\n",
      "a red full moon 3 -th segment is handled.\n"
     ]
    },
    {
     "data": {
      "application/vnd.jupyter.widget-view+json": {
       "model_id": "fe1012b08ff847f28a02522aa1296c4c",
       "version_major": 2,
       "version_minor": 0
      },
      "text/plain": [
       "  0%|          | 0/10 [00:00<?, ?it/s]"
      ]
     },
     "metadata": {},
     "output_type": "display_data"
    },
    {
     "name": "stdout",
     "output_type": "stream",
     "text": [
      "=== Generate image for index 16 ===\n",
      "There is a blue bowl on a wooden table, and a picture on the wall in a room with sunlight.\n",
      "a room with sunlight\n",
      "a wooden table\n",
      "a picture on the wall\n",
      "a blue bowl\n",
      "a room with sunlight 1 -th segment is handled.\n",
      "a wooden table 2 -th segment is handled.\n",
      "a picture on the wall 3 -th segment is handled.\n",
      "a blue bowl 4 -th segment is handled.\n"
     ]
    },
    {
     "data": {
      "application/vnd.jupyter.widget-view+json": {
       "model_id": "19a9f1bffd274d03ac727d8a134b2afa",
       "version_major": 2,
       "version_minor": 0
      },
      "text/plain": [
       "  0%|          | 0/10 [00:00<?, ?it/s]"
      ]
     },
     "metadata": {},
     "output_type": "display_data"
    },
    {
     "name": "stdout",
     "output_type": "stream",
     "text": [
      "=== Generate image for index 17 ===\n",
      "a picture of a horse, and an astronaut, on the moon.\n",
      "on the moon\n",
      "an astronaut\n",
      "a horse\n",
      "on the moon 1 -th segment is handled.\n",
      "an astronaut 2 -th segment is handled.\n",
      "a horse 3 -th segment is handled.\n"
     ]
    },
    {
     "data": {
      "application/vnd.jupyter.widget-view+json": {
       "model_id": "7db85c6c81ef48859068542fdaaae0e8",
       "version_major": 2,
       "version_minor": 0
      },
      "text/plain": [
       "  0%|          | 0/10 [00:00<?, ?it/s]"
      ]
     },
     "metadata": {},
     "output_type": "display_data"
    },
    {
     "name": "stdout",
     "output_type": "stream",
     "text": [
      "=== Generate image for index 18 ===\n",
      "a black cat with a red sweater and a blue jeans in the forest.\n",
      "in the forest\n",
      "a black cat with a red sweater and a blue jeans\n",
      "in the forest 1 -th segment is handled.\n",
      "a black cat with a red sweater and a blue jeans 2 -th segment is handled.\n"
     ]
    },
    {
     "data": {
      "application/vnd.jupyter.widget-view+json": {
       "model_id": "8815e9c91e6d4382b5e1965bc1fdf786",
       "version_major": 2,
       "version_minor": 0
      },
      "text/plain": [
       "  0%|          | 0/10 [00:00<?, ?it/s]"
      ]
     },
     "metadata": {},
     "output_type": "display_data"
    },
    {
     "name": "stdout",
     "output_type": "stream",
     "text": [
      "=== Generate image for index 19 ===\n",
      "A picture of a juggling bear at the beach.\n",
      "the beach\n",
      "a juggling bear\n",
      "the beach 1 -th segment is handled.\n",
      "a juggling bear 2 -th segment is handled.\n"
     ]
    },
    {
     "data": {
      "application/vnd.jupyter.widget-view+json": {
       "model_id": "85e08332add749d98aef288f5e4809fe",
       "version_major": 2,
       "version_minor": 0
      },
      "text/plain": [
       "  0%|          | 0/10 [00:00<?, ?it/s]"
      ]
     },
     "metadata": {},
     "output_type": "display_data"
    },
    {
     "name": "stdout",
     "output_type": "stream",
     "text": [
      "=== Seed: 3 ===\n",
      "=== Generate image for index 0 ===\n",
      "There is a cute monkey on a thick branch who is holding a pink rose. It is on the top of a huge tree, and the sky is so wide and blue.\n",
      "the sky is so wide and blue\n",
      "a huge tree\n",
      "a thick branch\n",
      "a cute monkey\n",
      "a pink rose\n",
      "the sky is so wide and blue 1 -th segment is handled.\n",
      "a huge tree 2 -th segment is handled.\n",
      "a thick branch 3 -th segment is handled.\n",
      "a cute monkey 4 -th segment is handled.\n",
      "a pink rose 5 -th segment is handled.\n"
     ]
    },
    {
     "data": {
      "application/vnd.jupyter.widget-view+json": {
       "model_id": "f0394f59316d42338020ad6a4fbe1df6",
       "version_major": 2,
       "version_minor": 0
      },
      "text/plain": [
       "  0%|          | 0/10 [00:00<?, ?it/s]"
      ]
     },
     "metadata": {},
     "output_type": "display_data"
    },
    {
     "name": "stdout",
     "output_type": "stream",
     "text": [
      "=== Generate image for index 1 ===\n",
      "A painting of a dog riding a flying bicycle, over a big city with a yellowish full moon in the night sky.\n",
      "the night sky\n",
      "a big city\n",
      "a dog riding a flying bicycle\n",
      "a yellowish full moon\n",
      "the night sky 1 -th segment is handled.\n",
      "a big city 2 -th segment is handled.\n",
      "a dog riding a flying bicycle 3 -th segment is handled.\n",
      "a yellowish full moon 4 -th segment is handled.\n"
     ]
    },
    {
     "data": {
      "application/vnd.jupyter.widget-view+json": {
       "model_id": "83ee61cebeda4aa587965efa5804b5e0",
       "version_major": 2,
       "version_minor": 0
      },
      "text/plain": [
       "  0%|          | 0/10 [00:00<?, ?it/s]"
      ]
     },
     "metadata": {},
     "output_type": "display_data"
    },
    {
     "name": "stdout",
     "output_type": "stream",
     "text": [
      "=== Generate image for index 2 ===\n",
      "a blue koala is reading a book next to a pile of colorful books in the jungle.\n",
      "in the jungle\n",
      "a pile of colorful books\n",
      "a blue koala\n",
      "in the jungle 1 -th segment is handled.\n",
      "a pile of colorful books 2 -th segment is handled.\n",
      "a blue koala 3 -th segment is handled.\n"
     ]
    },
    {
     "data": {
      "application/vnd.jupyter.widget-view+json": {
       "model_id": "1ed457f2fe7b480da6464e881864ac54",
       "version_major": 2,
       "version_minor": 0
      },
      "text/plain": [
       "  0%|          | 0/10 [00:00<?, ?it/s]"
      ]
     },
     "metadata": {},
     "output_type": "display_data"
    },
    {
     "name": "stdout",
     "output_type": "stream",
     "text": [
      "=== Generate image for index 3 ===\n",
      "there are a robot made of gold and a robot made of silver are standing on an exotic planet with a red butterfly flying around them.\n",
      "on an exotic planet\n",
      "a robot made of gold\n",
      "a robot made of silver\n",
      "a red butterfly\n",
      "on an exotic planet 1 -th segment is handled.\n",
      "a robot made of gold 2 -th segment is handled.\n",
      "a robot made of silver 3 -th segment is handled.\n",
      "a red butterfly 4 -th segment is handled.\n"
     ]
    },
    {
     "data": {
      "application/vnd.jupyter.widget-view+json": {
       "model_id": "cc1651edc41b4044bd4aa7451f9d1f40",
       "version_major": 2,
       "version_minor": 0
      },
      "text/plain": [
       "  0%|          | 0/10 [00:00<?, ?it/s]"
      ]
     },
     "metadata": {},
     "output_type": "display_data"
    },
    {
     "name": "stdout",
     "output_type": "stream",
     "text": [
      "=== Generate image for index 4 ===\n",
      "a painting of a rabbit drinking a cup of coffee next to a fireplace in the rustic wooden house.\n",
      "the rustic wooden house\n",
      "a rabbit drinking a cup of coffee\n",
      "a fireplace\n",
      "the rustic wooden house 1 -th segment is handled.\n",
      "a rabbit drinking a cup of coffee 2 -th segment is handled.\n",
      "a fireplace 3 -th segment is handled.\n"
     ]
    },
    {
     "data": {
      "application/vnd.jupyter.widget-view+json": {
       "model_id": "8c7b158eb61742379251d275c8e62ccc",
       "version_major": 2,
       "version_minor": 0
      },
      "text/plain": [
       "  0%|          | 0/10 [00:00<?, ?it/s]"
      ]
     },
     "metadata": {},
     "output_type": "display_data"
    },
    {
     "name": "stdout",
     "output_type": "stream",
     "text": [
      "=== Generate image for index 5 ===\n",
      "A painting of a couple holding a yellow umbrella in a street on a rainy night. The woman is wearing a white dress and the man is wearing a blue suit.\n",
      "a street on a rainy night\n",
      "the man is wearing a blue suit\n",
      "a yellow umbrella\n",
      "the woman is wearing a white dress\n",
      "a street on a rainy night 1 -th segment is handled.\n",
      "the man is wearing a blue suit 2 -th segment is handled.\n",
      "a yellow umbrella 3 -th segment is handled.\n",
      "the woman is wearing a white dress 4 -th segment is handled.\n"
     ]
    },
    {
     "data": {
      "application/vnd.jupyter.widget-view+json": {
       "model_id": "4f28ced55258498a8b1bbf3efed45bed",
       "version_major": 2,
       "version_minor": 0
      },
      "text/plain": [
       "  0%|          | 0/10 [00:00<?, ?it/s]"
      ]
     },
     "metadata": {},
     "output_type": "display_data"
    },
    {
     "name": "stdout",
     "output_type": "stream",
     "text": [
      "=== Generate image for index 6 ===\n",
      "A picture of a squirrel holding a sign with an apple painting at the desert.\n",
      "at the desert\n",
      "a squirrel\n",
      "a sign with an apple painting\n",
      "at the desert 1 -th segment is handled.\n",
      "a squirrel 2 -th segment is handled.\n",
      "a sign with an apple painting 3 -th segment is handled.\n"
     ]
    },
    {
     "data": {
      "application/vnd.jupyter.widget-view+json": {
       "model_id": "e7328eb77d8e493c8eea750048e0fdf1",
       "version_major": 2,
       "version_minor": 0
      },
      "text/plain": [
       "  0%|          | 0/10 [00:00<?, ?it/s]"
      ]
     },
     "metadata": {},
     "output_type": "display_data"
    },
    {
     "name": "stdout",
     "output_type": "stream",
     "text": [
      "=== Generate image for index 7 ===\n",
      "A lion is reading a book at the beach.\n",
      "the beach\n",
      "a lion\n",
      "a book\n",
      "the beach 1 -th segment is handled.\n",
      "a lion 2 -th segment is handled.\n",
      "a book 3 -th segment is handled.\n"
     ]
    },
    {
     "data": {
      "application/vnd.jupyter.widget-view+json": {
       "model_id": "c9de1b53ad904274ba6087f6d02a2330",
       "version_major": 2,
       "version_minor": 0
      },
      "text/plain": [
       "  0%|          | 0/10 [00:00<?, ?it/s]"
      ]
     },
     "metadata": {},
     "output_type": "display_data"
    },
    {
     "name": "stdout",
     "output_type": "stream",
     "text": [
      "=== Generate image for index 8 ===\n",
      "a black elephant near a lake.\n",
      "\n",
      "a black elephant\n",
      " 1 -th segment is handled.\n",
      "a black elephant 2 -th segment is handled.\n"
     ]
    },
    {
     "data": {
      "application/vnd.jupyter.widget-view+json": {
       "model_id": "0493522824d8403e98616c18b1d6d1eb",
       "version_major": 2,
       "version_minor": 0
      },
      "text/plain": [
       "  0%|          | 0/10 [00:00<?, ?it/s]"
      ]
     },
     "metadata": {},
     "output_type": "display_data"
    },
    {
     "name": "stdout",
     "output_type": "stream",
     "text": [
      "=== Generate image for index 9 ===\n",
      "a mouse wearing boxing gloves is hitting a black punching bag on a snowy day.\n",
      "on a snowy day\n",
      "a mouse\n",
      "a black punching bag\n",
      "boxing gloves\n",
      "on a snowy day 1 -th segment is handled.\n",
      "a mouse 2 -th segment is handled.\n",
      "a black punching bag 3 -th segment is handled.\n",
      "boxing gloves 4 -th segment is handled.\n"
     ]
    },
    {
     "data": {
      "application/vnd.jupyter.widget-view+json": {
       "model_id": "69739d84760b4b76b89fd507ecc73fe8",
       "version_major": 2,
       "version_minor": 0
      },
      "text/plain": [
       "  0%|          | 0/10 [00:00<?, ?it/s]"
      ]
     },
     "metadata": {},
     "output_type": "display_data"
    },
    {
     "name": "stdout",
     "output_type": "stream",
     "text": [
      "=== Generate image for index 10 ===\n",
      "a painting of a red car in front of a snowy mountain.\n",
      "\n",
      "a snowy mountain\n",
      "a red car\n",
      " 1 -th segment is handled.\n",
      "a snowy mountain 2 -th segment is handled.\n",
      "a red car 3 -th segment is handled.\n"
     ]
    },
    {
     "data": {
      "application/vnd.jupyter.widget-view+json": {
       "model_id": "6acd3667241a4ad8b1b5951388cfd5df",
       "version_major": 2,
       "version_minor": 0
      },
      "text/plain": [
       "  0%|          | 0/10 [00:00<?, ?it/s]"
      ]
     },
     "metadata": {},
     "output_type": "display_data"
    },
    {
     "name": "stdout",
     "output_type": "stream",
     "text": [
      "=== Generate image for index 11 ===\n",
      "a mirror, a white sink and a vase with red flowers in a bathroom with an artificial light.\n",
      "\n",
      "a mirror\n",
      "a white sink\n",
      "a vase with red flowers\n",
      " 1 -th segment is handled.\n",
      "a mirror 2 -th segment is handled.\n",
      "a white sink 3 -th segment is handled.\n",
      "a vase with red flowers 4 -th segment is handled.\n"
     ]
    },
    {
     "data": {
      "application/vnd.jupyter.widget-view+json": {
       "model_id": "ff614690968d4e548f636aa7aa30a099",
       "version_major": 2,
       "version_minor": 0
      },
      "text/plain": [
       "  0%|          | 0/10 [00:00<?, ?it/s]"
      ]
     },
     "metadata": {},
     "output_type": "display_data"
    },
    {
     "name": "stdout",
     "output_type": "stream",
     "text": [
      "=== Generate image for index 12 ===\n",
      "A grizzly bear is looking at a huge avocado near a river.\n",
      "near a river\n",
      "a grizzly bear\n",
      "a huge avocado\n",
      "near a river 1 -th segment is handled.\n",
      "a grizzly bear 2 -th segment is handled.\n",
      "a huge avocado 3 -th segment is handled.\n"
     ]
    },
    {
     "data": {
      "application/vnd.jupyter.widget-view+json": {
       "model_id": "a80314d62f8340e7909784b4cd62c0bf",
       "version_major": 2,
       "version_minor": 0
      },
      "text/plain": [
       "  0%|          | 0/10 [00:00<?, ?it/s]"
      ]
     },
     "metadata": {},
     "output_type": "display_data"
    },
    {
     "name": "stdout",
     "output_type": "stream",
     "text": [
      "=== Generate image for index 13 ===\n",
      "A picture of a German Shepherd dog and a Husky dog on a sunny day after the snow.\n",
      "a sunny day after the snow\n",
      "a German Shepherd dog\n",
      "a Husky dog\n",
      "a sunny day after the snow 1 -th segment is handled.\n",
      "a German Shepherd dog 2 -th segment is handled.\n",
      "a Husky dog 3 -th segment is handled.\n"
     ]
    },
    {
     "data": {
      "application/vnd.jupyter.widget-view+json": {
       "model_id": "e76fc646316d4d968609857ac5448651",
       "version_major": 2,
       "version_minor": 0
      },
      "text/plain": [
       "  0%|          | 0/10 [00:00<?, ?it/s]"
      ]
     },
     "metadata": {},
     "output_type": "display_data"
    },
    {
     "name": "stdout",
     "output_type": "stream",
     "text": [
      "=== Generate image for index 14 ===\n",
      "A red Ferrari car driving on a gravel road in a forest with rainbow beams in the distance.\n",
      "forest\n",
      "a gravel road\n",
      "rainbow beams\n",
      "a red Ferrari car\n",
      "forest 1 -th segment is handled.\n",
      "a gravel road 2 -th segment is handled.\n",
      "rainbow beams 3 -th segment is handled.\n",
      "a red Ferrari car 4 -th segment is handled.\n"
     ]
    },
    {
     "data": {
      "application/vnd.jupyter.widget-view+json": {
       "model_id": "accc91802a45447cbd8f69745962eec5",
       "version_major": 2,
       "version_minor": 0
      },
      "text/plain": [
       "  0%|          | 0/10 [00:00<?, ?it/s]"
      ]
     },
     "metadata": {},
     "output_type": "display_data"
    },
    {
     "name": "stdout",
     "output_type": "stream",
     "text": [
      "=== Generate image for index 15 ===\n",
      "A painting of a black horse under a red full moon, in the style of The Starry Night.\n",
      "in the style of The Starry Night\n",
      "a black horse\n",
      "a red full moon\n",
      "in the style of The Starry Night 1 -th segment is handled.\n",
      "a black horse 2 -th segment is handled.\n",
      "a red full moon 3 -th segment is handled.\n"
     ]
    },
    {
     "data": {
      "application/vnd.jupyter.widget-view+json": {
       "model_id": "9e870be885b642cda15f4bc52833227e",
       "version_major": 2,
       "version_minor": 0
      },
      "text/plain": [
       "  0%|          | 0/10 [00:00<?, ?it/s]"
      ]
     },
     "metadata": {},
     "output_type": "display_data"
    },
    {
     "name": "stdout",
     "output_type": "stream",
     "text": [
      "=== Generate image for index 16 ===\n",
      "There is a blue bowl on a wooden table, and a picture on the wall in a room with sunlight.\n",
      "a room with sunlight\n",
      "a wooden table\n",
      "a picture on the wall\n",
      "a blue bowl\n",
      "a room with sunlight 1 -th segment is handled.\n",
      "a wooden table 2 -th segment is handled.\n",
      "a picture on the wall 3 -th segment is handled.\n",
      "a blue bowl 4 -th segment is handled.\n"
     ]
    },
    {
     "data": {
      "application/vnd.jupyter.widget-view+json": {
       "model_id": "932ba6ff5a99425c968365f7518bb8f4",
       "version_major": 2,
       "version_minor": 0
      },
      "text/plain": [
       "  0%|          | 0/10 [00:00<?, ?it/s]"
      ]
     },
     "metadata": {},
     "output_type": "display_data"
    },
    {
     "name": "stdout",
     "output_type": "stream",
     "text": [
      "=== Generate image for index 17 ===\n",
      "a picture of a horse, and an astronaut, on the moon.\n",
      "on the moon\n",
      "an astronaut\n",
      "a horse\n",
      "on the moon 1 -th segment is handled.\n",
      "an astronaut 2 -th segment is handled.\n",
      "a horse 3 -th segment is handled.\n"
     ]
    },
    {
     "data": {
      "application/vnd.jupyter.widget-view+json": {
       "model_id": "ad5d0026d31e4e65994a6b3b5012a557",
       "version_major": 2,
       "version_minor": 0
      },
      "text/plain": [
       "  0%|          | 0/10 [00:00<?, ?it/s]"
      ]
     },
     "metadata": {},
     "output_type": "display_data"
    },
    {
     "name": "stdout",
     "output_type": "stream",
     "text": [
      "=== Generate image for index 18 ===\n",
      "a black cat with a red sweater and a blue jeans in the forest.\n",
      "in the forest\n",
      "a black cat with a red sweater and a blue jeans\n",
      "in the forest 1 -th segment is handled.\n",
      "a black cat with a red sweater and a blue jeans 2 -th segment is handled.\n"
     ]
    },
    {
     "data": {
      "application/vnd.jupyter.widget-view+json": {
       "model_id": "d324a6753410411a8ddaf34fffbda639",
       "version_major": 2,
       "version_minor": 0
      },
      "text/plain": [
       "  0%|          | 0/10 [00:00<?, ?it/s]"
      ]
     },
     "metadata": {},
     "output_type": "display_data"
    },
    {
     "name": "stdout",
     "output_type": "stream",
     "text": [
      "=== Generate image for index 19 ===\n",
      "A picture of a juggling bear at the beach.\n",
      "the beach\n",
      "a juggling bear\n",
      "the beach 1 -th segment is handled.\n",
      "a juggling bear 2 -th segment is handled.\n"
     ]
    },
    {
     "data": {
      "application/vnd.jupyter.widget-view+json": {
       "model_id": "c43f84f937f441d7bb2f3eb731a5d57a",
       "version_major": 2,
       "version_minor": 0
      },
      "text/plain": [
       "  0%|          | 0/10 [00:00<?, ?it/s]"
      ]
     },
     "metadata": {},
     "output_type": "display_data"
    },
    {
     "name": "stdout",
     "output_type": "stream",
     "text": [
      "=== Seed: 4 ===\n",
      "=== Generate image for index 0 ===\n",
      "There is a cute monkey on a thick branch who is holding a pink rose. It is on the top of a huge tree, and the sky is so wide and blue.\n",
      "the sky is so wide and blue\n",
      "a huge tree\n",
      "a thick branch\n",
      "a cute monkey\n",
      "a pink rose\n",
      "the sky is so wide and blue 1 -th segment is handled.\n",
      "a huge tree 2 -th segment is handled.\n",
      "a thick branch 3 -th segment is handled.\n",
      "a cute monkey 4 -th segment is handled.\n",
      "a pink rose 5 -th segment is handled.\n"
     ]
    },
    {
     "data": {
      "application/vnd.jupyter.widget-view+json": {
       "model_id": "529d051c7f17498c87e20724205af4b8",
       "version_major": 2,
       "version_minor": 0
      },
      "text/plain": [
       "  0%|          | 0/10 [00:00<?, ?it/s]"
      ]
     },
     "metadata": {},
     "output_type": "display_data"
    },
    {
     "name": "stdout",
     "output_type": "stream",
     "text": [
      "=== Generate image for index 1 ===\n",
      "A painting of a dog riding a flying bicycle, over a big city with a yellowish full moon in the night sky.\n",
      "the night sky\n",
      "a big city\n",
      "a dog riding a flying bicycle\n",
      "a yellowish full moon\n",
      "the night sky 1 -th segment is handled.\n",
      "a big city 2 -th segment is handled.\n",
      "a dog riding a flying bicycle 3 -th segment is handled.\n",
      "a yellowish full moon 4 -th segment is handled.\n"
     ]
    },
    {
     "data": {
      "application/vnd.jupyter.widget-view+json": {
       "model_id": "3dd67d7350504a208f558ca1433c6db7",
       "version_major": 2,
       "version_minor": 0
      },
      "text/plain": [
       "  0%|          | 0/10 [00:00<?, ?it/s]"
      ]
     },
     "metadata": {},
     "output_type": "display_data"
    },
    {
     "name": "stdout",
     "output_type": "stream",
     "text": [
      "=== Generate image for index 2 ===\n",
      "a blue koala is reading a book next to a pile of colorful books in the jungle.\n",
      "in the jungle\n",
      "a pile of colorful books\n",
      "a blue koala\n",
      "in the jungle 1 -th segment is handled.\n",
      "a pile of colorful books 2 -th segment is handled.\n",
      "a blue koala 3 -th segment is handled.\n"
     ]
    },
    {
     "data": {
      "application/vnd.jupyter.widget-view+json": {
       "model_id": "de695ed7fd9b45b6a8b23d6898ff492c",
       "version_major": 2,
       "version_minor": 0
      },
      "text/plain": [
       "  0%|          | 0/10 [00:00<?, ?it/s]"
      ]
     },
     "metadata": {},
     "output_type": "display_data"
    },
    {
     "name": "stdout",
     "output_type": "stream",
     "text": [
      "=== Generate image for index 3 ===\n",
      "there are a robot made of gold and a robot made of silver are standing on an exotic planet with a red butterfly flying around them.\n",
      "on an exotic planet\n",
      "a robot made of gold\n",
      "a robot made of silver\n",
      "a red butterfly\n",
      "on an exotic planet 1 -th segment is handled.\n",
      "a robot made of gold 2 -th segment is handled.\n",
      "a robot made of silver 3 -th segment is handled.\n",
      "a red butterfly 4 -th segment is handled.\n"
     ]
    },
    {
     "data": {
      "application/vnd.jupyter.widget-view+json": {
       "model_id": "04e970cf969d4b7e9c98c64410d245ca",
       "version_major": 2,
       "version_minor": 0
      },
      "text/plain": [
       "  0%|          | 0/10 [00:00<?, ?it/s]"
      ]
     },
     "metadata": {},
     "output_type": "display_data"
    },
    {
     "name": "stdout",
     "output_type": "stream",
     "text": [
      "=== Generate image for index 4 ===\n",
      "a painting of a rabbit drinking a cup of coffee next to a fireplace in the rustic wooden house.\n",
      "the rustic wooden house\n",
      "a rabbit drinking a cup of coffee\n",
      "a fireplace\n",
      "the rustic wooden house 1 -th segment is handled.\n",
      "a rabbit drinking a cup of coffee 2 -th segment is handled.\n",
      "a fireplace 3 -th segment is handled.\n"
     ]
    },
    {
     "data": {
      "application/vnd.jupyter.widget-view+json": {
       "model_id": "c48d3767eb814d30b272ffbe7073b77f",
       "version_major": 2,
       "version_minor": 0
      },
      "text/plain": [
       "  0%|          | 0/10 [00:00<?, ?it/s]"
      ]
     },
     "metadata": {},
     "output_type": "display_data"
    },
    {
     "name": "stdout",
     "output_type": "stream",
     "text": [
      "=== Generate image for index 5 ===\n",
      "A painting of a couple holding a yellow umbrella in a street on a rainy night. The woman is wearing a white dress and the man is wearing a blue suit.\n",
      "a street on a rainy night\n",
      "the man is wearing a blue suit\n",
      "a yellow umbrella\n",
      "the woman is wearing a white dress\n",
      "a street on a rainy night 1 -th segment is handled.\n",
      "the man is wearing a blue suit 2 -th segment is handled.\n",
      "a yellow umbrella 3 -th segment is handled.\n",
      "the woman is wearing a white dress 4 -th segment is handled.\n"
     ]
    },
    {
     "data": {
      "application/vnd.jupyter.widget-view+json": {
       "model_id": "7d7a30125fd449bcb6259d8b89106054",
       "version_major": 2,
       "version_minor": 0
      },
      "text/plain": [
       "  0%|          | 0/10 [00:00<?, ?it/s]"
      ]
     },
     "metadata": {},
     "output_type": "display_data"
    },
    {
     "name": "stdout",
     "output_type": "stream",
     "text": [
      "=== Generate image for index 6 ===\n",
      "A picture of a squirrel holding a sign with an apple painting at the desert.\n",
      "at the desert\n",
      "a squirrel\n",
      "a sign with an apple painting\n",
      "at the desert 1 -th segment is handled.\n",
      "a squirrel 2 -th segment is handled.\n",
      "a sign with an apple painting 3 -th segment is handled.\n"
     ]
    },
    {
     "data": {
      "application/vnd.jupyter.widget-view+json": {
       "model_id": "04f4b398611b494cb4dbcf17314a3798",
       "version_major": 2,
       "version_minor": 0
      },
      "text/plain": [
       "  0%|          | 0/10 [00:00<?, ?it/s]"
      ]
     },
     "metadata": {},
     "output_type": "display_data"
    },
    {
     "name": "stdout",
     "output_type": "stream",
     "text": [
      "=== Generate image for index 7 ===\n",
      "A lion is reading a book at the beach.\n",
      "the beach\n",
      "a lion\n",
      "a book\n",
      "the beach 1 -th segment is handled.\n",
      "a lion 2 -th segment is handled.\n",
      "a book 3 -th segment is handled.\n"
     ]
    },
    {
     "data": {
      "application/vnd.jupyter.widget-view+json": {
       "model_id": "09be4d58a99f48b8ac42d7c8ebda182f",
       "version_major": 2,
       "version_minor": 0
      },
      "text/plain": [
       "  0%|          | 0/10 [00:00<?, ?it/s]"
      ]
     },
     "metadata": {},
     "output_type": "display_data"
    },
    {
     "name": "stdout",
     "output_type": "stream",
     "text": [
      "=== Generate image for index 8 ===\n",
      "a black elephant near a lake.\n",
      "\n",
      "a black elephant\n",
      " 1 -th segment is handled.\n",
      "a black elephant 2 -th segment is handled.\n"
     ]
    },
    {
     "data": {
      "application/vnd.jupyter.widget-view+json": {
       "model_id": "ae35220790154880bac428f8fa87abe9",
       "version_major": 2,
       "version_minor": 0
      },
      "text/plain": [
       "  0%|          | 0/10 [00:00<?, ?it/s]"
      ]
     },
     "metadata": {},
     "output_type": "display_data"
    },
    {
     "name": "stdout",
     "output_type": "stream",
     "text": [
      "=== Generate image for index 9 ===\n",
      "a mouse wearing boxing gloves is hitting a black punching bag on a snowy day.\n",
      "on a snowy day\n",
      "a mouse\n",
      "a black punching bag\n",
      "boxing gloves\n",
      "on a snowy day 1 -th segment is handled.\n",
      "a mouse 2 -th segment is handled.\n",
      "a black punching bag 3 -th segment is handled.\n",
      "boxing gloves 4 -th segment is handled.\n"
     ]
    },
    {
     "data": {
      "application/vnd.jupyter.widget-view+json": {
       "model_id": "14daa276b3af4f97b38440a6c919de3f",
       "version_major": 2,
       "version_minor": 0
      },
      "text/plain": [
       "  0%|          | 0/10 [00:00<?, ?it/s]"
      ]
     },
     "metadata": {},
     "output_type": "display_data"
    },
    {
     "name": "stdout",
     "output_type": "stream",
     "text": [
      "=== Generate image for index 10 ===\n",
      "a painting of a red car in front of a snowy mountain.\n",
      "\n",
      "a snowy mountain\n",
      "a red car\n",
      " 1 -th segment is handled.\n",
      "a snowy mountain 2 -th segment is handled.\n",
      "a red car 3 -th segment is handled.\n"
     ]
    },
    {
     "data": {
      "application/vnd.jupyter.widget-view+json": {
       "model_id": "e993b97e0cb0459594ea1d3b7634c934",
       "version_major": 2,
       "version_minor": 0
      },
      "text/plain": [
       "  0%|          | 0/10 [00:00<?, ?it/s]"
      ]
     },
     "metadata": {},
     "output_type": "display_data"
    },
    {
     "name": "stdout",
     "output_type": "stream",
     "text": [
      "=== Generate image for index 11 ===\n",
      "a mirror, a white sink and a vase with red flowers in a bathroom with an artificial light.\n",
      "\n",
      "a mirror\n",
      "a white sink\n",
      "a vase with red flowers\n",
      " 1 -th segment is handled.\n",
      "a mirror 2 -th segment is handled.\n",
      "a white sink 3 -th segment is handled.\n",
      "a vase with red flowers 4 -th segment is handled.\n"
     ]
    },
    {
     "data": {
      "application/vnd.jupyter.widget-view+json": {
       "model_id": "c42069c8f705423980cdd15507a7c196",
       "version_major": 2,
       "version_minor": 0
      },
      "text/plain": [
       "  0%|          | 0/10 [00:00<?, ?it/s]"
      ]
     },
     "metadata": {},
     "output_type": "display_data"
    },
    {
     "name": "stdout",
     "output_type": "stream",
     "text": [
      "=== Generate image for index 12 ===\n",
      "A grizzly bear is looking at a huge avocado near a river.\n",
      "near a river\n",
      "a grizzly bear\n",
      "a huge avocado\n",
      "near a river 1 -th segment is handled.\n",
      "a grizzly bear 2 -th segment is handled.\n",
      "a huge avocado 3 -th segment is handled.\n"
     ]
    },
    {
     "data": {
      "application/vnd.jupyter.widget-view+json": {
       "model_id": "72abaa5353464ff9815dcb4754088e95",
       "version_major": 2,
       "version_minor": 0
      },
      "text/plain": [
       "  0%|          | 0/10 [00:00<?, ?it/s]"
      ]
     },
     "metadata": {},
     "output_type": "display_data"
    },
    {
     "name": "stdout",
     "output_type": "stream",
     "text": [
      "=== Generate image for index 13 ===\n",
      "A picture of a German Shepherd dog and a Husky dog on a sunny day after the snow.\n",
      "a sunny day after the snow\n",
      "a German Shepherd dog\n",
      "a Husky dog\n",
      "a sunny day after the snow 1 -th segment is handled.\n",
      "a German Shepherd dog 2 -th segment is handled.\n",
      "a Husky dog 3 -th segment is handled.\n"
     ]
    },
    {
     "data": {
      "application/vnd.jupyter.widget-view+json": {
       "model_id": "62d93206bf664fd5a65dedc18197dbbd",
       "version_major": 2,
       "version_minor": 0
      },
      "text/plain": [
       "  0%|          | 0/10 [00:00<?, ?it/s]"
      ]
     },
     "metadata": {},
     "output_type": "display_data"
    },
    {
     "name": "stdout",
     "output_type": "stream",
     "text": [
      "=== Generate image for index 14 ===\n",
      "A red Ferrari car driving on a gravel road in a forest with rainbow beams in the distance.\n",
      "forest\n",
      "a gravel road\n",
      "rainbow beams\n",
      "a red Ferrari car\n",
      "forest 1 -th segment is handled.\n",
      "a gravel road 2 -th segment is handled.\n",
      "rainbow beams 3 -th segment is handled.\n",
      "a red Ferrari car 4 -th segment is handled.\n"
     ]
    },
    {
     "data": {
      "application/vnd.jupyter.widget-view+json": {
       "model_id": "2e46ca7b451244438f0a7c9da3bba341",
       "version_major": 2,
       "version_minor": 0
      },
      "text/plain": [
       "  0%|          | 0/10 [00:00<?, ?it/s]"
      ]
     },
     "metadata": {},
     "output_type": "display_data"
    },
    {
     "name": "stdout",
     "output_type": "stream",
     "text": [
      "=== Generate image for index 15 ===\n",
      "A painting of a black horse under a red full moon, in the style of The Starry Night.\n",
      "in the style of The Starry Night\n",
      "a black horse\n",
      "a red full moon\n",
      "in the style of The Starry Night 1 -th segment is handled.\n",
      "a black horse 2 -th segment is handled.\n",
      "a red full moon 3 -th segment is handled.\n"
     ]
    },
    {
     "data": {
      "application/vnd.jupyter.widget-view+json": {
       "model_id": "ea58a57dd9964e469c560e6e43f0b1b8",
       "version_major": 2,
       "version_minor": 0
      },
      "text/plain": [
       "  0%|          | 0/10 [00:00<?, ?it/s]"
      ]
     },
     "metadata": {},
     "output_type": "display_data"
    },
    {
     "name": "stdout",
     "output_type": "stream",
     "text": [
      "=== Generate image for index 16 ===\n",
      "There is a blue bowl on a wooden table, and a picture on the wall in a room with sunlight.\n",
      "a room with sunlight\n",
      "a wooden table\n",
      "a picture on the wall\n",
      "a blue bowl\n",
      "a room with sunlight 1 -th segment is handled.\n",
      "a wooden table 2 -th segment is handled.\n",
      "a picture on the wall 3 -th segment is handled.\n",
      "a blue bowl 4 -th segment is handled.\n"
     ]
    },
    {
     "data": {
      "application/vnd.jupyter.widget-view+json": {
       "model_id": "8977d62b29c64787bd3a6547da046895",
       "version_major": 2,
       "version_minor": 0
      },
      "text/plain": [
       "  0%|          | 0/10 [00:00<?, ?it/s]"
      ]
     },
     "metadata": {},
     "output_type": "display_data"
    },
    {
     "name": "stdout",
     "output_type": "stream",
     "text": [
      "=== Generate image for index 17 ===\n",
      "a picture of a horse, and an astronaut, on the moon.\n",
      "on the moon\n",
      "an astronaut\n",
      "a horse\n",
      "on the moon 1 -th segment is handled.\n",
      "an astronaut 2 -th segment is handled.\n",
      "a horse 3 -th segment is handled.\n"
     ]
    },
    {
     "data": {
      "application/vnd.jupyter.widget-view+json": {
       "model_id": "e561c10760fb44bcae1340b34bac5429",
       "version_major": 2,
       "version_minor": 0
      },
      "text/plain": [
       "  0%|          | 0/10 [00:00<?, ?it/s]"
      ]
     },
     "metadata": {},
     "output_type": "display_data"
    },
    {
     "name": "stdout",
     "output_type": "stream",
     "text": [
      "=== Generate image for index 18 ===\n",
      "a black cat with a red sweater and a blue jeans in the forest.\n",
      "in the forest\n",
      "a black cat with a red sweater and a blue jeans\n",
      "in the forest 1 -th segment is handled.\n",
      "a black cat with a red sweater and a blue jeans 2 -th segment is handled.\n"
     ]
    },
    {
     "data": {
      "application/vnd.jupyter.widget-view+json": {
       "model_id": "ee1a315c8c1742ceb30ec91bcefe6889",
       "version_major": 2,
       "version_minor": 0
      },
      "text/plain": [
       "  0%|          | 0/10 [00:00<?, ?it/s]"
      ]
     },
     "metadata": {},
     "output_type": "display_data"
    },
    {
     "name": "stdout",
     "output_type": "stream",
     "text": [
      "=== Generate image for index 19 ===\n",
      "A picture of a juggling bear at the beach.\n",
      "the beach\n",
      "a juggling bear\n",
      "the beach 1 -th segment is handled.\n",
      "a juggling bear 2 -th segment is handled.\n"
     ]
    },
    {
     "data": {
      "application/vnd.jupyter.widget-view+json": {
       "model_id": "ee35c438c19e4f8fbc699d48e16236ee",
       "version_major": 2,
       "version_minor": 0
      },
      "text/plain": [
       "  0%|          | 0/10 [00:00<?, ?it/s]"
      ]
     },
     "metadata": {},
     "output_type": "display_data"
    },
    {
     "name": "stdout",
     "output_type": "stream",
     "text": [
      "=== Seed: 5 ===\n",
      "=== Generate image for index 0 ===\n",
      "There is a cute monkey on a thick branch who is holding a pink rose. It is on the top of a huge tree, and the sky is so wide and blue.\n",
      "the sky is so wide and blue\n",
      "a huge tree\n",
      "a thick branch\n",
      "a cute monkey\n",
      "a pink rose\n",
      "the sky is so wide and blue 1 -th segment is handled.\n",
      "a huge tree 2 -th segment is handled.\n",
      "a thick branch 3 -th segment is handled.\n",
      "a cute monkey 4 -th segment is handled.\n",
      "a pink rose 5 -th segment is handled.\n"
     ]
    },
    {
     "data": {
      "application/vnd.jupyter.widget-view+json": {
       "model_id": "b4c0eafe46464015af2c522cd535dfb9",
       "version_major": 2,
       "version_minor": 0
      },
      "text/plain": [
       "  0%|          | 0/10 [00:00<?, ?it/s]"
      ]
     },
     "metadata": {},
     "output_type": "display_data"
    },
    {
     "name": "stdout",
     "output_type": "stream",
     "text": [
      "=== Generate image for index 1 ===\n",
      "A painting of a dog riding a flying bicycle, over a big city with a yellowish full moon in the night sky.\n",
      "the night sky\n",
      "a big city\n",
      "a dog riding a flying bicycle\n",
      "a yellowish full moon\n",
      "the night sky 1 -th segment is handled.\n",
      "a big city 2 -th segment is handled.\n",
      "a dog riding a flying bicycle 3 -th segment is handled.\n",
      "a yellowish full moon 4 -th segment is handled.\n"
     ]
    },
    {
     "data": {
      "application/vnd.jupyter.widget-view+json": {
       "model_id": "60b05073e7d14df1a03c69245104144f",
       "version_major": 2,
       "version_minor": 0
      },
      "text/plain": [
       "  0%|          | 0/10 [00:00<?, ?it/s]"
      ]
     },
     "metadata": {},
     "output_type": "display_data"
    },
    {
     "name": "stdout",
     "output_type": "stream",
     "text": [
      "=== Generate image for index 2 ===\n",
      "a blue koala is reading a book next to a pile of colorful books in the jungle.\n",
      "in the jungle\n",
      "a pile of colorful books\n",
      "a blue koala\n",
      "in the jungle 1 -th segment is handled.\n",
      "a pile of colorful books 2 -th segment is handled.\n",
      "a blue koala 3 -th segment is handled.\n"
     ]
    },
    {
     "data": {
      "application/vnd.jupyter.widget-view+json": {
       "model_id": "84ff2452bd874c0d8d772f2072a05a97",
       "version_major": 2,
       "version_minor": 0
      },
      "text/plain": [
       "  0%|          | 0/10 [00:00<?, ?it/s]"
      ]
     },
     "metadata": {},
     "output_type": "display_data"
    },
    {
     "name": "stdout",
     "output_type": "stream",
     "text": [
      "=== Generate image for index 3 ===\n",
      "there are a robot made of gold and a robot made of silver are standing on an exotic planet with a red butterfly flying around them.\n",
      "on an exotic planet\n",
      "a robot made of gold\n",
      "a robot made of silver\n",
      "a red butterfly\n",
      "on an exotic planet 1 -th segment is handled.\n",
      "a robot made of gold 2 -th segment is handled.\n",
      "a robot made of silver 3 -th segment is handled.\n",
      "a red butterfly 4 -th segment is handled.\n"
     ]
    },
    {
     "data": {
      "application/vnd.jupyter.widget-view+json": {
       "model_id": "9cf8378e21034dfd8d278c0e94f3f3f8",
       "version_major": 2,
       "version_minor": 0
      },
      "text/plain": [
       "  0%|          | 0/10 [00:00<?, ?it/s]"
      ]
     },
     "metadata": {},
     "output_type": "display_data"
    },
    {
     "name": "stdout",
     "output_type": "stream",
     "text": [
      "=== Generate image for index 4 ===\n",
      "a painting of a rabbit drinking a cup of coffee next to a fireplace in the rustic wooden house.\n",
      "the rustic wooden house\n",
      "a rabbit drinking a cup of coffee\n",
      "a fireplace\n",
      "the rustic wooden house 1 -th segment is handled.\n",
      "a rabbit drinking a cup of coffee 2 -th segment is handled.\n",
      "a fireplace 3 -th segment is handled.\n"
     ]
    },
    {
     "data": {
      "application/vnd.jupyter.widget-view+json": {
       "model_id": "efde969cd9fa44bda3cd8e01fe6f2790",
       "version_major": 2,
       "version_minor": 0
      },
      "text/plain": [
       "  0%|          | 0/10 [00:00<?, ?it/s]"
      ]
     },
     "metadata": {},
     "output_type": "display_data"
    },
    {
     "name": "stdout",
     "output_type": "stream",
     "text": [
      "=== Generate image for index 5 ===\n",
      "A painting of a couple holding a yellow umbrella in a street on a rainy night. The woman is wearing a white dress and the man is wearing a blue suit.\n",
      "a street on a rainy night\n",
      "the man is wearing a blue suit\n",
      "a yellow umbrella\n",
      "the woman is wearing a white dress\n",
      "a street on a rainy night 1 -th segment is handled.\n",
      "the man is wearing a blue suit 2 -th segment is handled.\n",
      "a yellow umbrella 3 -th segment is handled.\n",
      "the woman is wearing a white dress 4 -th segment is handled.\n"
     ]
    },
    {
     "data": {
      "application/vnd.jupyter.widget-view+json": {
       "model_id": "98fc18f3c616428ab3bd1d3df2c0635e",
       "version_major": 2,
       "version_minor": 0
      },
      "text/plain": [
       "  0%|          | 0/10 [00:00<?, ?it/s]"
      ]
     },
     "metadata": {},
     "output_type": "display_data"
    },
    {
     "name": "stdout",
     "output_type": "stream",
     "text": [
      "=== Generate image for index 6 ===\n",
      "A picture of a squirrel holding a sign with an apple painting at the desert.\n",
      "at the desert\n",
      "a squirrel\n",
      "a sign with an apple painting\n",
      "at the desert 1 -th segment is handled.\n",
      "a squirrel 2 -th segment is handled.\n",
      "a sign with an apple painting 3 -th segment is handled.\n"
     ]
    },
    {
     "data": {
      "application/vnd.jupyter.widget-view+json": {
       "model_id": "11ab628fbb344af394b2f978992555c2",
       "version_major": 2,
       "version_minor": 0
      },
      "text/plain": [
       "  0%|          | 0/10 [00:00<?, ?it/s]"
      ]
     },
     "metadata": {},
     "output_type": "display_data"
    },
    {
     "name": "stdout",
     "output_type": "stream",
     "text": [
      "=== Generate image for index 7 ===\n",
      "A lion is reading a book at the beach.\n",
      "the beach\n",
      "a lion\n",
      "a book\n",
      "the beach 1 -th segment is handled.\n",
      "a lion 2 -th segment is handled.\n",
      "a book 3 -th segment is handled.\n"
     ]
    },
    {
     "data": {
      "application/vnd.jupyter.widget-view+json": {
       "model_id": "388d5c87f10d43c183fb82dea93606f0",
       "version_major": 2,
       "version_minor": 0
      },
      "text/plain": [
       "  0%|          | 0/10 [00:00<?, ?it/s]"
      ]
     },
     "metadata": {},
     "output_type": "display_data"
    },
    {
     "name": "stdout",
     "output_type": "stream",
     "text": [
      "=== Generate image for index 8 ===\n",
      "a black elephant near a lake.\n",
      "\n",
      "a black elephant\n",
      " 1 -th segment is handled.\n",
      "a black elephant 2 -th segment is handled.\n"
     ]
    },
    {
     "data": {
      "application/vnd.jupyter.widget-view+json": {
       "model_id": "c2f84ff005a3450cb67eea6901974853",
       "version_major": 2,
       "version_minor": 0
      },
      "text/plain": [
       "  0%|          | 0/10 [00:00<?, ?it/s]"
      ]
     },
     "metadata": {},
     "output_type": "display_data"
    },
    {
     "name": "stdout",
     "output_type": "stream",
     "text": [
      "=== Generate image for index 9 ===\n",
      "a mouse wearing boxing gloves is hitting a black punching bag on a snowy day.\n",
      "on a snowy day\n",
      "a mouse\n",
      "a black punching bag\n",
      "boxing gloves\n",
      "on a snowy day 1 -th segment is handled.\n",
      "a mouse 2 -th segment is handled.\n",
      "a black punching bag 3 -th segment is handled.\n",
      "boxing gloves 4 -th segment is handled.\n"
     ]
    },
    {
     "data": {
      "application/vnd.jupyter.widget-view+json": {
       "model_id": "87f34e5f811c495f84476fef0b780f5a",
       "version_major": 2,
       "version_minor": 0
      },
      "text/plain": [
       "  0%|          | 0/10 [00:00<?, ?it/s]"
      ]
     },
     "metadata": {},
     "output_type": "display_data"
    },
    {
     "name": "stdout",
     "output_type": "stream",
     "text": [
      "=== Generate image for index 10 ===\n",
      "a painting of a red car in front of a snowy mountain.\n",
      "\n",
      "a snowy mountain\n",
      "a red car\n",
      " 1 -th segment is handled.\n",
      "a snowy mountain 2 -th segment is handled.\n",
      "a red car 3 -th segment is handled.\n"
     ]
    },
    {
     "data": {
      "application/vnd.jupyter.widget-view+json": {
       "model_id": "46eda5ba2a724d10b5a97585e967a5cf",
       "version_major": 2,
       "version_minor": 0
      },
      "text/plain": [
       "  0%|          | 0/10 [00:00<?, ?it/s]"
      ]
     },
     "metadata": {},
     "output_type": "display_data"
    },
    {
     "name": "stdout",
     "output_type": "stream",
     "text": [
      "=== Generate image for index 11 ===\n",
      "a mirror, a white sink and a vase with red flowers in a bathroom with an artificial light.\n",
      "\n",
      "a mirror\n",
      "a white sink\n",
      "a vase with red flowers\n",
      " 1 -th segment is handled.\n",
      "a mirror 2 -th segment is handled.\n",
      "a white sink 3 -th segment is handled.\n",
      "a vase with red flowers 4 -th segment is handled.\n"
     ]
    },
    {
     "data": {
      "application/vnd.jupyter.widget-view+json": {
       "model_id": "06b44a1c82664d909818fdb39c56c10b",
       "version_major": 2,
       "version_minor": 0
      },
      "text/plain": [
       "  0%|          | 0/10 [00:00<?, ?it/s]"
      ]
     },
     "metadata": {},
     "output_type": "display_data"
    },
    {
     "name": "stdout",
     "output_type": "stream",
     "text": [
      "=== Generate image for index 12 ===\n",
      "A grizzly bear is looking at a huge avocado near a river.\n",
      "near a river\n",
      "a grizzly bear\n",
      "a huge avocado\n",
      "near a river 1 -th segment is handled.\n",
      "a grizzly bear 2 -th segment is handled.\n",
      "a huge avocado 3 -th segment is handled.\n"
     ]
    },
    {
     "data": {
      "application/vnd.jupyter.widget-view+json": {
       "model_id": "f81b47c0f76643d0b00b5a9ae8fcfa77",
       "version_major": 2,
       "version_minor": 0
      },
      "text/plain": [
       "  0%|          | 0/10 [00:00<?, ?it/s]"
      ]
     },
     "metadata": {},
     "output_type": "display_data"
    },
    {
     "name": "stdout",
     "output_type": "stream",
     "text": [
      "=== Generate image for index 13 ===\n",
      "A picture of a German Shepherd dog and a Husky dog on a sunny day after the snow.\n",
      "a sunny day after the snow\n",
      "a German Shepherd dog\n",
      "a Husky dog\n",
      "a sunny day after the snow 1 -th segment is handled.\n",
      "a German Shepherd dog 2 -th segment is handled.\n",
      "a Husky dog 3 -th segment is handled.\n"
     ]
    },
    {
     "data": {
      "application/vnd.jupyter.widget-view+json": {
       "model_id": "84855946300e4880b4d3af4a75a30a5a",
       "version_major": 2,
       "version_minor": 0
      },
      "text/plain": [
       "  0%|          | 0/10 [00:00<?, ?it/s]"
      ]
     },
     "metadata": {},
     "output_type": "display_data"
    },
    {
     "name": "stdout",
     "output_type": "stream",
     "text": [
      "=== Generate image for index 14 ===\n",
      "A red Ferrari car driving on a gravel road in a forest with rainbow beams in the distance.\n",
      "forest\n",
      "a gravel road\n",
      "rainbow beams\n",
      "a red Ferrari car\n",
      "forest 1 -th segment is handled.\n",
      "a gravel road 2 -th segment is handled.\n",
      "rainbow beams 3 -th segment is handled.\n",
      "a red Ferrari car 4 -th segment is handled.\n"
     ]
    },
    {
     "data": {
      "application/vnd.jupyter.widget-view+json": {
       "model_id": "69d390e639614beda32329de9c804904",
       "version_major": 2,
       "version_minor": 0
      },
      "text/plain": [
       "  0%|          | 0/10 [00:00<?, ?it/s]"
      ]
     },
     "metadata": {},
     "output_type": "display_data"
    },
    {
     "name": "stdout",
     "output_type": "stream",
     "text": [
      "=== Generate image for index 15 ===\n",
      "A painting of a black horse under a red full moon, in the style of The Starry Night.\n",
      "in the style of The Starry Night\n",
      "a black horse\n",
      "a red full moon\n",
      "in the style of The Starry Night 1 -th segment is handled.\n",
      "a black horse 2 -th segment is handled.\n",
      "a red full moon 3 -th segment is handled.\n"
     ]
    },
    {
     "data": {
      "application/vnd.jupyter.widget-view+json": {
       "model_id": "cd5c20e3a06642a19a6593a58cbce09d",
       "version_major": 2,
       "version_minor": 0
      },
      "text/plain": [
       "  0%|          | 0/10 [00:00<?, ?it/s]"
      ]
     },
     "metadata": {},
     "output_type": "display_data"
    },
    {
     "name": "stdout",
     "output_type": "stream",
     "text": [
      "=== Generate image for index 16 ===\n",
      "There is a blue bowl on a wooden table, and a picture on the wall in a room with sunlight.\n",
      "a room with sunlight\n",
      "a wooden table\n",
      "a picture on the wall\n",
      "a blue bowl\n",
      "a room with sunlight 1 -th segment is handled.\n",
      "a wooden table 2 -th segment is handled.\n",
      "a picture on the wall 3 -th segment is handled.\n",
      "a blue bowl 4 -th segment is handled.\n"
     ]
    },
    {
     "data": {
      "application/vnd.jupyter.widget-view+json": {
       "model_id": "8d39c9d54500467291583fc95f79539e",
       "version_major": 2,
       "version_minor": 0
      },
      "text/plain": [
       "  0%|          | 0/10 [00:00<?, ?it/s]"
      ]
     },
     "metadata": {},
     "output_type": "display_data"
    },
    {
     "name": "stdout",
     "output_type": "stream",
     "text": [
      "=== Generate image for index 17 ===\n",
      "a picture of a horse, and an astronaut, on the moon.\n",
      "on the moon\n",
      "an astronaut\n",
      "a horse\n",
      "on the moon 1 -th segment is handled.\n",
      "an astronaut 2 -th segment is handled.\n",
      "a horse 3 -th segment is handled.\n"
     ]
    },
    {
     "data": {
      "application/vnd.jupyter.widget-view+json": {
       "model_id": "c2b67c05a7244deca12089ffc1630162",
       "version_major": 2,
       "version_minor": 0
      },
      "text/plain": [
       "  0%|          | 0/10 [00:00<?, ?it/s]"
      ]
     },
     "metadata": {},
     "output_type": "display_data"
    },
    {
     "name": "stdout",
     "output_type": "stream",
     "text": [
      "=== Generate image for index 18 ===\n",
      "a black cat with a red sweater and a blue jeans in the forest.\n",
      "in the forest\n",
      "a black cat with a red sweater and a blue jeans\n",
      "in the forest 1 -th segment is handled.\n",
      "a black cat with a red sweater and a blue jeans 2 -th segment is handled.\n"
     ]
    },
    {
     "data": {
      "application/vnd.jupyter.widget-view+json": {
       "model_id": "51bf158f36934bc496cc665d0627236c",
       "version_major": 2,
       "version_minor": 0
      },
      "text/plain": [
       "  0%|          | 0/10 [00:00<?, ?it/s]"
      ]
     },
     "metadata": {},
     "output_type": "display_data"
    },
    {
     "name": "stdout",
     "output_type": "stream",
     "text": [
      "=== Generate image for index 19 ===\n",
      "A picture of a juggling bear at the beach.\n",
      "the beach\n",
      "a juggling bear\n",
      "the beach 1 -th segment is handled.\n",
      "a juggling bear 2 -th segment is handled.\n"
     ]
    },
    {
     "data": {
      "application/vnd.jupyter.widget-view+json": {
       "model_id": "e43f8a8b297c4e1d8690ebefe154e310",
       "version_major": 2,
       "version_minor": 0
      },
      "text/plain": [
       "  0%|          | 0/10 [00:00<?, ?it/s]"
      ]
     },
     "metadata": {},
     "output_type": "display_data"
    },
    {
     "name": "stderr",
     "output_type": "stream",
     "text": [
      "Potential NSFW content was detected in one or more images. A black image will be returned instead. Try again with a different prompt and/or seed.\n"
     ]
    },
    {
     "name": "stdout",
     "output_type": "stream",
     "text": [
      "=== Seed: 6 ===\n",
      "=== Generate image for index 0 ===\n",
      "There is a cute monkey on a thick branch who is holding a pink rose. It is on the top of a huge tree, and the sky is so wide and blue.\n",
      "the sky is so wide and blue\n",
      "a huge tree\n",
      "a thick branch\n",
      "a cute monkey\n",
      "a pink rose\n",
      "the sky is so wide and blue 1 -th segment is handled.\n",
      "a huge tree 2 -th segment is handled.\n",
      "a thick branch 3 -th segment is handled.\n",
      "a cute monkey 4 -th segment is handled.\n",
      "a pink rose 5 -th segment is handled.\n"
     ]
    },
    {
     "data": {
      "application/vnd.jupyter.widget-view+json": {
       "model_id": "ec9b18561fb34261893c0936ef9a28b0",
       "version_major": 2,
       "version_minor": 0
      },
      "text/plain": [
       "  0%|          | 0/10 [00:00<?, ?it/s]"
      ]
     },
     "metadata": {},
     "output_type": "display_data"
    },
    {
     "name": "stdout",
     "output_type": "stream",
     "text": [
      "=== Generate image for index 1 ===\n",
      "A painting of a dog riding a flying bicycle, over a big city with a yellowish full moon in the night sky.\n",
      "the night sky\n",
      "a big city\n",
      "a dog riding a flying bicycle\n",
      "a yellowish full moon\n",
      "the night sky 1 -th segment is handled.\n",
      "a big city 2 -th segment is handled.\n",
      "a dog riding a flying bicycle 3 -th segment is handled.\n",
      "a yellowish full moon 4 -th segment is handled.\n"
     ]
    },
    {
     "data": {
      "application/vnd.jupyter.widget-view+json": {
       "model_id": "bba7234a7922439c8da20cd44117ed46",
       "version_major": 2,
       "version_minor": 0
      },
      "text/plain": [
       "  0%|          | 0/10 [00:00<?, ?it/s]"
      ]
     },
     "metadata": {},
     "output_type": "display_data"
    },
    {
     "name": "stdout",
     "output_type": "stream",
     "text": [
      "=== Generate image for index 2 ===\n",
      "a blue koala is reading a book next to a pile of colorful books in the jungle.\n",
      "in the jungle\n",
      "a pile of colorful books\n",
      "a blue koala\n",
      "in the jungle 1 -th segment is handled.\n",
      "a pile of colorful books 2 -th segment is handled.\n",
      "a blue koala 3 -th segment is handled.\n"
     ]
    },
    {
     "data": {
      "application/vnd.jupyter.widget-view+json": {
       "model_id": "e72e913cf13f4a3e9feb7160235c3d23",
       "version_major": 2,
       "version_minor": 0
      },
      "text/plain": [
       "  0%|          | 0/10 [00:00<?, ?it/s]"
      ]
     },
     "metadata": {},
     "output_type": "display_data"
    },
    {
     "name": "stdout",
     "output_type": "stream",
     "text": [
      "=== Generate image for index 3 ===\n",
      "there are a robot made of gold and a robot made of silver are standing on an exotic planet with a red butterfly flying around them.\n",
      "on an exotic planet\n",
      "a robot made of gold\n",
      "a robot made of silver\n",
      "a red butterfly\n",
      "on an exotic planet 1 -th segment is handled.\n",
      "a robot made of gold 2 -th segment is handled.\n",
      "a robot made of silver 3 -th segment is handled.\n",
      "a red butterfly 4 -th segment is handled.\n"
     ]
    },
    {
     "data": {
      "application/vnd.jupyter.widget-view+json": {
       "model_id": "b0e530f843a749bfac2dd455ae9648a6",
       "version_major": 2,
       "version_minor": 0
      },
      "text/plain": [
       "  0%|          | 0/10 [00:00<?, ?it/s]"
      ]
     },
     "metadata": {},
     "output_type": "display_data"
    },
    {
     "name": "stdout",
     "output_type": "stream",
     "text": [
      "=== Generate image for index 4 ===\n",
      "a painting of a rabbit drinking a cup of coffee next to a fireplace in the rustic wooden house.\n",
      "the rustic wooden house\n",
      "a rabbit drinking a cup of coffee\n",
      "a fireplace\n",
      "the rustic wooden house 1 -th segment is handled.\n",
      "a rabbit drinking a cup of coffee 2 -th segment is handled.\n",
      "a fireplace 3 -th segment is handled.\n"
     ]
    },
    {
     "data": {
      "application/vnd.jupyter.widget-view+json": {
       "model_id": "698ccfd6b7c44755bedf5cb92721fec9",
       "version_major": 2,
       "version_minor": 0
      },
      "text/plain": [
       "  0%|          | 0/10 [00:00<?, ?it/s]"
      ]
     },
     "metadata": {},
     "output_type": "display_data"
    },
    {
     "name": "stdout",
     "output_type": "stream",
     "text": [
      "=== Generate image for index 5 ===\n",
      "A painting of a couple holding a yellow umbrella in a street on a rainy night. The woman is wearing a white dress and the man is wearing a blue suit.\n",
      "a street on a rainy night\n",
      "the man is wearing a blue suit\n",
      "a yellow umbrella\n",
      "the woman is wearing a white dress\n",
      "a street on a rainy night 1 -th segment is handled.\n",
      "the man is wearing a blue suit 2 -th segment is handled.\n",
      "a yellow umbrella 3 -th segment is handled.\n",
      "the woman is wearing a white dress 4 -th segment is handled.\n"
     ]
    },
    {
     "data": {
      "application/vnd.jupyter.widget-view+json": {
       "model_id": "05012cf4eae54ad387ce4949c8c851ed",
       "version_major": 2,
       "version_minor": 0
      },
      "text/plain": [
       "  0%|          | 0/10 [00:00<?, ?it/s]"
      ]
     },
     "metadata": {},
     "output_type": "display_data"
    },
    {
     "name": "stdout",
     "output_type": "stream",
     "text": [
      "=== Generate image for index 6 ===\n",
      "A picture of a squirrel holding a sign with an apple painting at the desert.\n",
      "at the desert\n",
      "a squirrel\n",
      "a sign with an apple painting\n",
      "at the desert 1 -th segment is handled.\n",
      "a squirrel 2 -th segment is handled.\n",
      "a sign with an apple painting 3 -th segment is handled.\n"
     ]
    },
    {
     "data": {
      "application/vnd.jupyter.widget-view+json": {
       "model_id": "681783996ef34a7e97a7a80be879a4b1",
       "version_major": 2,
       "version_minor": 0
      },
      "text/plain": [
       "  0%|          | 0/10 [00:00<?, ?it/s]"
      ]
     },
     "metadata": {},
     "output_type": "display_data"
    },
    {
     "name": "stdout",
     "output_type": "stream",
     "text": [
      "=== Generate image for index 7 ===\n",
      "A lion is reading a book at the beach.\n",
      "the beach\n",
      "a lion\n",
      "a book\n",
      "the beach 1 -th segment is handled.\n",
      "a lion 2 -th segment is handled.\n",
      "a book 3 -th segment is handled.\n"
     ]
    },
    {
     "data": {
      "application/vnd.jupyter.widget-view+json": {
       "model_id": "e0223c2b9c39420091ff3a47f77b8abf",
       "version_major": 2,
       "version_minor": 0
      },
      "text/plain": [
       "  0%|          | 0/10 [00:00<?, ?it/s]"
      ]
     },
     "metadata": {},
     "output_type": "display_data"
    },
    {
     "name": "stdout",
     "output_type": "stream",
     "text": [
      "=== Generate image for index 8 ===\n",
      "a black elephant near a lake.\n",
      "\n",
      "a black elephant\n",
      " 1 -th segment is handled.\n",
      "a black elephant 2 -th segment is handled.\n"
     ]
    },
    {
     "data": {
      "application/vnd.jupyter.widget-view+json": {
       "model_id": "972bda98bba746c7bb2b2ee1ced4f80c",
       "version_major": 2,
       "version_minor": 0
      },
      "text/plain": [
       "  0%|          | 0/10 [00:00<?, ?it/s]"
      ]
     },
     "metadata": {},
     "output_type": "display_data"
    },
    {
     "name": "stdout",
     "output_type": "stream",
     "text": [
      "=== Generate image for index 9 ===\n",
      "a mouse wearing boxing gloves is hitting a black punching bag on a snowy day.\n",
      "on a snowy day\n",
      "a mouse\n",
      "a black punching bag\n",
      "boxing gloves\n",
      "on a snowy day 1 -th segment is handled.\n",
      "a mouse 2 -th segment is handled.\n",
      "a black punching bag 3 -th segment is handled.\n",
      "boxing gloves 4 -th segment is handled.\n"
     ]
    },
    {
     "data": {
      "application/vnd.jupyter.widget-view+json": {
       "model_id": "9d472ffe2d4244d99cfca636fc0d53ae",
       "version_major": 2,
       "version_minor": 0
      },
      "text/plain": [
       "  0%|          | 0/10 [00:00<?, ?it/s]"
      ]
     },
     "metadata": {},
     "output_type": "display_data"
    },
    {
     "name": "stdout",
     "output_type": "stream",
     "text": [
      "=== Generate image for index 10 ===\n",
      "a painting of a red car in front of a snowy mountain.\n",
      "\n",
      "a snowy mountain\n",
      "a red car\n",
      " 1 -th segment is handled.\n",
      "a snowy mountain 2 -th segment is handled.\n",
      "a red car 3 -th segment is handled.\n"
     ]
    },
    {
     "data": {
      "application/vnd.jupyter.widget-view+json": {
       "model_id": "377c66b5b0034032abaf2c55d82aa929",
       "version_major": 2,
       "version_minor": 0
      },
      "text/plain": [
       "  0%|          | 0/10 [00:00<?, ?it/s]"
      ]
     },
     "metadata": {},
     "output_type": "display_data"
    },
    {
     "name": "stdout",
     "output_type": "stream",
     "text": [
      "=== Generate image for index 11 ===\n",
      "a mirror, a white sink and a vase with red flowers in a bathroom with an artificial light.\n",
      "\n",
      "a mirror\n",
      "a white sink\n",
      "a vase with red flowers\n",
      " 1 -th segment is handled.\n",
      "a mirror 2 -th segment is handled.\n",
      "a white sink 3 -th segment is handled.\n",
      "a vase with red flowers 4 -th segment is handled.\n"
     ]
    },
    {
     "data": {
      "application/vnd.jupyter.widget-view+json": {
       "model_id": "aba0f13d000046d5ba0cb0ff1a5cbc93",
       "version_major": 2,
       "version_minor": 0
      },
      "text/plain": [
       "  0%|          | 0/10 [00:00<?, ?it/s]"
      ]
     },
     "metadata": {},
     "output_type": "display_data"
    },
    {
     "name": "stdout",
     "output_type": "stream",
     "text": [
      "=== Generate image for index 12 ===\n",
      "A grizzly bear is looking at a huge avocado near a river.\n",
      "near a river\n",
      "a grizzly bear\n",
      "a huge avocado\n",
      "near a river 1 -th segment is handled.\n",
      "a grizzly bear 2 -th segment is handled.\n",
      "a huge avocado 3 -th segment is handled.\n"
     ]
    },
    {
     "data": {
      "application/vnd.jupyter.widget-view+json": {
       "model_id": "901d2d4dde724332befcb012de1db8a1",
       "version_major": 2,
       "version_minor": 0
      },
      "text/plain": [
       "  0%|          | 0/10 [00:00<?, ?it/s]"
      ]
     },
     "metadata": {},
     "output_type": "display_data"
    },
    {
     "name": "stdout",
     "output_type": "stream",
     "text": [
      "=== Generate image for index 13 ===\n",
      "A picture of a German Shepherd dog and a Husky dog on a sunny day after the snow.\n",
      "a sunny day after the snow\n",
      "a German Shepherd dog\n",
      "a Husky dog\n",
      "a sunny day after the snow 1 -th segment is handled.\n",
      "a German Shepherd dog 2 -th segment is handled.\n",
      "a Husky dog 3 -th segment is handled.\n"
     ]
    },
    {
     "data": {
      "application/vnd.jupyter.widget-view+json": {
       "model_id": "d614c2e59315436a9d762165a48be64a",
       "version_major": 2,
       "version_minor": 0
      },
      "text/plain": [
       "  0%|          | 0/10 [00:00<?, ?it/s]"
      ]
     },
     "metadata": {},
     "output_type": "display_data"
    },
    {
     "name": "stdout",
     "output_type": "stream",
     "text": [
      "=== Generate image for index 14 ===\n",
      "A red Ferrari car driving on a gravel road in a forest with rainbow beams in the distance.\n",
      "forest\n",
      "a gravel road\n",
      "rainbow beams\n",
      "a red Ferrari car\n",
      "forest 1 -th segment is handled.\n",
      "a gravel road 2 -th segment is handled.\n",
      "rainbow beams 3 -th segment is handled.\n",
      "a red Ferrari car 4 -th segment is handled.\n"
     ]
    },
    {
     "data": {
      "application/vnd.jupyter.widget-view+json": {
       "model_id": "3cfe0ecb59c24661a9b3c71d76e8a6de",
       "version_major": 2,
       "version_minor": 0
      },
      "text/plain": [
       "  0%|          | 0/10 [00:00<?, ?it/s]"
      ]
     },
     "metadata": {},
     "output_type": "display_data"
    },
    {
     "name": "stdout",
     "output_type": "stream",
     "text": [
      "=== Generate image for index 15 ===\n",
      "A painting of a black horse under a red full moon, in the style of The Starry Night.\n",
      "in the style of The Starry Night\n",
      "a black horse\n",
      "a red full moon\n",
      "in the style of The Starry Night 1 -th segment is handled.\n",
      "a black horse 2 -th segment is handled.\n",
      "a red full moon 3 -th segment is handled.\n"
     ]
    },
    {
     "data": {
      "application/vnd.jupyter.widget-view+json": {
       "model_id": "1b52cf5195364d05a446844da228a1b7",
       "version_major": 2,
       "version_minor": 0
      },
      "text/plain": [
       "  0%|          | 0/10 [00:00<?, ?it/s]"
      ]
     },
     "metadata": {},
     "output_type": "display_data"
    },
    {
     "name": "stdout",
     "output_type": "stream",
     "text": [
      "=== Generate image for index 16 ===\n",
      "There is a blue bowl on a wooden table, and a picture on the wall in a room with sunlight.\n",
      "a room with sunlight\n",
      "a wooden table\n",
      "a picture on the wall\n",
      "a blue bowl\n",
      "a room with sunlight 1 -th segment is handled.\n",
      "a wooden table 2 -th segment is handled.\n",
      "a picture on the wall 3 -th segment is handled.\n",
      "a blue bowl 4 -th segment is handled.\n"
     ]
    },
    {
     "data": {
      "application/vnd.jupyter.widget-view+json": {
       "model_id": "bee99f9df71f49adb1d14ad0da961c62",
       "version_major": 2,
       "version_minor": 0
      },
      "text/plain": [
       "  0%|          | 0/10 [00:00<?, ?it/s]"
      ]
     },
     "metadata": {},
     "output_type": "display_data"
    },
    {
     "name": "stdout",
     "output_type": "stream",
     "text": [
      "=== Generate image for index 17 ===\n",
      "a picture of a horse, and an astronaut, on the moon.\n",
      "on the moon\n",
      "an astronaut\n",
      "a horse\n",
      "on the moon 1 -th segment is handled.\n",
      "an astronaut 2 -th segment is handled.\n",
      "a horse 3 -th segment is handled.\n"
     ]
    },
    {
     "data": {
      "application/vnd.jupyter.widget-view+json": {
       "model_id": "ba53d369e6bf4d2c976d1e116c24320b",
       "version_major": 2,
       "version_minor": 0
      },
      "text/plain": [
       "  0%|          | 0/10 [00:00<?, ?it/s]"
      ]
     },
     "metadata": {},
     "output_type": "display_data"
    },
    {
     "name": "stdout",
     "output_type": "stream",
     "text": [
      "=== Generate image for index 18 ===\n",
      "a black cat with a red sweater and a blue jeans in the forest.\n",
      "in the forest\n",
      "a black cat with a red sweater and a blue jeans\n",
      "in the forest 1 -th segment is handled.\n",
      "a black cat with a red sweater and a blue jeans 2 -th segment is handled.\n"
     ]
    },
    {
     "data": {
      "application/vnd.jupyter.widget-view+json": {
       "model_id": "666070a776c446f9810e57fb75604f20",
       "version_major": 2,
       "version_minor": 0
      },
      "text/plain": [
       "  0%|          | 0/10 [00:00<?, ?it/s]"
      ]
     },
     "metadata": {},
     "output_type": "display_data"
    },
    {
     "name": "stdout",
     "output_type": "stream",
     "text": [
      "=== Generate image for index 19 ===\n",
      "A picture of a juggling bear at the beach.\n",
      "the beach\n",
      "a juggling bear\n",
      "the beach 1 -th segment is handled.\n",
      "a juggling bear 2 -th segment is handled.\n"
     ]
    },
    {
     "data": {
      "application/vnd.jupyter.widget-view+json": {
       "model_id": "1825a499a3434222a0020c2cbc24870b",
       "version_major": 2,
       "version_minor": 0
      },
      "text/plain": [
       "  0%|          | 0/10 [00:00<?, ?it/s]"
      ]
     },
     "metadata": {},
     "output_type": "display_data"
    },
    {
     "name": "stdout",
     "output_type": "stream",
     "text": [
      "=== Seed: 7 ===\n",
      "=== Generate image for index 0 ===\n",
      "There is a cute monkey on a thick branch who is holding a pink rose. It is on the top of a huge tree, and the sky is so wide and blue.\n",
      "the sky is so wide and blue\n",
      "a huge tree\n",
      "a thick branch\n",
      "a cute monkey\n",
      "a pink rose\n",
      "the sky is so wide and blue 1 -th segment is handled.\n",
      "a huge tree 2 -th segment is handled.\n",
      "a thick branch 3 -th segment is handled.\n",
      "a cute monkey 4 -th segment is handled.\n",
      "a pink rose 5 -th segment is handled.\n"
     ]
    },
    {
     "data": {
      "application/vnd.jupyter.widget-view+json": {
       "model_id": "be0d88e6d7fc4d469de547370b28aa50",
       "version_major": 2,
       "version_minor": 0
      },
      "text/plain": [
       "  0%|          | 0/10 [00:00<?, ?it/s]"
      ]
     },
     "metadata": {},
     "output_type": "display_data"
    },
    {
     "name": "stdout",
     "output_type": "stream",
     "text": [
      "=== Generate image for index 1 ===\n",
      "A painting of a dog riding a flying bicycle, over a big city with a yellowish full moon in the night sky.\n",
      "the night sky\n",
      "a big city\n",
      "a dog riding a flying bicycle\n",
      "a yellowish full moon\n",
      "the night sky 1 -th segment is handled.\n",
      "a big city 2 -th segment is handled.\n",
      "a dog riding a flying bicycle 3 -th segment is handled.\n",
      "a yellowish full moon 4 -th segment is handled.\n"
     ]
    },
    {
     "data": {
      "application/vnd.jupyter.widget-view+json": {
       "model_id": "442c62f6376f486bb3512bc29e5561c2",
       "version_major": 2,
       "version_minor": 0
      },
      "text/plain": [
       "  0%|          | 0/10 [00:00<?, ?it/s]"
      ]
     },
     "metadata": {},
     "output_type": "display_data"
    },
    {
     "name": "stdout",
     "output_type": "stream",
     "text": [
      "=== Generate image for index 2 ===\n",
      "a blue koala is reading a book next to a pile of colorful books in the jungle.\n",
      "in the jungle\n",
      "a pile of colorful books\n",
      "a blue koala\n",
      "in the jungle 1 -th segment is handled.\n",
      "a pile of colorful books 2 -th segment is handled.\n",
      "a blue koala 3 -th segment is handled.\n"
     ]
    },
    {
     "data": {
      "application/vnd.jupyter.widget-view+json": {
       "model_id": "7d1385c0813943459370e4bad5cb4669",
       "version_major": 2,
       "version_minor": 0
      },
      "text/plain": [
       "  0%|          | 0/10 [00:00<?, ?it/s]"
      ]
     },
     "metadata": {},
     "output_type": "display_data"
    },
    {
     "name": "stdout",
     "output_type": "stream",
     "text": [
      "=== Generate image for index 3 ===\n",
      "there are a robot made of gold and a robot made of silver are standing on an exotic planet with a red butterfly flying around them.\n",
      "on an exotic planet\n",
      "a robot made of gold\n",
      "a robot made of silver\n",
      "a red butterfly\n",
      "on an exotic planet 1 -th segment is handled.\n",
      "a robot made of gold 2 -th segment is handled.\n",
      "a robot made of silver 3 -th segment is handled.\n",
      "a red butterfly 4 -th segment is handled.\n"
     ]
    },
    {
     "data": {
      "application/vnd.jupyter.widget-view+json": {
       "model_id": "489e6e9567174ce0825b6cabb4fbc36f",
       "version_major": 2,
       "version_minor": 0
      },
      "text/plain": [
       "  0%|          | 0/10 [00:00<?, ?it/s]"
      ]
     },
     "metadata": {},
     "output_type": "display_data"
    },
    {
     "name": "stdout",
     "output_type": "stream",
     "text": [
      "=== Generate image for index 4 ===\n",
      "a painting of a rabbit drinking a cup of coffee next to a fireplace in the rustic wooden house.\n",
      "the rustic wooden house\n",
      "a rabbit drinking a cup of coffee\n",
      "a fireplace\n",
      "the rustic wooden house 1 -th segment is handled.\n",
      "a rabbit drinking a cup of coffee 2 -th segment is handled.\n",
      "a fireplace 3 -th segment is handled.\n"
     ]
    },
    {
     "data": {
      "application/vnd.jupyter.widget-view+json": {
       "model_id": "0301295871e848a4bb87c76990dacabf",
       "version_major": 2,
       "version_minor": 0
      },
      "text/plain": [
       "  0%|          | 0/10 [00:00<?, ?it/s]"
      ]
     },
     "metadata": {},
     "output_type": "display_data"
    },
    {
     "name": "stdout",
     "output_type": "stream",
     "text": [
      "=== Generate image for index 5 ===\n",
      "A painting of a couple holding a yellow umbrella in a street on a rainy night. The woman is wearing a white dress and the man is wearing a blue suit.\n",
      "a street on a rainy night\n",
      "the man is wearing a blue suit\n",
      "a yellow umbrella\n",
      "the woman is wearing a white dress\n",
      "a street on a rainy night 1 -th segment is handled.\n",
      "the man is wearing a blue suit 2 -th segment is handled.\n",
      "a yellow umbrella 3 -th segment is handled.\n",
      "the woman is wearing a white dress 4 -th segment is handled.\n"
     ]
    },
    {
     "data": {
      "application/vnd.jupyter.widget-view+json": {
       "model_id": "83d1c6685af049e4b5c3b6d9360531a6",
       "version_major": 2,
       "version_minor": 0
      },
      "text/plain": [
       "  0%|          | 0/10 [00:00<?, ?it/s]"
      ]
     },
     "metadata": {},
     "output_type": "display_data"
    },
    {
     "name": "stdout",
     "output_type": "stream",
     "text": [
      "=== Generate image for index 6 ===\n",
      "A picture of a squirrel holding a sign with an apple painting at the desert.\n",
      "at the desert\n",
      "a squirrel\n",
      "a sign with an apple painting\n",
      "at the desert 1 -th segment is handled.\n",
      "a squirrel 2 -th segment is handled.\n",
      "a sign with an apple painting 3 -th segment is handled.\n"
     ]
    },
    {
     "data": {
      "application/vnd.jupyter.widget-view+json": {
       "model_id": "b0ed30d118b54379bc3edb2971c49b67",
       "version_major": 2,
       "version_minor": 0
      },
      "text/plain": [
       "  0%|          | 0/10 [00:00<?, ?it/s]"
      ]
     },
     "metadata": {},
     "output_type": "display_data"
    },
    {
     "name": "stdout",
     "output_type": "stream",
     "text": [
      "=== Generate image for index 7 ===\n",
      "A lion is reading a book at the beach.\n",
      "the beach\n",
      "a lion\n",
      "a book\n",
      "the beach 1 -th segment is handled.\n",
      "a lion 2 -th segment is handled.\n",
      "a book 3 -th segment is handled.\n"
     ]
    },
    {
     "data": {
      "application/vnd.jupyter.widget-view+json": {
       "model_id": "976bc5f2c9ca467589ae2edffa0db319",
       "version_major": 2,
       "version_minor": 0
      },
      "text/plain": [
       "  0%|          | 0/10 [00:00<?, ?it/s]"
      ]
     },
     "metadata": {},
     "output_type": "display_data"
    },
    {
     "name": "stdout",
     "output_type": "stream",
     "text": [
      "=== Generate image for index 8 ===\n",
      "a black elephant near a lake.\n",
      "\n",
      "a black elephant\n",
      " 1 -th segment is handled.\n",
      "a black elephant 2 -th segment is handled.\n"
     ]
    },
    {
     "data": {
      "application/vnd.jupyter.widget-view+json": {
       "model_id": "9fdcc6653f274110a31cd7fac8efe6e9",
       "version_major": 2,
       "version_minor": 0
      },
      "text/plain": [
       "  0%|          | 0/10 [00:00<?, ?it/s]"
      ]
     },
     "metadata": {},
     "output_type": "display_data"
    },
    {
     "name": "stdout",
     "output_type": "stream",
     "text": [
      "=== Generate image for index 9 ===\n",
      "a mouse wearing boxing gloves is hitting a black punching bag on a snowy day.\n",
      "on a snowy day\n",
      "a mouse\n",
      "a black punching bag\n",
      "boxing gloves\n",
      "on a snowy day 1 -th segment is handled.\n",
      "a mouse 2 -th segment is handled.\n",
      "a black punching bag 3 -th segment is handled.\n",
      "boxing gloves 4 -th segment is handled.\n"
     ]
    },
    {
     "data": {
      "application/vnd.jupyter.widget-view+json": {
       "model_id": "e36d1a70da8c45c38e7a8e03a236d133",
       "version_major": 2,
       "version_minor": 0
      },
      "text/plain": [
       "  0%|          | 0/10 [00:00<?, ?it/s]"
      ]
     },
     "metadata": {},
     "output_type": "display_data"
    },
    {
     "name": "stdout",
     "output_type": "stream",
     "text": [
      "=== Generate image for index 10 ===\n",
      "a painting of a red car in front of a snowy mountain.\n",
      "\n",
      "a snowy mountain\n",
      "a red car\n",
      " 1 -th segment is handled.\n",
      "a snowy mountain 2 -th segment is handled.\n",
      "a red car 3 -th segment is handled.\n"
     ]
    },
    {
     "data": {
      "application/vnd.jupyter.widget-view+json": {
       "model_id": "66cae90d73d5413c9a9131a2b6f87fac",
       "version_major": 2,
       "version_minor": 0
      },
      "text/plain": [
       "  0%|          | 0/10 [00:00<?, ?it/s]"
      ]
     },
     "metadata": {},
     "output_type": "display_data"
    },
    {
     "name": "stdout",
     "output_type": "stream",
     "text": [
      "=== Generate image for index 11 ===\n",
      "a mirror, a white sink and a vase with red flowers in a bathroom with an artificial light.\n",
      "\n",
      "a mirror\n",
      "a white sink\n",
      "a vase with red flowers\n",
      " 1 -th segment is handled.\n",
      "a mirror 2 -th segment is handled.\n",
      "a white sink 3 -th segment is handled.\n",
      "a vase with red flowers 4 -th segment is handled.\n"
     ]
    },
    {
     "data": {
      "application/vnd.jupyter.widget-view+json": {
       "model_id": "f87d8735568347e7962fba315c3007bb",
       "version_major": 2,
       "version_minor": 0
      },
      "text/plain": [
       "  0%|          | 0/10 [00:00<?, ?it/s]"
      ]
     },
     "metadata": {},
     "output_type": "display_data"
    },
    {
     "name": "stdout",
     "output_type": "stream",
     "text": [
      "=== Generate image for index 12 ===\n",
      "A grizzly bear is looking at a huge avocado near a river.\n",
      "near a river\n",
      "a grizzly bear\n",
      "a huge avocado\n",
      "near a river 1 -th segment is handled.\n",
      "a grizzly bear 2 -th segment is handled.\n",
      "a huge avocado 3 -th segment is handled.\n"
     ]
    },
    {
     "data": {
      "application/vnd.jupyter.widget-view+json": {
       "model_id": "0094078407784d83bd4075107f86efcf",
       "version_major": 2,
       "version_minor": 0
      },
      "text/plain": [
       "  0%|          | 0/10 [00:00<?, ?it/s]"
      ]
     },
     "metadata": {},
     "output_type": "display_data"
    },
    {
     "name": "stdout",
     "output_type": "stream",
     "text": [
      "=== Generate image for index 13 ===\n",
      "A picture of a German Shepherd dog and a Husky dog on a sunny day after the snow.\n",
      "a sunny day after the snow\n",
      "a German Shepherd dog\n",
      "a Husky dog\n",
      "a sunny day after the snow 1 -th segment is handled.\n",
      "a German Shepherd dog 2 -th segment is handled.\n",
      "a Husky dog 3 -th segment is handled.\n"
     ]
    },
    {
     "data": {
      "application/vnd.jupyter.widget-view+json": {
       "model_id": "860922af5ec3457b93e5d36cb0e6c165",
       "version_major": 2,
       "version_minor": 0
      },
      "text/plain": [
       "  0%|          | 0/10 [00:00<?, ?it/s]"
      ]
     },
     "metadata": {},
     "output_type": "display_data"
    },
    {
     "name": "stdout",
     "output_type": "stream",
     "text": [
      "=== Generate image for index 14 ===\n",
      "A red Ferrari car driving on a gravel road in a forest with rainbow beams in the distance.\n",
      "forest\n",
      "a gravel road\n",
      "rainbow beams\n",
      "a red Ferrari car\n",
      "forest 1 -th segment is handled.\n",
      "a gravel road 2 -th segment is handled.\n",
      "rainbow beams 3 -th segment is handled.\n",
      "a red Ferrari car 4 -th segment is handled.\n"
     ]
    },
    {
     "data": {
      "application/vnd.jupyter.widget-view+json": {
       "model_id": "c78ba783ea4b470dbc809e022f04ad47",
       "version_major": 2,
       "version_minor": 0
      },
      "text/plain": [
       "  0%|          | 0/10 [00:00<?, ?it/s]"
      ]
     },
     "metadata": {},
     "output_type": "display_data"
    },
    {
     "name": "stdout",
     "output_type": "stream",
     "text": [
      "=== Generate image for index 15 ===\n",
      "A painting of a black horse under a red full moon, in the style of The Starry Night.\n",
      "in the style of The Starry Night\n",
      "a black horse\n",
      "a red full moon\n",
      "in the style of The Starry Night 1 -th segment is handled.\n",
      "a black horse 2 -th segment is handled.\n",
      "a red full moon 3 -th segment is handled.\n"
     ]
    },
    {
     "data": {
      "application/vnd.jupyter.widget-view+json": {
       "model_id": "3fbb3404b93043aaa303c96df175abbf",
       "version_major": 2,
       "version_minor": 0
      },
      "text/plain": [
       "  0%|          | 0/10 [00:00<?, ?it/s]"
      ]
     },
     "metadata": {},
     "output_type": "display_data"
    },
    {
     "name": "stdout",
     "output_type": "stream",
     "text": [
      "=== Generate image for index 16 ===\n",
      "There is a blue bowl on a wooden table, and a picture on the wall in a room with sunlight.\n",
      "a room with sunlight\n",
      "a wooden table\n",
      "a picture on the wall\n",
      "a blue bowl\n",
      "a room with sunlight 1 -th segment is handled.\n",
      "a wooden table 2 -th segment is handled.\n",
      "a picture on the wall 3 -th segment is handled.\n",
      "a blue bowl 4 -th segment is handled.\n"
     ]
    },
    {
     "data": {
      "application/vnd.jupyter.widget-view+json": {
       "model_id": "9f864d9604ae4b7e8c6f66f91606eb88",
       "version_major": 2,
       "version_minor": 0
      },
      "text/plain": [
       "  0%|          | 0/10 [00:00<?, ?it/s]"
      ]
     },
     "metadata": {},
     "output_type": "display_data"
    },
    {
     "name": "stdout",
     "output_type": "stream",
     "text": [
      "=== Generate image for index 17 ===\n",
      "a picture of a horse, and an astronaut, on the moon.\n",
      "on the moon\n",
      "an astronaut\n",
      "a horse\n",
      "on the moon 1 -th segment is handled.\n",
      "an astronaut 2 -th segment is handled.\n",
      "a horse 3 -th segment is handled.\n"
     ]
    },
    {
     "data": {
      "application/vnd.jupyter.widget-view+json": {
       "model_id": "e9f8eac2d46843a5a1920665e534db33",
       "version_major": 2,
       "version_minor": 0
      },
      "text/plain": [
       "  0%|          | 0/10 [00:00<?, ?it/s]"
      ]
     },
     "metadata": {},
     "output_type": "display_data"
    },
    {
     "name": "stdout",
     "output_type": "stream",
     "text": [
      "=== Generate image for index 18 ===\n",
      "a black cat with a red sweater and a blue jeans in the forest.\n",
      "in the forest\n",
      "a black cat with a red sweater and a blue jeans\n",
      "in the forest 1 -th segment is handled.\n",
      "a black cat with a red sweater and a blue jeans 2 -th segment is handled.\n"
     ]
    },
    {
     "data": {
      "application/vnd.jupyter.widget-view+json": {
       "model_id": "1701aa20fca94d58a0b2664f3a15f140",
       "version_major": 2,
       "version_minor": 0
      },
      "text/plain": [
       "  0%|          | 0/10 [00:00<?, ?it/s]"
      ]
     },
     "metadata": {},
     "output_type": "display_data"
    },
    {
     "name": "stdout",
     "output_type": "stream",
     "text": [
      "=== Generate image for index 19 ===\n",
      "A picture of a juggling bear at the beach.\n",
      "the beach\n",
      "a juggling bear\n",
      "the beach 1 -th segment is handled.\n",
      "a juggling bear 2 -th segment is handled.\n"
     ]
    },
    {
     "data": {
      "application/vnd.jupyter.widget-view+json": {
       "model_id": "df69d42c0cf44ecd9ef6011194fc25ba",
       "version_major": 2,
       "version_minor": 0
      },
      "text/plain": [
       "  0%|          | 0/10 [00:00<?, ?it/s]"
      ]
     },
     "metadata": {},
     "output_type": "display_data"
    },
    {
     "name": "stdout",
     "output_type": "stream",
     "text": [
      "=== Seed: 8 ===\n",
      "=== Generate image for index 0 ===\n",
      "There is a cute monkey on a thick branch who is holding a pink rose. It is on the top of a huge tree, and the sky is so wide and blue.\n",
      "the sky is so wide and blue\n",
      "a huge tree\n",
      "a thick branch\n",
      "a cute monkey\n",
      "a pink rose\n",
      "the sky is so wide and blue 1 -th segment is handled.\n",
      "a huge tree 2 -th segment is handled.\n",
      "a thick branch 3 -th segment is handled.\n",
      "a cute monkey 4 -th segment is handled.\n",
      "a pink rose 5 -th segment is handled.\n"
     ]
    },
    {
     "data": {
      "application/vnd.jupyter.widget-view+json": {
       "model_id": "abc08b0852354f1089f9c63b99dbf985",
       "version_major": 2,
       "version_minor": 0
      },
      "text/plain": [
       "  0%|          | 0/10 [00:00<?, ?it/s]"
      ]
     },
     "metadata": {},
     "output_type": "display_data"
    },
    {
     "name": "stdout",
     "output_type": "stream",
     "text": [
      "=== Generate image for index 1 ===\n",
      "A painting of a dog riding a flying bicycle, over a big city with a yellowish full moon in the night sky.\n",
      "the night sky\n",
      "a big city\n",
      "a dog riding a flying bicycle\n",
      "a yellowish full moon\n",
      "the night sky 1 -th segment is handled.\n",
      "a big city 2 -th segment is handled.\n",
      "a dog riding a flying bicycle 3 -th segment is handled.\n",
      "a yellowish full moon 4 -th segment is handled.\n"
     ]
    },
    {
     "data": {
      "application/vnd.jupyter.widget-view+json": {
       "model_id": "27dee1c3469a47d5b7becee8e0068384",
       "version_major": 2,
       "version_minor": 0
      },
      "text/plain": [
       "  0%|          | 0/10 [00:00<?, ?it/s]"
      ]
     },
     "metadata": {},
     "output_type": "display_data"
    },
    {
     "name": "stdout",
     "output_type": "stream",
     "text": [
      "=== Generate image for index 2 ===\n",
      "a blue koala is reading a book next to a pile of colorful books in the jungle.\n",
      "in the jungle\n",
      "a pile of colorful books\n",
      "a blue koala\n",
      "in the jungle 1 -th segment is handled.\n",
      "a pile of colorful books 2 -th segment is handled.\n",
      "a blue koala 3 -th segment is handled.\n"
     ]
    },
    {
     "data": {
      "application/vnd.jupyter.widget-view+json": {
       "model_id": "593ef03a584643faa566718c4f19eee7",
       "version_major": 2,
       "version_minor": 0
      },
      "text/plain": [
       "  0%|          | 0/10 [00:00<?, ?it/s]"
      ]
     },
     "metadata": {},
     "output_type": "display_data"
    },
    {
     "name": "stdout",
     "output_type": "stream",
     "text": [
      "=== Generate image for index 3 ===\n",
      "there are a robot made of gold and a robot made of silver are standing on an exotic planet with a red butterfly flying around them.\n",
      "on an exotic planet\n",
      "a robot made of gold\n",
      "a robot made of silver\n",
      "a red butterfly\n",
      "on an exotic planet 1 -th segment is handled.\n",
      "a robot made of gold 2 -th segment is handled.\n",
      "a robot made of silver 3 -th segment is handled.\n",
      "a red butterfly 4 -th segment is handled.\n"
     ]
    },
    {
     "data": {
      "application/vnd.jupyter.widget-view+json": {
       "model_id": "14b43e2d08dc48339376d5872d74b3cf",
       "version_major": 2,
       "version_minor": 0
      },
      "text/plain": [
       "  0%|          | 0/10 [00:00<?, ?it/s]"
      ]
     },
     "metadata": {},
     "output_type": "display_data"
    },
    {
     "name": "stdout",
     "output_type": "stream",
     "text": [
      "=== Generate image for index 4 ===\n",
      "a painting of a rabbit drinking a cup of coffee next to a fireplace in the rustic wooden house.\n",
      "the rustic wooden house\n",
      "a rabbit drinking a cup of coffee\n",
      "a fireplace\n",
      "the rustic wooden house 1 -th segment is handled.\n",
      "a rabbit drinking a cup of coffee 2 -th segment is handled.\n",
      "a fireplace 3 -th segment is handled.\n"
     ]
    },
    {
     "data": {
      "application/vnd.jupyter.widget-view+json": {
       "model_id": "26116543171a4386a25eb36dc2df5e72",
       "version_major": 2,
       "version_minor": 0
      },
      "text/plain": [
       "  0%|          | 0/10 [00:00<?, ?it/s]"
      ]
     },
     "metadata": {},
     "output_type": "display_data"
    },
    {
     "name": "stdout",
     "output_type": "stream",
     "text": [
      "=== Generate image for index 5 ===\n",
      "A painting of a couple holding a yellow umbrella in a street on a rainy night. The woman is wearing a white dress and the man is wearing a blue suit.\n",
      "a street on a rainy night\n",
      "the man is wearing a blue suit\n",
      "a yellow umbrella\n",
      "the woman is wearing a white dress\n",
      "a street on a rainy night 1 -th segment is handled.\n",
      "the man is wearing a blue suit 2 -th segment is handled.\n",
      "a yellow umbrella 3 -th segment is handled.\n",
      "the woman is wearing a white dress 4 -th segment is handled.\n"
     ]
    },
    {
     "data": {
      "application/vnd.jupyter.widget-view+json": {
       "model_id": "75e95d1ea1004cd98586b1cefe09c109",
       "version_major": 2,
       "version_minor": 0
      },
      "text/plain": [
       "  0%|          | 0/10 [00:00<?, ?it/s]"
      ]
     },
     "metadata": {},
     "output_type": "display_data"
    },
    {
     "name": "stdout",
     "output_type": "stream",
     "text": [
      "=== Generate image for index 6 ===\n",
      "A picture of a squirrel holding a sign with an apple painting at the desert.\n",
      "at the desert\n",
      "a squirrel\n",
      "a sign with an apple painting\n",
      "at the desert 1 -th segment is handled.\n",
      "a squirrel 2 -th segment is handled.\n",
      "a sign with an apple painting 3 -th segment is handled.\n"
     ]
    },
    {
     "data": {
      "application/vnd.jupyter.widget-view+json": {
       "model_id": "b3491d2b02ef46569c3b710dbdf82e52",
       "version_major": 2,
       "version_minor": 0
      },
      "text/plain": [
       "  0%|          | 0/10 [00:00<?, ?it/s]"
      ]
     },
     "metadata": {},
     "output_type": "display_data"
    },
    {
     "name": "stdout",
     "output_type": "stream",
     "text": [
      "=== Generate image for index 7 ===\n",
      "A lion is reading a book at the beach.\n",
      "the beach\n",
      "a lion\n",
      "a book\n",
      "the beach 1 -th segment is handled.\n",
      "a lion 2 -th segment is handled.\n",
      "a book 3 -th segment is handled.\n"
     ]
    },
    {
     "data": {
      "application/vnd.jupyter.widget-view+json": {
       "model_id": "306ef64e88ef4ebb9b3f1f314a48201f",
       "version_major": 2,
       "version_minor": 0
      },
      "text/plain": [
       "  0%|          | 0/10 [00:00<?, ?it/s]"
      ]
     },
     "metadata": {},
     "output_type": "display_data"
    },
    {
     "name": "stdout",
     "output_type": "stream",
     "text": [
      "=== Generate image for index 8 ===\n",
      "a black elephant near a lake.\n",
      "\n",
      "a black elephant\n",
      " 1 -th segment is handled.\n",
      "a black elephant 2 -th segment is handled.\n"
     ]
    },
    {
     "data": {
      "application/vnd.jupyter.widget-view+json": {
       "model_id": "e5153b69625a4fa896e388cdf90120c6",
       "version_major": 2,
       "version_minor": 0
      },
      "text/plain": [
       "  0%|          | 0/10 [00:00<?, ?it/s]"
      ]
     },
     "metadata": {},
     "output_type": "display_data"
    },
    {
     "name": "stdout",
     "output_type": "stream",
     "text": [
      "=== Generate image for index 9 ===\n",
      "a mouse wearing boxing gloves is hitting a black punching bag on a snowy day.\n",
      "on a snowy day\n",
      "a mouse\n",
      "a black punching bag\n",
      "boxing gloves\n",
      "on a snowy day 1 -th segment is handled.\n",
      "a mouse 2 -th segment is handled.\n",
      "a black punching bag 3 -th segment is handled.\n",
      "boxing gloves 4 -th segment is handled.\n"
     ]
    },
    {
     "data": {
      "application/vnd.jupyter.widget-view+json": {
       "model_id": "d82633d881c14702ab535e6a0ae5bbc1",
       "version_major": 2,
       "version_minor": 0
      },
      "text/plain": [
       "  0%|          | 0/10 [00:00<?, ?it/s]"
      ]
     },
     "metadata": {},
     "output_type": "display_data"
    },
    {
     "name": "stdout",
     "output_type": "stream",
     "text": [
      "=== Generate image for index 10 ===\n",
      "a painting of a red car in front of a snowy mountain.\n",
      "\n",
      "a snowy mountain\n",
      "a red car\n",
      " 1 -th segment is handled.\n",
      "a snowy mountain 2 -th segment is handled.\n",
      "a red car 3 -th segment is handled.\n"
     ]
    },
    {
     "data": {
      "application/vnd.jupyter.widget-view+json": {
       "model_id": "ccc717432f0d422ca9c569f75f671155",
       "version_major": 2,
       "version_minor": 0
      },
      "text/plain": [
       "  0%|          | 0/10 [00:00<?, ?it/s]"
      ]
     },
     "metadata": {},
     "output_type": "display_data"
    },
    {
     "name": "stdout",
     "output_type": "stream",
     "text": [
      "=== Generate image for index 11 ===\n",
      "a mirror, a white sink and a vase with red flowers in a bathroom with an artificial light.\n",
      "\n",
      "a mirror\n",
      "a white sink\n",
      "a vase with red flowers\n",
      " 1 -th segment is handled.\n",
      "a mirror 2 -th segment is handled.\n",
      "a white sink 3 -th segment is handled.\n",
      "a vase with red flowers 4 -th segment is handled.\n"
     ]
    },
    {
     "data": {
      "application/vnd.jupyter.widget-view+json": {
       "model_id": "64ea3a2c51d047acbe2f91aeea301cb2",
       "version_major": 2,
       "version_minor": 0
      },
      "text/plain": [
       "  0%|          | 0/10 [00:00<?, ?it/s]"
      ]
     },
     "metadata": {},
     "output_type": "display_data"
    },
    {
     "name": "stdout",
     "output_type": "stream",
     "text": [
      "=== Generate image for index 12 ===\n",
      "A grizzly bear is looking at a huge avocado near a river.\n",
      "near a river\n",
      "a grizzly bear\n",
      "a huge avocado\n",
      "near a river 1 -th segment is handled.\n",
      "a grizzly bear 2 -th segment is handled.\n",
      "a huge avocado 3 -th segment is handled.\n"
     ]
    },
    {
     "data": {
      "application/vnd.jupyter.widget-view+json": {
       "model_id": "8657293c5f7a47abb0fd5f2297daa324",
       "version_major": 2,
       "version_minor": 0
      },
      "text/plain": [
       "  0%|          | 0/10 [00:00<?, ?it/s]"
      ]
     },
     "metadata": {},
     "output_type": "display_data"
    },
    {
     "name": "stdout",
     "output_type": "stream",
     "text": [
      "=== Generate image for index 13 ===\n",
      "A picture of a German Shepherd dog and a Husky dog on a sunny day after the snow.\n",
      "a sunny day after the snow\n",
      "a German Shepherd dog\n",
      "a Husky dog\n",
      "a sunny day after the snow 1 -th segment is handled.\n",
      "a German Shepherd dog 2 -th segment is handled.\n",
      "a Husky dog 3 -th segment is handled.\n"
     ]
    },
    {
     "data": {
      "application/vnd.jupyter.widget-view+json": {
       "model_id": "6787678a7cd943aeb41f0ad337f76bdb",
       "version_major": 2,
       "version_minor": 0
      },
      "text/plain": [
       "  0%|          | 0/10 [00:00<?, ?it/s]"
      ]
     },
     "metadata": {},
     "output_type": "display_data"
    },
    {
     "name": "stdout",
     "output_type": "stream",
     "text": [
      "=== Generate image for index 14 ===\n",
      "A red Ferrari car driving on a gravel road in a forest with rainbow beams in the distance.\n",
      "forest\n",
      "a gravel road\n",
      "rainbow beams\n",
      "a red Ferrari car\n",
      "forest 1 -th segment is handled.\n",
      "a gravel road 2 -th segment is handled.\n",
      "rainbow beams 3 -th segment is handled.\n",
      "a red Ferrari car 4 -th segment is handled.\n"
     ]
    },
    {
     "data": {
      "application/vnd.jupyter.widget-view+json": {
       "model_id": "f426289439d640a5b2dc33fc1f839dba",
       "version_major": 2,
       "version_minor": 0
      },
      "text/plain": [
       "  0%|          | 0/10 [00:00<?, ?it/s]"
      ]
     },
     "metadata": {},
     "output_type": "display_data"
    },
    {
     "name": "stdout",
     "output_type": "stream",
     "text": [
      "=== Generate image for index 15 ===\n",
      "A painting of a black horse under a red full moon, in the style of The Starry Night.\n",
      "in the style of The Starry Night\n",
      "a black horse\n",
      "a red full moon\n",
      "in the style of The Starry Night 1 -th segment is handled.\n",
      "a black horse 2 -th segment is handled.\n",
      "a red full moon 3 -th segment is handled.\n"
     ]
    },
    {
     "data": {
      "application/vnd.jupyter.widget-view+json": {
       "model_id": "f68d412ceef44a1e800a28836573b323",
       "version_major": 2,
       "version_minor": 0
      },
      "text/plain": [
       "  0%|          | 0/10 [00:00<?, ?it/s]"
      ]
     },
     "metadata": {},
     "output_type": "display_data"
    },
    {
     "name": "stdout",
     "output_type": "stream",
     "text": [
      "=== Generate image for index 16 ===\n",
      "There is a blue bowl on a wooden table, and a picture on the wall in a room with sunlight.\n",
      "a room with sunlight\n",
      "a wooden table\n",
      "a picture on the wall\n",
      "a blue bowl\n",
      "a room with sunlight 1 -th segment is handled.\n",
      "a wooden table 2 -th segment is handled.\n",
      "a picture on the wall 3 -th segment is handled.\n",
      "a blue bowl 4 -th segment is handled.\n"
     ]
    },
    {
     "data": {
      "application/vnd.jupyter.widget-view+json": {
       "model_id": "ab65dd925a32498eb7d2a46c99358577",
       "version_major": 2,
       "version_minor": 0
      },
      "text/plain": [
       "  0%|          | 0/10 [00:00<?, ?it/s]"
      ]
     },
     "metadata": {},
     "output_type": "display_data"
    },
    {
     "name": "stdout",
     "output_type": "stream",
     "text": [
      "=== Generate image for index 17 ===\n",
      "a picture of a horse, and an astronaut, on the moon.\n",
      "on the moon\n",
      "an astronaut\n",
      "a horse\n",
      "on the moon 1 -th segment is handled.\n",
      "an astronaut 2 -th segment is handled.\n",
      "a horse 3 -th segment is handled.\n"
     ]
    },
    {
     "data": {
      "application/vnd.jupyter.widget-view+json": {
       "model_id": "8c800fbde2c744a28265392b843c7dcf",
       "version_major": 2,
       "version_minor": 0
      },
      "text/plain": [
       "  0%|          | 0/10 [00:00<?, ?it/s]"
      ]
     },
     "metadata": {},
     "output_type": "display_data"
    },
    {
     "name": "stdout",
     "output_type": "stream",
     "text": [
      "=== Generate image for index 18 ===\n",
      "a black cat with a red sweater and a blue jeans in the forest.\n",
      "in the forest\n",
      "a black cat with a red sweater and a blue jeans\n",
      "in the forest 1 -th segment is handled.\n",
      "a black cat with a red sweater and a blue jeans 2 -th segment is handled.\n"
     ]
    },
    {
     "data": {
      "application/vnd.jupyter.widget-view+json": {
       "model_id": "f61c62b8de0a4b5d8bbca35cf76b9a37",
       "version_major": 2,
       "version_minor": 0
      },
      "text/plain": [
       "  0%|          | 0/10 [00:00<?, ?it/s]"
      ]
     },
     "metadata": {},
     "output_type": "display_data"
    },
    {
     "name": "stdout",
     "output_type": "stream",
     "text": [
      "=== Generate image for index 19 ===\n",
      "A picture of a juggling bear at the beach.\n",
      "the beach\n",
      "a juggling bear\n",
      "the beach 1 -th segment is handled.\n",
      "a juggling bear 2 -th segment is handled.\n"
     ]
    },
    {
     "data": {
      "application/vnd.jupyter.widget-view+json": {
       "model_id": "ef28fb1ade1241318c0f07359428a580",
       "version_major": 2,
       "version_minor": 0
      },
      "text/plain": [
       "  0%|          | 0/10 [00:00<?, ?it/s]"
      ]
     },
     "metadata": {},
     "output_type": "display_data"
    },
    {
     "name": "stdout",
     "output_type": "stream",
     "text": [
      "=== Seed: 9 ===\n",
      "=== Generate image for index 0 ===\n",
      "There is a cute monkey on a thick branch who is holding a pink rose. It is on the top of a huge tree, and the sky is so wide and blue.\n",
      "the sky is so wide and blue\n",
      "a huge tree\n",
      "a thick branch\n",
      "a cute monkey\n",
      "a pink rose\n",
      "the sky is so wide and blue 1 -th segment is handled.\n",
      "a huge tree 2 -th segment is handled.\n",
      "a thick branch 3 -th segment is handled.\n",
      "a cute monkey 4 -th segment is handled.\n",
      "a pink rose 5 -th segment is handled.\n"
     ]
    },
    {
     "data": {
      "application/vnd.jupyter.widget-view+json": {
       "model_id": "1f4d57ba02ff48c799584e83c9c89810",
       "version_major": 2,
       "version_minor": 0
      },
      "text/plain": [
       "  0%|          | 0/10 [00:00<?, ?it/s]"
      ]
     },
     "metadata": {},
     "output_type": "display_data"
    },
    {
     "name": "stdout",
     "output_type": "stream",
     "text": [
      "=== Generate image for index 1 ===\n",
      "A painting of a dog riding a flying bicycle, over a big city with a yellowish full moon in the night sky.\n",
      "the night sky\n",
      "a big city\n",
      "a dog riding a flying bicycle\n",
      "a yellowish full moon\n",
      "the night sky 1 -th segment is handled.\n",
      "a big city 2 -th segment is handled.\n",
      "a dog riding a flying bicycle 3 -th segment is handled.\n",
      "a yellowish full moon 4 -th segment is handled.\n"
     ]
    },
    {
     "data": {
      "application/vnd.jupyter.widget-view+json": {
       "model_id": "01b9755ca4064118949abbfa41fcd469",
       "version_major": 2,
       "version_minor": 0
      },
      "text/plain": [
       "  0%|          | 0/10 [00:00<?, ?it/s]"
      ]
     },
     "metadata": {},
     "output_type": "display_data"
    },
    {
     "name": "stdout",
     "output_type": "stream",
     "text": [
      "=== Generate image for index 2 ===\n",
      "a blue koala is reading a book next to a pile of colorful books in the jungle.\n",
      "in the jungle\n",
      "a pile of colorful books\n",
      "a blue koala\n",
      "in the jungle 1 -th segment is handled.\n",
      "a pile of colorful books 2 -th segment is handled.\n",
      "a blue koala 3 -th segment is handled.\n"
     ]
    },
    {
     "data": {
      "application/vnd.jupyter.widget-view+json": {
       "model_id": "23f9ee1c73594bc6b620aadea5edc928",
       "version_major": 2,
       "version_minor": 0
      },
      "text/plain": [
       "  0%|          | 0/10 [00:00<?, ?it/s]"
      ]
     },
     "metadata": {},
     "output_type": "display_data"
    },
    {
     "name": "stdout",
     "output_type": "stream",
     "text": [
      "=== Generate image for index 3 ===\n",
      "there are a robot made of gold and a robot made of silver are standing on an exotic planet with a red butterfly flying around them.\n",
      "on an exotic planet\n",
      "a robot made of gold\n",
      "a robot made of silver\n",
      "a red butterfly\n",
      "on an exotic planet 1 -th segment is handled.\n",
      "a robot made of gold 2 -th segment is handled.\n",
      "a robot made of silver 3 -th segment is handled.\n",
      "a red butterfly 4 -th segment is handled.\n"
     ]
    },
    {
     "data": {
      "application/vnd.jupyter.widget-view+json": {
       "model_id": "b0ca01ee05304297b7259cf278b5da4b",
       "version_major": 2,
       "version_minor": 0
      },
      "text/plain": [
       "  0%|          | 0/10 [00:00<?, ?it/s]"
      ]
     },
     "metadata": {},
     "output_type": "display_data"
    },
    {
     "name": "stdout",
     "output_type": "stream",
     "text": [
      "=== Generate image for index 4 ===\n",
      "a painting of a rabbit drinking a cup of coffee next to a fireplace in the rustic wooden house.\n",
      "the rustic wooden house\n",
      "a rabbit drinking a cup of coffee\n",
      "a fireplace\n",
      "the rustic wooden house 1 -th segment is handled.\n",
      "a rabbit drinking a cup of coffee 2 -th segment is handled.\n",
      "a fireplace 3 -th segment is handled.\n"
     ]
    },
    {
     "data": {
      "application/vnd.jupyter.widget-view+json": {
       "model_id": "fc148d71ec1d41df8a53f3192232ce3b",
       "version_major": 2,
       "version_minor": 0
      },
      "text/plain": [
       "  0%|          | 0/10 [00:00<?, ?it/s]"
      ]
     },
     "metadata": {},
     "output_type": "display_data"
    },
    {
     "name": "stdout",
     "output_type": "stream",
     "text": [
      "=== Generate image for index 5 ===\n",
      "A painting of a couple holding a yellow umbrella in a street on a rainy night. The woman is wearing a white dress and the man is wearing a blue suit.\n",
      "a street on a rainy night\n",
      "the man is wearing a blue suit\n",
      "a yellow umbrella\n",
      "the woman is wearing a white dress\n",
      "a street on a rainy night 1 -th segment is handled.\n",
      "the man is wearing a blue suit 2 -th segment is handled.\n",
      "a yellow umbrella 3 -th segment is handled.\n",
      "the woman is wearing a white dress 4 -th segment is handled.\n"
     ]
    },
    {
     "data": {
      "application/vnd.jupyter.widget-view+json": {
       "model_id": "005029d4c30b44d086f2cab067cceefa",
       "version_major": 2,
       "version_minor": 0
      },
      "text/plain": [
       "  0%|          | 0/10 [00:00<?, ?it/s]"
      ]
     },
     "metadata": {},
     "output_type": "display_data"
    },
    {
     "name": "stdout",
     "output_type": "stream",
     "text": [
      "=== Generate image for index 6 ===\n",
      "A picture of a squirrel holding a sign with an apple painting at the desert.\n",
      "at the desert\n",
      "a squirrel\n",
      "a sign with an apple painting\n",
      "at the desert 1 -th segment is handled.\n",
      "a squirrel 2 -th segment is handled.\n",
      "a sign with an apple painting 3 -th segment is handled.\n"
     ]
    },
    {
     "data": {
      "application/vnd.jupyter.widget-view+json": {
       "model_id": "49a7ddaedd5f427eb51d294497a2850c",
       "version_major": 2,
       "version_minor": 0
      },
      "text/plain": [
       "  0%|          | 0/10 [00:00<?, ?it/s]"
      ]
     },
     "metadata": {},
     "output_type": "display_data"
    },
    {
     "name": "stdout",
     "output_type": "stream",
     "text": [
      "=== Generate image for index 7 ===\n",
      "A lion is reading a book at the beach.\n",
      "the beach\n",
      "a lion\n",
      "a book\n",
      "the beach 1 -th segment is handled.\n",
      "a lion 2 -th segment is handled.\n",
      "a book 3 -th segment is handled.\n"
     ]
    },
    {
     "data": {
      "application/vnd.jupyter.widget-view+json": {
       "model_id": "b4d772a88bb6406c91b02e4775c6203d",
       "version_major": 2,
       "version_minor": 0
      },
      "text/plain": [
       "  0%|          | 0/10 [00:00<?, ?it/s]"
      ]
     },
     "metadata": {},
     "output_type": "display_data"
    },
    {
     "name": "stderr",
     "output_type": "stream",
     "text": [
      "Potential NSFW content was detected in one or more images. A black image will be returned instead. Try again with a different prompt and/or seed.\n"
     ]
    },
    {
     "name": "stdout",
     "output_type": "stream",
     "text": [
      "=== Generate image for index 8 ===\n",
      "a black elephant near a lake.\n",
      "\n",
      "a black elephant\n",
      " 1 -th segment is handled.\n",
      "a black elephant 2 -th segment is handled.\n"
     ]
    },
    {
     "data": {
      "application/vnd.jupyter.widget-view+json": {
       "model_id": "4f0fad70f55b419dba70697a296975cd",
       "version_major": 2,
       "version_minor": 0
      },
      "text/plain": [
       "  0%|          | 0/10 [00:00<?, ?it/s]"
      ]
     },
     "metadata": {},
     "output_type": "display_data"
    },
    {
     "name": "stdout",
     "output_type": "stream",
     "text": [
      "=== Generate image for index 9 ===\n",
      "a mouse wearing boxing gloves is hitting a black punching bag on a snowy day.\n",
      "on a snowy day\n",
      "a mouse\n",
      "a black punching bag\n",
      "boxing gloves\n",
      "on a snowy day 1 -th segment is handled.\n",
      "a mouse 2 -th segment is handled.\n",
      "a black punching bag 3 -th segment is handled.\n",
      "boxing gloves 4 -th segment is handled.\n"
     ]
    },
    {
     "data": {
      "application/vnd.jupyter.widget-view+json": {
       "model_id": "c31b068c7a644b1ca435803ad26f02da",
       "version_major": 2,
       "version_minor": 0
      },
      "text/plain": [
       "  0%|          | 0/10 [00:00<?, ?it/s]"
      ]
     },
     "metadata": {},
     "output_type": "display_data"
    },
    {
     "name": "stdout",
     "output_type": "stream",
     "text": [
      "=== Generate image for index 10 ===\n",
      "a painting of a red car in front of a snowy mountain.\n",
      "\n",
      "a snowy mountain\n",
      "a red car\n",
      " 1 -th segment is handled.\n",
      "a snowy mountain 2 -th segment is handled.\n",
      "a red car 3 -th segment is handled.\n"
     ]
    },
    {
     "data": {
      "application/vnd.jupyter.widget-view+json": {
       "model_id": "d9e6b0ee308f4fcdbe8e489ce23b4658",
       "version_major": 2,
       "version_minor": 0
      },
      "text/plain": [
       "  0%|          | 0/10 [00:00<?, ?it/s]"
      ]
     },
     "metadata": {},
     "output_type": "display_data"
    },
    {
     "name": "stdout",
     "output_type": "stream",
     "text": [
      "=== Generate image for index 11 ===\n",
      "a mirror, a white sink and a vase with red flowers in a bathroom with an artificial light.\n",
      "\n",
      "a mirror\n",
      "a white sink\n",
      "a vase with red flowers\n",
      " 1 -th segment is handled.\n",
      "a mirror 2 -th segment is handled.\n",
      "a white sink 3 -th segment is handled.\n",
      "a vase with red flowers 4 -th segment is handled.\n"
     ]
    },
    {
     "data": {
      "application/vnd.jupyter.widget-view+json": {
       "model_id": "24645fdee4d446f49ce45378938e0cde",
       "version_major": 2,
       "version_minor": 0
      },
      "text/plain": [
       "  0%|          | 0/10 [00:00<?, ?it/s]"
      ]
     },
     "metadata": {},
     "output_type": "display_data"
    },
    {
     "name": "stdout",
     "output_type": "stream",
     "text": [
      "=== Generate image for index 12 ===\n",
      "A grizzly bear is looking at a huge avocado near a river.\n",
      "near a river\n",
      "a grizzly bear\n",
      "a huge avocado\n",
      "near a river 1 -th segment is handled.\n",
      "a grizzly bear 2 -th segment is handled.\n",
      "a huge avocado 3 -th segment is handled.\n"
     ]
    },
    {
     "data": {
      "application/vnd.jupyter.widget-view+json": {
       "model_id": "0c79aba1c8764aacbf659f2c62616401",
       "version_major": 2,
       "version_minor": 0
      },
      "text/plain": [
       "  0%|          | 0/10 [00:00<?, ?it/s]"
      ]
     },
     "metadata": {},
     "output_type": "display_data"
    },
    {
     "name": "stdout",
     "output_type": "stream",
     "text": [
      "=== Generate image for index 13 ===\n",
      "A picture of a German Shepherd dog and a Husky dog on a sunny day after the snow.\n",
      "a sunny day after the snow\n",
      "a German Shepherd dog\n",
      "a Husky dog\n",
      "a sunny day after the snow 1 -th segment is handled.\n",
      "a German Shepherd dog 2 -th segment is handled.\n",
      "a Husky dog 3 -th segment is handled.\n"
     ]
    },
    {
     "data": {
      "application/vnd.jupyter.widget-view+json": {
       "model_id": "7926e8f418fe4e6f92c09d14a077fae4",
       "version_major": 2,
       "version_minor": 0
      },
      "text/plain": [
       "  0%|          | 0/10 [00:00<?, ?it/s]"
      ]
     },
     "metadata": {},
     "output_type": "display_data"
    },
    {
     "name": "stdout",
     "output_type": "stream",
     "text": [
      "=== Generate image for index 14 ===\n",
      "A red Ferrari car driving on a gravel road in a forest with rainbow beams in the distance.\n",
      "forest\n",
      "a gravel road\n",
      "rainbow beams\n",
      "a red Ferrari car\n",
      "forest 1 -th segment is handled.\n",
      "a gravel road 2 -th segment is handled.\n",
      "rainbow beams 3 -th segment is handled.\n",
      "a red Ferrari car 4 -th segment is handled.\n"
     ]
    },
    {
     "data": {
      "application/vnd.jupyter.widget-view+json": {
       "model_id": "5583f93532ab4732b5b4e4e492205d73",
       "version_major": 2,
       "version_minor": 0
      },
      "text/plain": [
       "  0%|          | 0/10 [00:00<?, ?it/s]"
      ]
     },
     "metadata": {},
     "output_type": "display_data"
    },
    {
     "name": "stdout",
     "output_type": "stream",
     "text": [
      "=== Generate image for index 15 ===\n",
      "A painting of a black horse under a red full moon, in the style of The Starry Night.\n",
      "in the style of The Starry Night\n",
      "a black horse\n",
      "a red full moon\n",
      "in the style of The Starry Night 1 -th segment is handled.\n",
      "a black horse 2 -th segment is handled.\n",
      "a red full moon 3 -th segment is handled.\n"
     ]
    },
    {
     "data": {
      "application/vnd.jupyter.widget-view+json": {
       "model_id": "fbc6256de12f4d56bc86580aec28e9eb",
       "version_major": 2,
       "version_minor": 0
      },
      "text/plain": [
       "  0%|          | 0/10 [00:00<?, ?it/s]"
      ]
     },
     "metadata": {},
     "output_type": "display_data"
    },
    {
     "name": "stdout",
     "output_type": "stream",
     "text": [
      "=== Generate image for index 16 ===\n",
      "There is a blue bowl on a wooden table, and a picture on the wall in a room with sunlight.\n",
      "a room with sunlight\n",
      "a wooden table\n",
      "a picture on the wall\n",
      "a blue bowl\n",
      "a room with sunlight 1 -th segment is handled.\n",
      "a wooden table 2 -th segment is handled.\n",
      "a picture on the wall 3 -th segment is handled.\n",
      "a blue bowl 4 -th segment is handled.\n"
     ]
    },
    {
     "data": {
      "application/vnd.jupyter.widget-view+json": {
       "model_id": "cce4a3e20f8e4e3fbf1144023b449c43",
       "version_major": 2,
       "version_minor": 0
      },
      "text/plain": [
       "  0%|          | 0/10 [00:00<?, ?it/s]"
      ]
     },
     "metadata": {},
     "output_type": "display_data"
    },
    {
     "name": "stdout",
     "output_type": "stream",
     "text": [
      "=== Generate image for index 17 ===\n",
      "a picture of a horse, and an astronaut, on the moon.\n",
      "on the moon\n",
      "an astronaut\n",
      "a horse\n",
      "on the moon 1 -th segment is handled.\n",
      "an astronaut 2 -th segment is handled.\n",
      "a horse 3 -th segment is handled.\n"
     ]
    },
    {
     "data": {
      "application/vnd.jupyter.widget-view+json": {
       "model_id": "09ba51a6050c403d9a54ac5945bea536",
       "version_major": 2,
       "version_minor": 0
      },
      "text/plain": [
       "  0%|          | 0/10 [00:00<?, ?it/s]"
      ]
     },
     "metadata": {},
     "output_type": "display_data"
    },
    {
     "name": "stdout",
     "output_type": "stream",
     "text": [
      "=== Generate image for index 18 ===\n",
      "a black cat with a red sweater and a blue jeans in the forest.\n",
      "in the forest\n",
      "a black cat with a red sweater and a blue jeans\n",
      "in the forest 1 -th segment is handled.\n",
      "a black cat with a red sweater and a blue jeans 2 -th segment is handled.\n"
     ]
    },
    {
     "data": {
      "application/vnd.jupyter.widget-view+json": {
       "model_id": "60e696d801824fb88ae120523b71a84b",
       "version_major": 2,
       "version_minor": 0
      },
      "text/plain": [
       "  0%|          | 0/10 [00:00<?, ?it/s]"
      ]
     },
     "metadata": {},
     "output_type": "display_data"
    },
    {
     "name": "stdout",
     "output_type": "stream",
     "text": [
      "=== Generate image for index 19 ===\n",
      "A picture of a juggling bear at the beach.\n",
      "the beach\n",
      "a juggling bear\n",
      "the beach 1 -th segment is handled.\n",
      "a juggling bear 2 -th segment is handled.\n"
     ]
    },
    {
     "data": {
      "application/vnd.jupyter.widget-view+json": {
       "model_id": "7c5c686d60094749b2650e5024d7e9a0",
       "version_major": 2,
       "version_minor": 0
      },
      "text/plain": [
       "  0%|          | 0/10 [00:00<?, ?it/s]"
      ]
     },
     "metadata": {},
     "output_type": "display_data"
    },
    {
     "name": "stdout",
     "output_type": "stream",
     "text": [
      "=== Seed: 10 ===\n",
      "=== Generate image for index 0 ===\n",
      "There is a cute monkey on a thick branch who is holding a pink rose. It is on the top of a huge tree, and the sky is so wide and blue.\n",
      "the sky is so wide and blue\n",
      "a huge tree\n",
      "a thick branch\n",
      "a cute monkey\n",
      "a pink rose\n",
      "the sky is so wide and blue 1 -th segment is handled.\n",
      "a huge tree 2 -th segment is handled.\n",
      "a thick branch 3 -th segment is handled.\n",
      "a cute monkey 4 -th segment is handled.\n",
      "a pink rose 5 -th segment is handled.\n"
     ]
    },
    {
     "data": {
      "application/vnd.jupyter.widget-view+json": {
       "model_id": "13e8d27972d349f0a9a68c168a0938c4",
       "version_major": 2,
       "version_minor": 0
      },
      "text/plain": [
       "  0%|          | 0/10 [00:00<?, ?it/s]"
      ]
     },
     "metadata": {},
     "output_type": "display_data"
    },
    {
     "name": "stdout",
     "output_type": "stream",
     "text": [
      "=== Generate image for index 1 ===\n",
      "A painting of a dog riding a flying bicycle, over a big city with a yellowish full moon in the night sky.\n",
      "the night sky\n",
      "a big city\n",
      "a dog riding a flying bicycle\n",
      "a yellowish full moon\n",
      "the night sky 1 -th segment is handled.\n",
      "a big city 2 -th segment is handled.\n",
      "a dog riding a flying bicycle 3 -th segment is handled.\n",
      "a yellowish full moon 4 -th segment is handled.\n"
     ]
    },
    {
     "data": {
      "application/vnd.jupyter.widget-view+json": {
       "model_id": "a7cb86bc0af542c18115f60f14fb8b36",
       "version_major": 2,
       "version_minor": 0
      },
      "text/plain": [
       "  0%|          | 0/10 [00:00<?, ?it/s]"
      ]
     },
     "metadata": {},
     "output_type": "display_data"
    },
    {
     "name": "stdout",
     "output_type": "stream",
     "text": [
      "=== Generate image for index 2 ===\n",
      "a blue koala is reading a book next to a pile of colorful books in the jungle.\n",
      "in the jungle\n",
      "a pile of colorful books\n",
      "a blue koala\n",
      "in the jungle 1 -th segment is handled.\n",
      "a pile of colorful books 2 -th segment is handled.\n",
      "a blue koala 3 -th segment is handled.\n"
     ]
    },
    {
     "data": {
      "application/vnd.jupyter.widget-view+json": {
       "model_id": "cbd7d5d588ed450799f8cade51225760",
       "version_major": 2,
       "version_minor": 0
      },
      "text/plain": [
       "  0%|          | 0/10 [00:00<?, ?it/s]"
      ]
     },
     "metadata": {},
     "output_type": "display_data"
    },
    {
     "name": "stdout",
     "output_type": "stream",
     "text": [
      "=== Generate image for index 3 ===\n",
      "there are a robot made of gold and a robot made of silver are standing on an exotic planet with a red butterfly flying around them.\n",
      "on an exotic planet\n",
      "a robot made of gold\n",
      "a robot made of silver\n",
      "a red butterfly\n",
      "on an exotic planet 1 -th segment is handled.\n",
      "a robot made of gold 2 -th segment is handled.\n",
      "a robot made of silver 3 -th segment is handled.\n",
      "a red butterfly 4 -th segment is handled.\n"
     ]
    },
    {
     "data": {
      "application/vnd.jupyter.widget-view+json": {
       "model_id": "86decb26d7504c6d9d8306a4a678fa7a",
       "version_major": 2,
       "version_minor": 0
      },
      "text/plain": [
       "  0%|          | 0/10 [00:00<?, ?it/s]"
      ]
     },
     "metadata": {},
     "output_type": "display_data"
    },
    {
     "name": "stdout",
     "output_type": "stream",
     "text": [
      "=== Generate image for index 4 ===\n",
      "a painting of a rabbit drinking a cup of coffee next to a fireplace in the rustic wooden house.\n",
      "the rustic wooden house\n",
      "a rabbit drinking a cup of coffee\n",
      "a fireplace\n",
      "the rustic wooden house 1 -th segment is handled.\n",
      "a rabbit drinking a cup of coffee 2 -th segment is handled.\n",
      "a fireplace 3 -th segment is handled.\n"
     ]
    },
    {
     "data": {
      "application/vnd.jupyter.widget-view+json": {
       "model_id": "a063efde53ac47288df24cc8877b6feb",
       "version_major": 2,
       "version_minor": 0
      },
      "text/plain": [
       "  0%|          | 0/10 [00:00<?, ?it/s]"
      ]
     },
     "metadata": {},
     "output_type": "display_data"
    },
    {
     "name": "stdout",
     "output_type": "stream",
     "text": [
      "=== Generate image for index 5 ===\n",
      "A painting of a couple holding a yellow umbrella in a street on a rainy night. The woman is wearing a white dress and the man is wearing a blue suit.\n",
      "a street on a rainy night\n",
      "the man is wearing a blue suit\n",
      "a yellow umbrella\n",
      "the woman is wearing a white dress\n",
      "a street on a rainy night 1 -th segment is handled.\n",
      "the man is wearing a blue suit 2 -th segment is handled.\n",
      "a yellow umbrella 3 -th segment is handled.\n",
      "the woman is wearing a white dress 4 -th segment is handled.\n"
     ]
    },
    {
     "data": {
      "application/vnd.jupyter.widget-view+json": {
       "model_id": "f79c7cfc451641c098fea54aecdb2482",
       "version_major": 2,
       "version_minor": 0
      },
      "text/plain": [
       "  0%|          | 0/10 [00:00<?, ?it/s]"
      ]
     },
     "metadata": {},
     "output_type": "display_data"
    },
    {
     "name": "stdout",
     "output_type": "stream",
     "text": [
      "=== Generate image for index 6 ===\n",
      "A picture of a squirrel holding a sign with an apple painting at the desert.\n",
      "at the desert\n",
      "a squirrel\n",
      "a sign with an apple painting\n",
      "at the desert 1 -th segment is handled.\n",
      "a squirrel 2 -th segment is handled.\n",
      "a sign with an apple painting 3 -th segment is handled.\n"
     ]
    },
    {
     "data": {
      "application/vnd.jupyter.widget-view+json": {
       "model_id": "5006975fd3a049ffbe3f536c4c6d2f3c",
       "version_major": 2,
       "version_minor": 0
      },
      "text/plain": [
       "  0%|          | 0/10 [00:00<?, ?it/s]"
      ]
     },
     "metadata": {},
     "output_type": "display_data"
    },
    {
     "name": "stdout",
     "output_type": "stream",
     "text": [
      "=== Generate image for index 7 ===\n",
      "A lion is reading a book at the beach.\n",
      "the beach\n",
      "a lion\n",
      "a book\n",
      "the beach 1 -th segment is handled.\n",
      "a lion 2 -th segment is handled.\n",
      "a book 3 -th segment is handled.\n"
     ]
    },
    {
     "data": {
      "application/vnd.jupyter.widget-view+json": {
       "model_id": "f9b439bbf6754cc6ab826c104fe6646a",
       "version_major": 2,
       "version_minor": 0
      },
      "text/plain": [
       "  0%|          | 0/10 [00:00<?, ?it/s]"
      ]
     },
     "metadata": {},
     "output_type": "display_data"
    },
    {
     "name": "stdout",
     "output_type": "stream",
     "text": [
      "=== Generate image for index 8 ===\n",
      "a black elephant near a lake.\n",
      "\n",
      "a black elephant\n",
      " 1 -th segment is handled.\n",
      "a black elephant 2 -th segment is handled.\n"
     ]
    },
    {
     "data": {
      "application/vnd.jupyter.widget-view+json": {
       "model_id": "4f5bc09dbcd34284894b9162d8a45b65",
       "version_major": 2,
       "version_minor": 0
      },
      "text/plain": [
       "  0%|          | 0/10 [00:00<?, ?it/s]"
      ]
     },
     "metadata": {},
     "output_type": "display_data"
    },
    {
     "name": "stdout",
     "output_type": "stream",
     "text": [
      "=== Generate image for index 9 ===\n",
      "a mouse wearing boxing gloves is hitting a black punching bag on a snowy day.\n",
      "on a snowy day\n",
      "a mouse\n",
      "a black punching bag\n",
      "boxing gloves\n",
      "on a snowy day 1 -th segment is handled.\n",
      "a mouse 2 -th segment is handled.\n",
      "a black punching bag 3 -th segment is handled.\n",
      "boxing gloves 4 -th segment is handled.\n"
     ]
    },
    {
     "data": {
      "application/vnd.jupyter.widget-view+json": {
       "model_id": "c829e64f7fcc4814b5816e47fb8cbe87",
       "version_major": 2,
       "version_minor": 0
      },
      "text/plain": [
       "  0%|          | 0/10 [00:00<?, ?it/s]"
      ]
     },
     "metadata": {},
     "output_type": "display_data"
    },
    {
     "name": "stdout",
     "output_type": "stream",
     "text": [
      "=== Generate image for index 10 ===\n",
      "a painting of a red car in front of a snowy mountain.\n",
      "\n",
      "a snowy mountain\n",
      "a red car\n",
      " 1 -th segment is handled.\n",
      "a snowy mountain 2 -th segment is handled.\n",
      "a red car 3 -th segment is handled.\n"
     ]
    },
    {
     "data": {
      "application/vnd.jupyter.widget-view+json": {
       "model_id": "f3b7c745ae4945c18d4d1a0a7fe228e4",
       "version_major": 2,
       "version_minor": 0
      },
      "text/plain": [
       "  0%|          | 0/10 [00:00<?, ?it/s]"
      ]
     },
     "metadata": {},
     "output_type": "display_data"
    },
    {
     "name": "stdout",
     "output_type": "stream",
     "text": [
      "=== Generate image for index 11 ===\n",
      "a mirror, a white sink and a vase with red flowers in a bathroom with an artificial light.\n",
      "\n",
      "a mirror\n",
      "a white sink\n",
      "a vase with red flowers\n",
      " 1 -th segment is handled.\n",
      "a mirror 2 -th segment is handled.\n",
      "a white sink 3 -th segment is handled.\n",
      "a vase with red flowers 4 -th segment is handled.\n"
     ]
    },
    {
     "data": {
      "application/vnd.jupyter.widget-view+json": {
       "model_id": "53309e55be5d4189a37beffcbc8fac97",
       "version_major": 2,
       "version_minor": 0
      },
      "text/plain": [
       "  0%|          | 0/10 [00:00<?, ?it/s]"
      ]
     },
     "metadata": {},
     "output_type": "display_data"
    },
    {
     "name": "stdout",
     "output_type": "stream",
     "text": [
      "=== Generate image for index 12 ===\n",
      "A grizzly bear is looking at a huge avocado near a river.\n",
      "near a river\n",
      "a grizzly bear\n",
      "a huge avocado\n",
      "near a river 1 -th segment is handled.\n",
      "a grizzly bear 2 -th segment is handled.\n",
      "a huge avocado 3 -th segment is handled.\n"
     ]
    },
    {
     "data": {
      "application/vnd.jupyter.widget-view+json": {
       "model_id": "299ce2d7b7db4651b6a382f02cd7db1e",
       "version_major": 2,
       "version_minor": 0
      },
      "text/plain": [
       "  0%|          | 0/10 [00:00<?, ?it/s]"
      ]
     },
     "metadata": {},
     "output_type": "display_data"
    },
    {
     "name": "stdout",
     "output_type": "stream",
     "text": [
      "=== Generate image for index 13 ===\n",
      "A picture of a German Shepherd dog and a Husky dog on a sunny day after the snow.\n",
      "a sunny day after the snow\n",
      "a German Shepherd dog\n",
      "a Husky dog\n",
      "a sunny day after the snow 1 -th segment is handled.\n",
      "a German Shepherd dog 2 -th segment is handled.\n",
      "a Husky dog 3 -th segment is handled.\n"
     ]
    },
    {
     "data": {
      "application/vnd.jupyter.widget-view+json": {
       "model_id": "bdd0afe8f9e94bd8be393c050b652aaf",
       "version_major": 2,
       "version_minor": 0
      },
      "text/plain": [
       "  0%|          | 0/10 [00:00<?, ?it/s]"
      ]
     },
     "metadata": {},
     "output_type": "display_data"
    },
    {
     "name": "stdout",
     "output_type": "stream",
     "text": [
      "=== Generate image for index 14 ===\n",
      "A red Ferrari car driving on a gravel road in a forest with rainbow beams in the distance.\n",
      "forest\n",
      "a gravel road\n",
      "rainbow beams\n",
      "a red Ferrari car\n",
      "forest 1 -th segment is handled.\n",
      "a gravel road 2 -th segment is handled.\n",
      "rainbow beams 3 -th segment is handled.\n",
      "a red Ferrari car 4 -th segment is handled.\n"
     ]
    },
    {
     "data": {
      "application/vnd.jupyter.widget-view+json": {
       "model_id": "7639db0dde4b4b9287bb76cdff2f595e",
       "version_major": 2,
       "version_minor": 0
      },
      "text/plain": [
       "  0%|          | 0/10 [00:00<?, ?it/s]"
      ]
     },
     "metadata": {},
     "output_type": "display_data"
    },
    {
     "name": "stdout",
     "output_type": "stream",
     "text": [
      "=== Generate image for index 15 ===\n",
      "A painting of a black horse under a red full moon, in the style of The Starry Night.\n",
      "in the style of The Starry Night\n",
      "a black horse\n",
      "a red full moon\n",
      "in the style of The Starry Night 1 -th segment is handled.\n",
      "a black horse 2 -th segment is handled.\n",
      "a red full moon 3 -th segment is handled.\n"
     ]
    },
    {
     "data": {
      "application/vnd.jupyter.widget-view+json": {
       "model_id": "457cf291562f4152a567ceb16964b0af",
       "version_major": 2,
       "version_minor": 0
      },
      "text/plain": [
       "  0%|          | 0/10 [00:00<?, ?it/s]"
      ]
     },
     "metadata": {},
     "output_type": "display_data"
    },
    {
     "name": "stdout",
     "output_type": "stream",
     "text": [
      "=== Generate image for index 16 ===\n",
      "There is a blue bowl on a wooden table, and a picture on the wall in a room with sunlight.\n",
      "a room with sunlight\n",
      "a wooden table\n",
      "a picture on the wall\n",
      "a blue bowl\n",
      "a room with sunlight 1 -th segment is handled.\n",
      "a wooden table 2 -th segment is handled.\n",
      "a picture on the wall 3 -th segment is handled.\n",
      "a blue bowl 4 -th segment is handled.\n"
     ]
    },
    {
     "data": {
      "application/vnd.jupyter.widget-view+json": {
       "model_id": "a72e87d6bd34436499699543319944b6",
       "version_major": 2,
       "version_minor": 0
      },
      "text/plain": [
       "  0%|          | 0/10 [00:00<?, ?it/s]"
      ]
     },
     "metadata": {},
     "output_type": "display_data"
    },
    {
     "name": "stdout",
     "output_type": "stream",
     "text": [
      "=== Generate image for index 17 ===\n",
      "a picture of a horse, and an astronaut, on the moon.\n",
      "on the moon\n",
      "an astronaut\n",
      "a horse\n",
      "on the moon 1 -th segment is handled.\n",
      "an astronaut 2 -th segment is handled.\n",
      "a horse 3 -th segment is handled.\n"
     ]
    },
    {
     "data": {
      "application/vnd.jupyter.widget-view+json": {
       "model_id": "ed1e3d14ab324807aa058fb469a043b8",
       "version_major": 2,
       "version_minor": 0
      },
      "text/plain": [
       "  0%|          | 0/10 [00:00<?, ?it/s]"
      ]
     },
     "metadata": {},
     "output_type": "display_data"
    },
    {
     "name": "stdout",
     "output_type": "stream",
     "text": [
      "=== Generate image for index 18 ===\n",
      "a black cat with a red sweater and a blue jeans in the forest.\n",
      "in the forest\n",
      "a black cat with a red sweater and a blue jeans\n",
      "in the forest 1 -th segment is handled.\n",
      "a black cat with a red sweater and a blue jeans 2 -th segment is handled.\n"
     ]
    },
    {
     "data": {
      "application/vnd.jupyter.widget-view+json": {
       "model_id": "ce7f51d0eb5045949badc6c0548ce5b5",
       "version_major": 2,
       "version_minor": 0
      },
      "text/plain": [
       "  0%|          | 0/10 [00:00<?, ?it/s]"
      ]
     },
     "metadata": {},
     "output_type": "display_data"
    },
    {
     "name": "stdout",
     "output_type": "stream",
     "text": [
      "=== Generate image for index 19 ===\n",
      "A picture of a juggling bear at the beach.\n",
      "the beach\n",
      "a juggling bear\n",
      "the beach 1 -th segment is handled.\n",
      "a juggling bear 2 -th segment is handled.\n"
     ]
    },
    {
     "data": {
      "application/vnd.jupyter.widget-view+json": {
       "model_id": "4d5267cd677245e596ae3dbdb91d1b57",
       "version_major": 2,
       "version_minor": 0
      },
      "text/plain": [
       "  0%|          | 0/10 [00:00<?, ?it/s]"
      ]
     },
     "metadata": {},
     "output_type": "display_data"
    }
   ],
   "source": [
    "imgs_idx = defaultdict(list)\n",
    "attentions_idx = defaultdict(list)\n",
    "prompts_idx = dict()\n",
    "bsz = 2\n",
    "args.idx = range(20)\n",
    "seeds = range(1,11)\n",
    "for seed in seeds:\n",
    "    args.seed = seed\n",
    "    print(f\"=== Seed: {seed} ===\")\n",
    "    for i in args.idx:\n",
    "        print(f\"=== Generate image for index {i} ===\")\n",
    "        generate_index_img(i)"
   ]
  },
  {
   "cell_type": "code",
   "execution_count": 21,
   "id": "2162f907-9c5e-49df-8ec4-7391f469d76c",
   "metadata": {
    "tags": []
   },
   "outputs": [],
   "source": [
    "for idx in imgs_idx:\n",
    "    save_path=f'./outputs/{idx:02}/'\n",
    "    for seed in range(len(imgs_idx[idx])):\n",
    "        for i, img_ in enumerate(imgs_idx[idx][seed]):\n",
    "            img_name = f'{args.model}_{args.num_inference_steps}steps_idx{idx:>02}_reg-ratio{reg_part:.1f}_sreg{sreg}_creg{creg}{args.wo_modulation*\"_woModulation\"}_seed{seed}_{i}.png'\n",
    "            img_.save(save_path+img_name)"
   ]
  },
  {
   "cell_type": "code",
   "execution_count": 28,
   "id": "d163a535-54ef-4a55-959c-3a8c95d74eee",
   "metadata": {
    "tags": []
   },
   "outputs": [
    {
     "data": {
      "text/plain": [
       "10"
      ]
     },
     "execution_count": 28,
     "metadata": {},
     "output_type": "execute_result"
    }
   ],
   "source": [
    "len(imgs_idx[0])"
   ]
  },
  {
   "cell_type": "code",
   "execution_count": 29,
   "id": "1b9ce7f5-b16a-40ae-a3a2-41112e97a1d5",
   "metadata": {
    "collapsed": true,
    "jupyter": {
     "outputs_hidden": true
    },
    "tags": []
   },
   "outputs": [
    {
     "data": {
      "text/plain": [
       "{0: 'There is a cute monkey on a thick branch who is holding a pink rose. It is on the top of a huge tree, and the sky is so wide and blue.',\n",
       " 1: 'A painting of a dog riding a flying bicycle, over a big city with a yellowish full moon in the night sky.',\n",
       " 2: 'a blue koala is reading a book next to a pile of colorful books in the jungle.',\n",
       " 3: 'there are a robot made of gold and a robot made of silver are standing on an exotic planet with a red butterfly flying around them.',\n",
       " 4: 'a painting of a rabbit drinking a cup of coffee next to a fireplace in the rustic wooden house.',\n",
       " 5: 'A painting of a couple holding a yellow umbrella in a street on a rainy night. The woman is wearing a white dress and the man is wearing a blue suit.',\n",
       " 6: 'A picture of a squirrel holding a sign with an apple painting at the desert.',\n",
       " 7: 'A lion is reading a book at the beach.',\n",
       " 8: 'a black elephant near a lake.',\n",
       " 9: 'a mouse wearing boxing gloves is hitting a black punching bag on a snowy day.',\n",
       " 10: 'a painting of a red car in front of a snowy mountain.',\n",
       " 11: 'a mirror, a white sink and a vase with red flowers in a bathroom with an artificial light.',\n",
       " 12: 'A grizzly bear is looking at a huge avocado near a river.',\n",
       " 13: 'A picture of a German Shepherd dog and a Husky dog on a sunny day after the snow.',\n",
       " 14: 'A red Ferrari car driving on a gravel road in a forest with rainbow beams in the distance.',\n",
       " 15: 'A painting of a black horse under a red full moon, in the style of The Starry Night.',\n",
       " 16: 'There is a blue bowl on a wooden table, and a picture on the wall in a room with sunlight.',\n",
       " 17: 'a picture of a horse, and an astronaut, on the moon.',\n",
       " 18: 'a black cat with a red sweater and a blue jeans in the forest.',\n",
       " 19: 'A picture of a juggling bear at the beach.'}"
      ]
     },
     "execution_count": 29,
     "metadata": {},
     "output_type": "execute_result"
    }
   ],
   "source": [
    "prompts_idx"
   ]
  },
  {
   "cell_type": "code",
   "execution_count": 40,
   "id": "013c643a-9147-4c19-b0ae-16a09d10c1c1",
   "metadata": {
    "tags": []
   },
   "outputs": [],
   "source": [
    "prompts = []\n",
    "eval_images = []\n",
    "for idx in imgs_idx:\n",
    "    save_path=f'./outputs/{idx:02}/'\n",
    "    for seed in range(len(imgs_idx[idx])):\n",
    "        for i, img_ in enumerate(imgs_idx[idx][seed]):\n",
    "            prompts.append(prompts_idx[i])\n",
    "            eval_images.append(np.array(img_))"
   ]
  },
  {
   "cell_type": "code",
   "execution_count": 50,
   "id": "c54e2c6e-0304-4b41-98c9-7349ef327a4b",
   "metadata": {
    "tags": []
   },
   "outputs": [],
   "source": [
    "concat_images = np.concatenate([eval_images])"
   ]
  },
  {
   "cell_type": "code",
   "execution_count": 59,
   "id": "828efcec-9dfc-41ab-bcff-15e8db062146",
   "metadata": {
    "tags": []
   },
   "outputs": [
    {
     "data": {
      "text/plain": [
       "(398, 512, 512, 3)"
      ]
     },
     "execution_count": 59,
     "metadata": {},
     "output_type": "execute_result"
    }
   ],
   "source": [
    "np.delete(concat_images.copy(),[142,156,389],0).shape"
   ]
  },
  {
   "cell_type": "code",
   "execution_count": 62,
   "id": "44e0d1bf-7b2e-4953-a5fa-5dce6c83ef4c",
   "metadata": {
    "tags": []
   },
   "outputs": [],
   "source": [
    "del_black_imgs = concat_images.copy()"
   ]
  },
  {
   "cell_type": "code",
   "execution_count": 61,
   "id": "9af7163f-e821-4583-815f-d0c916ec50ee",
   "metadata": {
    "tags": []
   },
   "outputs": [],
   "source": [
    "black_imgs = []\n",
    "for i, img_ in enumerate(concat_images):\n",
    "    if img_.mean()==0:\n",
    "        black_imgs.append(i)"
   ]
  },
  {
   "cell_type": "code",
   "execution_count": null,
   "id": "ea0e42d8-931c-4bc3-80ea-52760862dfd3",
   "metadata": {},
   "outputs": [],
   "source": [
    "black_imgs.po"
   ]
  },
  {
   "cell_type": "code",
   "execution_count": 63,
   "id": "c52b1b14-318b-46c4-b8e3-f68c27564e34",
   "metadata": {
    "collapsed": true,
    "jupyter": {
     "outputs_hidden": true
    },
    "tags": []
   },
   "outputs": [
    {
     "name": "stdout",
     "output_type": "stream",
     "text": [
      "389\n",
      "156\n",
      "142\n"
     ]
    },
    {
     "data": {
      "text/plain": [
       "array([[[[125, 147, 158],\n",
       "         [124, 146, 157],\n",
       "         [124, 145, 156],\n",
       "         ...,\n",
       "         [122, 147, 161],\n",
       "         [122, 148, 161],\n",
       "         [121, 146, 162]],\n",
       "\n",
       "        [[125, 146, 156],\n",
       "         [125, 145, 155],\n",
       "         [124, 146, 156],\n",
       "         ...,\n",
       "         [125, 149, 161],\n",
       "         [125, 147, 160],\n",
       "         [123, 146, 161]],\n",
       "\n",
       "        [[124, 146, 157],\n",
       "         [126, 146, 156],\n",
       "         [125, 146, 156],\n",
       "         ...,\n",
       "         [124, 148, 161],\n",
       "         [124, 146, 160],\n",
       "         [123, 147, 161]],\n",
       "\n",
       "        ...,\n",
       "\n",
       "        [[148, 147, 137],\n",
       "         [146, 147, 137],\n",
       "         [145, 146, 136],\n",
       "         ...,\n",
       "         [185, 187, 180],\n",
       "         [185, 187, 180],\n",
       "         [187, 187, 181]],\n",
       "\n",
       "        [[147, 147, 136],\n",
       "         [146, 146, 137],\n",
       "         [146, 145, 136],\n",
       "         ...,\n",
       "         [185, 186, 180],\n",
       "         [185, 187, 181],\n",
       "         [186, 187, 181]],\n",
       "\n",
       "        [[149, 149, 139],\n",
       "         [147, 147, 137],\n",
       "         [145, 146, 137],\n",
       "         ...,\n",
       "         [186, 187, 180],\n",
       "         [186, 188, 181],\n",
       "         [188, 189, 182]]],\n",
       "\n",
       "\n",
       "       [[[217, 210, 204],\n",
       "         [216, 208, 204],\n",
       "         [215, 207, 203],\n",
       "         ...,\n",
       "         [113, 133, 157],\n",
       "         [114, 135, 159],\n",
       "         [113, 133, 159]],\n",
       "\n",
       "        [[216, 208, 203],\n",
       "         [214, 207, 202],\n",
       "         [214, 207, 202],\n",
       "         ...,\n",
       "         [115, 135, 157],\n",
       "         [115, 135, 157],\n",
       "         [114, 134, 159]],\n",
       "\n",
       "        [[216, 208, 203],\n",
       "         [215, 208, 203],\n",
       "         [214, 206, 202],\n",
       "         ...,\n",
       "         [115, 134, 157],\n",
       "         [115, 134, 157],\n",
       "         [115, 134, 158]],\n",
       "\n",
       "        ...,\n",
       "\n",
       "        [[153, 166, 169],\n",
       "         [153, 166, 169],\n",
       "         [153, 166, 169],\n",
       "         ...,\n",
       "         [189, 182, 179],\n",
       "         [188, 181, 178],\n",
       "         [189, 182, 179]],\n",
       "\n",
       "        [[152, 167, 169],\n",
       "         [153, 166, 169],\n",
       "         [153, 166, 169],\n",
       "         ...,\n",
       "         [188, 181, 177],\n",
       "         [188, 182, 178],\n",
       "         [189, 181, 178]],\n",
       "\n",
       "        [[154, 169, 171],\n",
       "         [152, 167, 169],\n",
       "         [151, 167, 169],\n",
       "         ...,\n",
       "         [190, 182, 178],\n",
       "         [189, 182, 178],\n",
       "         [191, 183, 179]]],\n",
       "\n",
       "\n",
       "       [[[113, 133, 141],\n",
       "         [112, 132, 142],\n",
       "         [112, 132, 141],\n",
       "         ...,\n",
       "         [132, 146, 154],\n",
       "         [132, 146, 155],\n",
       "         [131, 145, 155]],\n",
       "\n",
       "        [[114, 132, 141],\n",
       "         [114, 132, 141],\n",
       "         [114, 133, 141],\n",
       "         ...,\n",
       "         [132, 146, 155],\n",
       "         [133, 145, 155],\n",
       "         [132, 145, 155]],\n",
       "\n",
       "        [[114, 132, 141],\n",
       "         [115, 132, 141],\n",
       "         [114, 133, 141],\n",
       "         ...,\n",
       "         [132, 145, 154],\n",
       "         [132, 145, 154],\n",
       "         [133, 146, 155]],\n",
       "\n",
       "        ...,\n",
       "\n",
       "        [[139, 147, 137],\n",
       "         [139, 147, 139],\n",
       "         [138, 148, 139],\n",
       "         ...,\n",
       "         [150, 159, 153],\n",
       "         [150, 158, 152],\n",
       "         [150, 158, 152]],\n",
       "\n",
       "        [[138, 148, 137],\n",
       "         [138, 147, 138],\n",
       "         [139, 148, 139],\n",
       "         ...,\n",
       "         [149, 158, 152],\n",
       "         [150, 159, 153],\n",
       "         [150, 159, 153]],\n",
       "\n",
       "        [[139, 150, 140],\n",
       "         [139, 149, 139],\n",
       "         [138, 149, 138],\n",
       "         ...,\n",
       "         [150, 159, 152],\n",
       "         [150, 159, 153],\n",
       "         [151, 160, 154]]],\n",
       "\n",
       "\n",
       "       ...,\n",
       "\n",
       "\n",
       "       [[[190, 194, 197],\n",
       "         [189, 193, 197],\n",
       "         [189, 192, 197],\n",
       "         ...,\n",
       "         [193, 198, 202],\n",
       "         [193, 199, 202],\n",
       "         [193, 197, 203]],\n",
       "\n",
       "        [[188, 192, 195],\n",
       "         [188, 192, 195],\n",
       "         [188, 192, 196],\n",
       "         ...,\n",
       "         [193, 199, 202],\n",
       "         [193, 198, 202],\n",
       "         [193, 198, 202]],\n",
       "\n",
       "        [[188, 192, 196],\n",
       "         [188, 193, 196],\n",
       "         [187, 192, 195],\n",
       "         ...,\n",
       "         [192, 196, 200],\n",
       "         [193, 197, 201],\n",
       "         [194, 198, 202]],\n",
       "\n",
       "        ...,\n",
       "\n",
       "        [[140, 120, 101],\n",
       "         [134, 113,  96],\n",
       "         [141, 119, 101],\n",
       "         ...,\n",
       "         [138, 117,  98],\n",
       "         [138, 119,  99],\n",
       "         [141, 121, 101]],\n",
       "\n",
       "        [[145, 125, 104],\n",
       "         [142, 123, 101],\n",
       "         [124, 106,  87],\n",
       "         ...,\n",
       "         [145, 124, 106],\n",
       "         [143, 123, 104],\n",
       "         [141, 120, 102]],\n",
       "\n",
       "        [[153, 134, 112],\n",
       "         [152, 131, 109],\n",
       "         [140, 121, 101],\n",
       "         ...,\n",
       "         [145, 123, 105],\n",
       "         [145, 124, 105],\n",
       "         [141, 120, 102]]],\n",
       "\n",
       "\n",
       "       [[[211, 219, 222],\n",
       "         [211, 218, 223],\n",
       "         [211, 218, 223],\n",
       "         ...,\n",
       "         [151, 160, 164],\n",
       "         [151, 160, 165],\n",
       "         [151, 159, 165]],\n",
       "\n",
       "        [[209, 217, 221],\n",
       "         [209, 217, 222],\n",
       "         [209, 217, 221],\n",
       "         ...,\n",
       "         [152, 161, 164],\n",
       "         [151, 159, 164],\n",
       "         [151, 159, 164]],\n",
       "\n",
       "        [[209, 217, 221],\n",
       "         [209, 217, 222],\n",
       "         [210, 217, 222],\n",
       "         ...,\n",
       "         [151, 158, 163],\n",
       "         [151, 158, 163],\n",
       "         [151, 159, 164]],\n",
       "\n",
       "        ...,\n",
       "\n",
       "        [[156, 130, 106],\n",
       "         [158, 132, 107],\n",
       "         [156, 129, 105],\n",
       "         ...,\n",
       "         [143, 118,  95],\n",
       "         [146, 119,  95],\n",
       "         [148, 121,  97]],\n",
       "\n",
       "        [[157, 130, 105],\n",
       "         [156, 129, 106],\n",
       "         [156, 130, 106],\n",
       "         ...,\n",
       "         [145, 118,  97],\n",
       "         [147, 120,  96],\n",
       "         [149, 121,  97]],\n",
       "\n",
       "        [[160, 134, 108],\n",
       "         [157, 131, 106],\n",
       "         [156, 129, 106],\n",
       "         ...,\n",
       "         [145, 118,  95],\n",
       "         [151, 124, 100],\n",
       "         [150, 124, 100]]],\n",
       "\n",
       "\n",
       "       [[[208, 219, 224],\n",
       "         [208, 218, 224],\n",
       "         [207, 217, 223],\n",
       "         ...,\n",
       "         [164, 180, 193],\n",
       "         [166, 182, 196],\n",
       "         [166, 182, 196]],\n",
       "\n",
       "        [[206, 217, 223],\n",
       "         [206, 217, 223],\n",
       "         [206, 217, 223],\n",
       "         ...,\n",
       "         [164, 182, 195],\n",
       "         [165, 182, 196],\n",
       "         [166, 181, 196]],\n",
       "\n",
       "        [[206, 218, 224],\n",
       "         [207, 218, 224],\n",
       "         [206, 217, 224],\n",
       "         ...,\n",
       "         [163, 181, 195],\n",
       "         [164, 181, 196],\n",
       "         [164, 181, 197]],\n",
       "\n",
       "        ...,\n",
       "\n",
       "        [[187, 162, 132],\n",
       "         [184, 158, 130],\n",
       "         [187, 162, 133],\n",
       "         ...,\n",
       "         [134, 112,  92],\n",
       "         [136, 114,  93],\n",
       "         [136, 114,  94]],\n",
       "\n",
       "        [[189, 162, 132],\n",
       "         [188, 161, 132],\n",
       "         [188, 160, 132],\n",
       "         ...,\n",
       "         [134, 113,  93],\n",
       "         [135, 113,  93],\n",
       "         [135, 112,  94]],\n",
       "\n",
       "        [[190, 165, 134],\n",
       "         [187, 162, 132],\n",
       "         [186, 160, 130],\n",
       "         ...,\n",
       "         [135, 113,  93],\n",
       "         [139, 116,  96],\n",
       "         [138, 115,  96]]]], dtype=uint8)"
      ]
     },
     "execution_count": 63,
     "metadata": {},
     "output_type": "execute_result"
    }
   ],
   "source": [
    "for i in black_imgs[::-1]:\n",
    "    print(i)\n",
    "    prompts.pop(i)"
   ]
  },
  {
   "cell_type": "code",
   "execution_count": 65,
   "id": "e6453d79-4b7f-4ed1-befc-10911c134366",
   "metadata": {
    "tags": []
   },
   "outputs": [],
   "source": [
    "del_black_imgs = np.delete(del_black_imgs, black_imgs,0)"
   ]
  },
  {
   "cell_type": "code",
   "execution_count": 66,
   "id": "47cc57b7-59c2-46a5-9568-20b824731c59",
   "metadata": {
    "tags": []
   },
   "outputs": [
    {
     "name": "stdout",
     "output_type": "stream",
     "text": [
      "CLIP score: 17.7992\n"
     ]
    }
   ],
   "source": [
    "from torchmetrics.functional.multimodal import clip_score\n",
    "from functools import partial\n",
    "\n",
    "clip_score_fn = partial(clip_score, model_name_or_path=\"openai/clip-vit-base-patch16\")\n",
    "\n",
    "def calculate_clip_score(images, prompts):\n",
    "    images_int = (images * 255).astype(\"uint8\")\n",
    "    clip_score = clip_score_fn(torch.from_numpy(images_int).permute(0, 3, 1, 2), prompts).detach()\n",
    "    return round(float(clip_score), 4)\n",
    "\n",
    "sd_clip_score = calculate_clip_score(del_black_imgs, prompts)\n",
    "print(f\"CLIP score: {sd_clip_score}\")"
   ]
  }
 ],
 "metadata": {
  "kernelspec": {
   "display_name": "Python 3 (ipykernel)",
   "language": "python",
   "name": "python3"
  },
  "language_info": {
   "codemirror_mode": {
    "name": "ipython",
    "version": 3
   },
   "file_extension": ".py",
   "mimetype": "text/x-python",
   "name": "python",
   "nbconvert_exporter": "python",
   "pygments_lexer": "ipython3",
   "version": "3.10.6"
  }
 },
 "nbformat": 4,
 "nbformat_minor": 5
}
